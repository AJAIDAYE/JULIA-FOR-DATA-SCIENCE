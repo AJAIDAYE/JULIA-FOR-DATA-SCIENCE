{
 "cells": [
  {
   "cell_type": "code",
   "execution_count": 1,
   "id": "7086cb10",
   "metadata": {},
   "outputs": [
    {
     "data": {
      "text/plain": [
       "1000"
      ]
     },
     "execution_count": 1,
     "metadata": {},
     "output_type": "execute_result"
    }
   ],
   "source": [
    "using Pkg\n",
    "using DataFrames\n",
    "using CSV\n",
    "using GLM\n",
    "using StatsBase\n",
    "using Lathe\n",
    "using MLBase\n",
    "using ClassImbalance\n",
    "using ROCAnalysis\n",
    "\n",
    "# Enable printing of 1000 columns\n",
    "ENV[\"COLUMNS\"] = 1000"
   ]
  },
  {
   "cell_type": "code",
   "execution_count": 3,
   "id": "ce7bedca",
   "metadata": {},
   "outputs": [
    {
     "name": "stdout",
     "output_type": "stream",
     "text": [
      "  0.004679 seconds (80.00 k allocations: 2.198 MiB)\n"
     ]
    },
    {
     "data": {
      "text/html": [
       "<table class=\"data-frame\"><thead><tr><th></th><th>Date</th><th>Open</th><th>High</th><th>Low</th><th>Close</th><th>Adj Close</th><th>Volume</th></tr><tr><th></th><th>Dates…</th><th>Float64</th><th>Float64</th><th>Float64</th><th>Float64</th><th>Float64</th><th>Int64</th></tr></thead><tbody><p>5 rows × 7 columns</p><tr><th>1</th><td>Date(\"2010-06-29\")</td><td>19.0</td><td>25.0</td><td>17.54</td><td>23.89</td><td>23.89</td><td>18766300</td></tr><tr><th>2</th><td>Date(\"2010-06-30\")</td><td>25.79</td><td>30.42</td><td>23.3</td><td>23.83</td><td>23.83</td><td>17187100</td></tr><tr><th>3</th><td>Date(\"2010-07-01\")</td><td>25.0</td><td>25.92</td><td>20.27</td><td>21.96</td><td>21.96</td><td>8218800</td></tr><tr><th>4</th><td>Date(\"2010-07-02\")</td><td>23.0</td><td>23.1</td><td>18.71</td><td>19.2</td><td>19.2</td><td>5139800</td></tr><tr><th>5</th><td>Date(\"2010-07-06\")</td><td>20.0</td><td>20.0</td><td>15.83</td><td>16.11</td><td>16.11</td><td>6866900</td></tr></tbody></table>"
      ],
      "text/latex": [
       "\\begin{tabular}{r|ccccccc}\n",
       "\t& Date & Open & High & Low & Close & Adj Close & Volume\\\\\n",
       "\t\\hline\n",
       "\t& Dates… & Float64 & Float64 & Float64 & Float64 & Float64 & Int64\\\\\n",
       "\t\\hline\n",
       "\t1 & Date(\"2010-06-29\") & 19.0 & 25.0 & 17.54 & 23.89 & 23.89 & 18766300 \\\\\n",
       "\t2 & Date(\"2010-06-30\") & 25.79 & 30.42 & 23.3 & 23.83 & 23.83 & 17187100 \\\\\n",
       "\t3 & Date(\"2010-07-01\") & 25.0 & 25.92 & 20.27 & 21.96 & 21.96 & 8218800 \\\\\n",
       "\t4 & Date(\"2010-07-02\") & 23.0 & 23.1 & 18.71 & 19.2 & 19.2 & 5139800 \\\\\n",
       "\t5 & Date(\"2010-07-06\") & 20.0 & 20.0 & 15.83 & 16.11 & 16.11 & 6866900 \\\\\n",
       "\\end{tabular}\n"
      ],
      "text/plain": [
       "5×7 typename(DataFrame)\n",
       "│ Row │ Date               │ Open    │ High    │ Low     │ Close   │ Adj Close │ Volume   │\n",
       "│     │ \u001b[90mDates.Date\u001b[39m         │ \u001b[90mFloat64\u001b[39m │ \u001b[90mFloat64\u001b[39m │ \u001b[90mFloat64\u001b[39m │ \u001b[90mFloat64\u001b[39m │ \u001b[90mFloat64\u001b[39m   │ \u001b[90mInt64\u001b[39m    │\n",
       "├─────┼────────────────────┼─────────┼─────────┼─────────┼─────────┼───────────┼──────────┤\n",
       "│ 1   │ Date(\"2010-06-29\") │ 19.0    │ 25.0    │ 17.54   │ 23.89   │ 23.89     │ 18766300 │\n",
       "│ 2   │ Date(\"2010-06-30\") │ 25.79   │ 30.42   │ 23.3    │ 23.83   │ 23.83     │ 17187100 │\n",
       "│ 3   │ Date(\"2010-07-01\") │ 25.0    │ 25.92   │ 20.27   │ 21.96   │ 21.96     │ 8218800  │\n",
       "│ 4   │ Date(\"2010-07-02\") │ 23.0    │ 23.1    │ 18.71   │ 19.2    │ 19.2      │ 5139800  │\n",
       "│ 5   │ Date(\"2010-07-06\") │ 20.0    │ 20.0    │ 15.83   │ 16.11   │ 16.11     │ 6866900  │"
      ]
     },
     "execution_count": 3,
     "metadata": {},
     "output_type": "execute_result"
    }
   ],
   "source": [
    "@time begin\n",
    "df= CSV.read(\"C:\\\\Users\\\\ASUS\\\\OneDrive\\\\Desktop\\\\Data Science\\\\Project\\\\TSLA.csv\", DataFrame)\n",
    "first(df,5)\n",
    "    end"
   ]
  },
  {
   "cell_type": "code",
   "execution_count": 3,
   "id": "f82d1989",
   "metadata": {},
   "outputs": [
    {
     "data": {
      "text/plain": [
       "(2416, 7)"
      ]
     },
     "execution_count": 3,
     "metadata": {},
     "output_type": "execute_result"
    }
   ],
   "source": [
    "size(df)"
   ]
  },
  {
   "cell_type": "code",
   "execution_count": 4,
   "id": "b34d53da",
   "metadata": {},
   "outputs": [
    {
     "data": {
      "text/html": [
       "<table class=\"data-frame\"><thead><tr><th></th><th>Date</th><th>Open</th><th>High</th><th>Low</th><th>Close</th><th>Adj Close</th><th>Volume</th></tr><tr><th></th><th>Dates…</th><th>Float64</th><th>Float64</th><th>Float64</th><th>Float64</th><th>Float64</th><th>Int64</th></tr></thead><tbody><p>2,416 rows × 7 columns</p><tr><th>1</th><td>Date(\"2010-06-29\")</td><td>19.0</td><td>25.0</td><td>17.54</td><td>23.89</td><td>23.89</td><td>18766300</td></tr><tr><th>2</th><td>Date(\"2010-06-30\")</td><td>25.79</td><td>30.42</td><td>23.3</td><td>23.83</td><td>23.83</td><td>17187100</td></tr><tr><th>3</th><td>Date(\"2010-07-01\")</td><td>25.0</td><td>25.92</td><td>20.27</td><td>21.96</td><td>21.96</td><td>8218800</td></tr><tr><th>4</th><td>Date(\"2010-07-02\")</td><td>23.0</td><td>23.1</td><td>18.71</td><td>19.2</td><td>19.2</td><td>5139800</td></tr><tr><th>5</th><td>Date(\"2010-07-06\")</td><td>20.0</td><td>20.0</td><td>15.83</td><td>16.11</td><td>16.11</td><td>6866900</td></tr><tr><th>6</th><td>Date(\"2010-07-07\")</td><td>16.4</td><td>16.63</td><td>14.98</td><td>15.8</td><td>15.8</td><td>6921700</td></tr><tr><th>7</th><td>Date(\"2010-07-08\")</td><td>16.14</td><td>17.52</td><td>15.57</td><td>17.46</td><td>17.46</td><td>7711400</td></tr><tr><th>8</th><td>Date(\"2010-07-09\")</td><td>17.58</td><td>17.9</td><td>16.55</td><td>17.4</td><td>17.4</td><td>4050600</td></tr><tr><th>9</th><td>Date(\"2010-07-12\")</td><td>17.95</td><td>18.07</td><td>17.0</td><td>17.05</td><td>17.05</td><td>2202500</td></tr><tr><th>10</th><td>Date(\"2010-07-13\")</td><td>17.39</td><td>18.64</td><td>16.9</td><td>18.14</td><td>18.14</td><td>2680100</td></tr><tr><th>11</th><td>Date(\"2010-07-14\")</td><td>17.94</td><td>20.15</td><td>17.76</td><td>19.84</td><td>19.84</td><td>4195200</td></tr><tr><th>12</th><td>Date(\"2010-07-15\")</td><td>19.94</td><td>21.5</td><td>19.0</td><td>19.89</td><td>19.89</td><td>3739800</td></tr><tr><th>13</th><td>Date(\"2010-07-16\")</td><td>20.7</td><td>21.3</td><td>20.05</td><td>20.64</td><td>20.64</td><td>2621300</td></tr><tr><th>14</th><td>Date(\"2010-07-19\")</td><td>21.37</td><td>22.25</td><td>20.92</td><td>21.91</td><td>21.91</td><td>2486500</td></tr><tr><th>15</th><td>Date(\"2010-07-20\")</td><td>21.85</td><td>21.85</td><td>20.05</td><td>20.3</td><td>20.3</td><td>1825300</td></tr><tr><th>16</th><td>Date(\"2010-07-21\")</td><td>20.66</td><td>20.9</td><td>19.5</td><td>20.22</td><td>20.22</td><td>1252500</td></tr><tr><th>17</th><td>Date(\"2010-07-22\")</td><td>20.5</td><td>21.25</td><td>20.37</td><td>21.0</td><td>21.0</td><td>957800</td></tr><tr><th>18</th><td>Date(\"2010-07-23\")</td><td>21.19</td><td>21.56</td><td>21.06</td><td>21.29</td><td>21.29</td><td>653600</td></tr><tr><th>19</th><td>Date(\"2010-07-26\")</td><td>21.5</td><td>21.5</td><td>20.3</td><td>20.95</td><td>20.95</td><td>922200</td></tr><tr><th>20</th><td>Date(\"2010-07-27\")</td><td>20.91</td><td>21.18</td><td>20.26</td><td>20.55</td><td>20.55</td><td>619700</td></tr><tr><th>21</th><td>Date(\"2010-07-28\")</td><td>20.55</td><td>20.9</td><td>20.51</td><td>20.72</td><td>20.72</td><td>467200</td></tr><tr><th>22</th><td>Date(\"2010-07-29\")</td><td>20.77</td><td>20.88</td><td>20.0</td><td>20.35</td><td>20.35</td><td>616000</td></tr><tr><th>23</th><td>Date(\"2010-07-30\")</td><td>20.2</td><td>20.44</td><td>19.55</td><td>19.94</td><td>19.94</td><td>426900</td></tr><tr><th>24</th><td>Date(\"2010-08-02\")</td><td>20.5</td><td>20.97</td><td>20.33</td><td>20.92</td><td>20.92</td><td>718100</td></tr><tr><th>25</th><td>Date(\"2010-08-03\")</td><td>21.0</td><td>21.95</td><td>20.82</td><td>21.95</td><td>21.95</td><td>1230500</td></tr><tr><th>26</th><td>Date(\"2010-08-04\")</td><td>21.95</td><td>22.18</td><td>20.85</td><td>21.26</td><td>21.26</td><td>913000</td></tr><tr><th>27</th><td>Date(\"2010-08-05\")</td><td>21.54</td><td>21.55</td><td>20.05</td><td>20.45</td><td>20.45</td><td>796200</td></tr><tr><th>28</th><td>Date(\"2010-08-06\")</td><td>20.1</td><td>20.16</td><td>19.52</td><td>19.59</td><td>19.59</td><td>741900</td></tr><tr><th>29</th><td>Date(\"2010-08-09\")</td><td>19.9</td><td>19.98</td><td>19.45</td><td>19.6</td><td>19.6</td><td>812700</td></tr><tr><th>30</th><td>Date(\"2010-08-10\")</td><td>19.65</td><td>19.65</td><td>18.82</td><td>19.03</td><td>19.03</td><td>1281300</td></tr><tr><th>&vellip;</th><td>&vellip;</td><td>&vellip;</td><td>&vellip;</td><td>&vellip;</td><td>&vellip;</td><td>&vellip;</td><td>&vellip;</td></tr></tbody></table>"
      ],
      "text/latex": [
       "\\begin{tabular}{r|ccccccc}\n",
       "\t& Date & Open & High & Low & Close & Adj Close & Volume\\\\\n",
       "\t\\hline\n",
       "\t& Dates… & Float64 & Float64 & Float64 & Float64 & Float64 & Int64\\\\\n",
       "\t\\hline\n",
       "\t1 & Date(\"2010-06-29\") & 19.0 & 25.0 & 17.54 & 23.89 & 23.89 & 18766300 \\\\\n",
       "\t2 & Date(\"2010-06-30\") & 25.79 & 30.42 & 23.3 & 23.83 & 23.83 & 17187100 \\\\\n",
       "\t3 & Date(\"2010-07-01\") & 25.0 & 25.92 & 20.27 & 21.96 & 21.96 & 8218800 \\\\\n",
       "\t4 & Date(\"2010-07-02\") & 23.0 & 23.1 & 18.71 & 19.2 & 19.2 & 5139800 \\\\\n",
       "\t5 & Date(\"2010-07-06\") & 20.0 & 20.0 & 15.83 & 16.11 & 16.11 & 6866900 \\\\\n",
       "\t6 & Date(\"2010-07-07\") & 16.4 & 16.63 & 14.98 & 15.8 & 15.8 & 6921700 \\\\\n",
       "\t7 & Date(\"2010-07-08\") & 16.14 & 17.52 & 15.57 & 17.46 & 17.46 & 7711400 \\\\\n",
       "\t8 & Date(\"2010-07-09\") & 17.58 & 17.9 & 16.55 & 17.4 & 17.4 & 4050600 \\\\\n",
       "\t9 & Date(\"2010-07-12\") & 17.95 & 18.07 & 17.0 & 17.05 & 17.05 & 2202500 \\\\\n",
       "\t10 & Date(\"2010-07-13\") & 17.39 & 18.64 & 16.9 & 18.14 & 18.14 & 2680100 \\\\\n",
       "\t11 & Date(\"2010-07-14\") & 17.94 & 20.15 & 17.76 & 19.84 & 19.84 & 4195200 \\\\\n",
       "\t12 & Date(\"2010-07-15\") & 19.94 & 21.5 & 19.0 & 19.89 & 19.89 & 3739800 \\\\\n",
       "\t13 & Date(\"2010-07-16\") & 20.7 & 21.3 & 20.05 & 20.64 & 20.64 & 2621300 \\\\\n",
       "\t14 & Date(\"2010-07-19\") & 21.37 & 22.25 & 20.92 & 21.91 & 21.91 & 2486500 \\\\\n",
       "\t15 & Date(\"2010-07-20\") & 21.85 & 21.85 & 20.05 & 20.3 & 20.3 & 1825300 \\\\\n",
       "\t16 & Date(\"2010-07-21\") & 20.66 & 20.9 & 19.5 & 20.22 & 20.22 & 1252500 \\\\\n",
       "\t17 & Date(\"2010-07-22\") & 20.5 & 21.25 & 20.37 & 21.0 & 21.0 & 957800 \\\\\n",
       "\t18 & Date(\"2010-07-23\") & 21.19 & 21.56 & 21.06 & 21.29 & 21.29 & 653600 \\\\\n",
       "\t19 & Date(\"2010-07-26\") & 21.5 & 21.5 & 20.3 & 20.95 & 20.95 & 922200 \\\\\n",
       "\t20 & Date(\"2010-07-27\") & 20.91 & 21.18 & 20.26 & 20.55 & 20.55 & 619700 \\\\\n",
       "\t21 & Date(\"2010-07-28\") & 20.55 & 20.9 & 20.51 & 20.72 & 20.72 & 467200 \\\\\n",
       "\t22 & Date(\"2010-07-29\") & 20.77 & 20.88 & 20.0 & 20.35 & 20.35 & 616000 \\\\\n",
       "\t23 & Date(\"2010-07-30\") & 20.2 & 20.44 & 19.55 & 19.94 & 19.94 & 426900 \\\\\n",
       "\t24 & Date(\"2010-08-02\") & 20.5 & 20.97 & 20.33 & 20.92 & 20.92 & 718100 \\\\\n",
       "\t25 & Date(\"2010-08-03\") & 21.0 & 21.95 & 20.82 & 21.95 & 21.95 & 1230500 \\\\\n",
       "\t26 & Date(\"2010-08-04\") & 21.95 & 22.18 & 20.85 & 21.26 & 21.26 & 913000 \\\\\n",
       "\t27 & Date(\"2010-08-05\") & 21.54 & 21.55 & 20.05 & 20.45 & 20.45 & 796200 \\\\\n",
       "\t28 & Date(\"2010-08-06\") & 20.1 & 20.16 & 19.52 & 19.59 & 19.59 & 741900 \\\\\n",
       "\t29 & Date(\"2010-08-09\") & 19.9 & 19.98 & 19.45 & 19.6 & 19.6 & 812700 \\\\\n",
       "\t30 & Date(\"2010-08-10\") & 19.65 & 19.65 & 18.82 & 19.03 & 19.03 & 1281300 \\\\\n",
       "\t$\\dots$ & $\\dots$ & $\\dots$ & $\\dots$ & $\\dots$ & $\\dots$ & $\\dots$ & $\\dots$ \\\\\n",
       "\\end{tabular}\n"
      ],
      "text/plain": [
       "2416×7 typename(DataFrame)\n",
       "│ Row  │ Date               │ Open    │ High    │ Low     │ Close   │ Adj Close │ Volume   │\n",
       "│      │ \u001b[90mDates.Date\u001b[39m         │ \u001b[90mFloat64\u001b[39m │ \u001b[90mFloat64\u001b[39m │ \u001b[90mFloat64\u001b[39m │ \u001b[90mFloat64\u001b[39m │ \u001b[90mFloat64\u001b[39m   │ \u001b[90mInt64\u001b[39m    │\n",
       "├──────┼────────────────────┼─────────┼─────────┼─────────┼─────────┼───────────┼──────────┤\n",
       "│ 1    │ Date(\"2010-06-29\") │ 19.0    │ 25.0    │ 17.54   │ 23.89   │ 23.89     │ 18766300 │\n",
       "│ 2    │ Date(\"2010-06-30\") │ 25.79   │ 30.42   │ 23.3    │ 23.83   │ 23.83     │ 17187100 │\n",
       "│ 3    │ Date(\"2010-07-01\") │ 25.0    │ 25.92   │ 20.27   │ 21.96   │ 21.96     │ 8218800  │\n",
       "│ 4    │ Date(\"2010-07-02\") │ 23.0    │ 23.1    │ 18.71   │ 19.2    │ 19.2      │ 5139800  │\n",
       "│ 5    │ Date(\"2010-07-06\") │ 20.0    │ 20.0    │ 15.83   │ 16.11   │ 16.11     │ 6866900  │\n",
       "│ 6    │ Date(\"2010-07-07\") │ 16.4    │ 16.63   │ 14.98   │ 15.8    │ 15.8      │ 6921700  │\n",
       "│ 7    │ Date(\"2010-07-08\") │ 16.14   │ 17.52   │ 15.57   │ 17.46   │ 17.46     │ 7711400  │\n",
       "│ 8    │ Date(\"2010-07-09\") │ 17.58   │ 17.9    │ 16.55   │ 17.4    │ 17.4      │ 4050600  │\n",
       "│ 9    │ Date(\"2010-07-12\") │ 17.95   │ 18.07   │ 17.0    │ 17.05   │ 17.05     │ 2202500  │\n",
       "│ 10   │ Date(\"2010-07-13\") │ 17.39   │ 18.64   │ 16.9    │ 18.14   │ 18.14     │ 2680100  │\n",
       "⋮\n",
       "│ 2406 │ Date(\"2020-01-17\") │ 507.61  │ 515.67  │ 503.16  │ 510.5   │ 510.5     │ 13629100 │\n",
       "│ 2407 │ Date(\"2020-01-21\") │ 530.25  │ 548.58  │ 528.41  │ 547.2   │ 547.2     │ 17803500 │\n",
       "│ 2408 │ Date(\"2020-01-22\") │ 571.89  │ 594.5   │ 559.1   │ 569.56  │ 569.56    │ 31369000 │\n",
       "│ 2409 │ Date(\"2020-01-23\") │ 564.25  │ 582.0   │ 555.6   │ 572.2   │ 572.2     │ 19651000 │\n",
       "│ 2410 │ Date(\"2020-01-24\") │ 570.63  │ 573.86  │ 554.26  │ 564.82  │ 564.82    │ 14353600 │\n",
       "│ 2411 │ Date(\"2020-01-27\") │ 541.99  │ 564.44  │ 539.28  │ 558.02  │ 558.02    │ 13608100 │\n",
       "│ 2412 │ Date(\"2020-01-28\") │ 568.49  │ 576.81  │ 558.08  │ 566.9   │ 566.9     │ 11788500 │\n",
       "│ 2413 │ Date(\"2020-01-29\") │ 575.69  │ 589.8   │ 567.43  │ 580.99  │ 580.99    │ 17801500 │\n",
       "│ 2414 │ Date(\"2020-01-30\") │ 632.42  │ 650.88  │ 618.0   │ 640.81  │ 640.81    │ 29005700 │\n",
       "│ 2415 │ Date(\"2020-01-31\") │ 640.0   │ 653.0   │ 632.52  │ 650.57  │ 650.57    │ 15719300 │\n",
       "│ 2416 │ Date(\"2020-02-03\") │ 673.69  │ 786.14  │ 673.52  │ 780.0   │ 780.0     │ 47065000 │"
      ]
     },
     "execution_count": 4,
     "metadata": {},
     "output_type": "execute_result"
    }
   ],
   "source": [
    "df = dropmissing(df)"
   ]
  },
  {
   "cell_type": "code",
   "execution_count": 5,
   "id": "d23c3e95",
   "metadata": {},
   "outputs": [
    {
     "name": "stdout",
     "output_type": "stream",
     "text": [
      "false\n"
     ]
    }
   ],
   "source": [
    "missing_elements = ismissing(df)\n",
    "println(missing_elements)"
   ]
  },
  {
   "cell_type": "code",
   "execution_count": 6,
   "id": "f53305fb",
   "metadata": {},
   "outputs": [
    {
     "data": {
      "text/html": [
       "<table class=\"data-frame\"><thead><tr><th></th><th>variable</th><th>mean</th><th>min</th><th>median</th><th>max</th><th>nunique</th><th>nmissing</th><th>eltype</th></tr><tr><th></th><th>Symbol</th><th>Union…</th><th>Any</th><th>Union…</th><th>Any</th><th>Union…</th><th>Nothing</th><th>DataType</th></tr></thead><tbody><p>7 rows × 8 columns</p><tr><th>1</th><td>Date</td><td></td><td>Date(\"2010-06-29\")</td><td></td><td>Date(\"2020-02-03\")</td><td>2416</td><td></td><td>Date</td></tr><tr><th>2</th><td>Open</td><td>186.271</td><td>16.14</td><td>213.035</td><td>673.69</td><td></td><td></td><td>Float64</td></tr><tr><th>3</th><td>High</td><td>189.578</td><td>16.63</td><td>216.745</td><td>786.14</td><td></td><td></td><td>Float64</td></tr><tr><th>4</th><td>Low</td><td>182.917</td><td>14.98</td><td>208.87</td><td>673.52</td><td></td><td></td><td>Float64</td></tr><tr><th>5</th><td>Close</td><td>186.404</td><td>15.8</td><td>212.96</td><td>780.0</td><td></td><td></td><td>Float64</td></tr><tr><th>6</th><td>Adj Close</td><td>186.404</td><td>15.8</td><td>212.96</td><td>780.0</td><td></td><td></td><td>Float64</td></tr><tr><th>7</th><td>Volume</td><td>5.57272e6</td><td>118500</td><td>4.5784e6</td><td>47065000</td><td></td><td></td><td>Int64</td></tr></tbody></table>"
      ],
      "text/latex": [
       "\\begin{tabular}{r|cccccccc}\n",
       "\t& variable & mean & min & median & max & nunique & nmissing & eltype\\\\\n",
       "\t\\hline\n",
       "\t& Symbol & Union… & Any & Union… & Any & Union… & Nothing & DataType\\\\\n",
       "\t\\hline\n",
       "\t1 & Date &  & Date(\"2010-06-29\") &  & Date(\"2020-02-03\") & 2416 &  & Date \\\\\n",
       "\t2 & Open & 186.271 & 16.14 & 213.035 & 673.69 &  &  & Float64 \\\\\n",
       "\t3 & High & 189.578 & 16.63 & 216.745 & 786.14 &  &  & Float64 \\\\\n",
       "\t4 & Low & 182.917 & 14.98 & 208.87 & 673.52 &  &  & Float64 \\\\\n",
       "\t5 & Close & 186.404 & 15.8 & 212.96 & 780.0 &  &  & Float64 \\\\\n",
       "\t6 & Adj Close & 186.404 & 15.8 & 212.96 & 780.0 &  &  & Float64 \\\\\n",
       "\t7 & Volume & 5.57272e6 & 118500 & 4.5784e6 & 47065000 &  &  & Int64 \\\\\n",
       "\\end{tabular}\n"
      ],
      "text/plain": [
       "7×8 typename(DataFrame)\n",
       "│ Row │ variable  │ mean      │ min                │ median   │ max                │ nunique │ nmissing │ eltype   │\n",
       "│     │ \u001b[90mSymbol\u001b[39m    │ \u001b[90mUnion…\u001b[39m    │ \u001b[90mAny\u001b[39m                │ \u001b[90mUnion…\u001b[39m   │ \u001b[90mAny\u001b[39m                │ \u001b[90mUnion…\u001b[39m  │ \u001b[90mNothing\u001b[39m  │ \u001b[90mDataType\u001b[39m │\n",
       "├─────┼───────────┼───────────┼────────────────────┼──────────┼────────────────────┼─────────┼──────────┼──────────┤\n",
       "│ 1   │ Date      │           │ Date(\"2010-06-29\") │          │ Date(\"2020-02-03\") │ 2416    │          │ Date     │\n",
       "│ 2   │ Open      │ 186.271   │ 16.14              │ 213.035  │ 673.69             │         │          │ Float64  │\n",
       "│ 3   │ High      │ 189.578   │ 16.63              │ 216.745  │ 786.14             │         │          │ Float64  │\n",
       "│ 4   │ Low       │ 182.917   │ 14.98              │ 208.87   │ 673.52             │         │          │ Float64  │\n",
       "│ 5   │ Close     │ 186.404   │ 15.8               │ 212.96   │ 780.0              │         │          │ Float64  │\n",
       "│ 6   │ Adj Close │ 186.404   │ 15.8               │ 212.96   │ 780.0              │         │          │ Float64  │\n",
       "│ 7   │ Volume    │ 5.57272e6 │ 118500             │ 4.5784e6 │ 47065000           │         │          │ Int64    │"
      ]
     },
     "execution_count": 6,
     "metadata": {},
     "output_type": "execute_result"
    }
   ],
   "source": [
    "describe(df)"
   ]
  },
  {
   "cell_type": "code",
   "execution_count": 7,
   "id": "3d7b3764",
   "metadata": {},
   "outputs": [
    {
     "data": {
      "text/plain": [
       "7-element Vector{Symbol}:\n",
       " :Date\n",
       " :Open\n",
       " :High\n",
       " :Low\n",
       " :Close\n",
       " Symbol(\"Adj Close\")\n",
       " :Volume"
      ]
     },
     "execution_count": 7,
     "metadata": {},
     "output_type": "execute_result"
    }
   ],
   "source": [
    "names(df)"
   ]
  },
  {
   "cell_type": "code",
   "execution_count": 8,
   "id": "47e57e89",
   "metadata": {},
   "outputs": [],
   "source": [
    "colnames = Symbol[]\n",
    "for i in string.(names(df))\n",
    "    push!(colnames,Symbol(replace(replace(replace(strip(i),\" \" => \"_\"),\"-\" => \"_\"), \"/\" => \"_\")))\n",
    "end\n",
    "\n",
    "rename!(df, colnames);"
   ]
  },
  {
   "cell_type": "code",
   "execution_count": 9,
   "id": "01ae6b76",
   "metadata": {},
   "outputs": [
    {
     "data": {
      "text/plain": [
       "7-element Vector{Symbol}:\n",
       " :Date\n",
       " :Open\n",
       " :High\n",
       " :Low\n",
       " :Close\n",
       " :Adj_Close\n",
       " :Volume"
      ]
     },
     "execution_count": 9,
     "metadata": {},
     "output_type": "execute_result"
    }
   ],
   "source": [
    "names(df)"
   ]
  },
  {
   "cell_type": "code",
   "execution_count": 10,
   "id": "68a0e512",
   "metadata": {},
   "outputs": [
    {
     "data": {
      "text/html": [
       "<table class=\"data-frame\"><thead><tr><th></th><th>Open</th><th>High</th><th>Low</th><th>Close</th><th>Adj_Close</th><th>Volume</th><th>2010-06-29</th><th>2010-06-30</th><th>2010-07-01</th><th>2010-07-02</th><th>2010-07-06</th><th>2010-07-07</th><th>2010-07-08</th><th>2010-07-09</th><th>2010-07-12</th><th>2010-07-13</th><th>2010-07-14</th><th>2010-07-15</th><th>2010-07-16</th><th>2010-07-19</th><th>2010-07-20</th><th>2010-07-21</th><th>2010-07-22</th><th>2010-07-23</th><th>2010-07-26</th><th>2010-07-27</th><th>2010-07-28</th><th>2010-07-29</th><th>2010-07-30</th><th>2010-08-02</th><th>2010-08-03</th><th>2010-08-04</th><th>2010-08-05</th><th>2010-08-06</th><th>2010-08-09</th><th>2010-08-10</th><th>2010-08-11</th><th>2010-08-12</th><th>2010-08-13</th><th>2010-08-16</th><th>2010-08-17</th><th>2010-08-18</th><th>2010-08-19</th><th>2010-08-20</th><th>2010-08-23</th><th>2010-08-24</th><th>2010-08-25</th><th>2010-08-26</th><th>2010-08-27</th><th>2010-08-30</th><th>2010-08-31</th><th>2010-09-01</th><th>2010-09-02</th><th>2010-09-03</th><th>2010-09-07</th><th>2010-09-08</th><th>2010-09-09</th><th>2010-09-10</th><th>2010-09-13</th><th>2010-09-14</th><th>2010-09-15</th><th>2010-09-16</th><th>2010-09-17</th><th>2010-09-20</th><th>2010-09-21</th><th>2010-09-22</th><th>2010-09-23</th><th>2010-09-24</th><th>2010-09-27</th><th>2010-09-28</th><th>2010-09-29</th><th>2010-09-30</th><th>2010-10-01</th><th>2010-10-04</th><th>2010-10-05</th><th>2010-10-06</th><th>2010-10-07</th><th>2010-10-08</th><th>2010-10-11</th><th>2010-10-12</th><th>2010-10-13</th><th>2010-10-14</th><th>2010-10-15</th><th>2010-10-18</th><th>2010-10-19</th></tr><tr><th></th><th>Float64</th><th>Float64</th><th>Float64</th><th>Float64</th><th>Float64</th><th>Int64</th><th>Bool</th><th>Bool</th><th>Bool</th><th>Bool</th><th>Bool</th><th>Bool</th><th>Bool</th><th>Bool</th><th>Bool</th><th>Bool</th><th>Bool</th><th>Bool</th><th>Bool</th><th>Bool</th><th>Bool</th><th>Bool</th><th>Bool</th><th>Bool</th><th>Bool</th><th>Bool</th><th>Bool</th><th>Bool</th><th>Bool</th><th>Bool</th><th>Bool</th><th>Bool</th><th>Bool</th><th>Bool</th><th>Bool</th><th>Bool</th><th>Bool</th><th>Bool</th><th>Bool</th><th>Bool</th><th>Bool</th><th>Bool</th><th>Bool</th><th>Bool</th><th>Bool</th><th>Bool</th><th>Bool</th><th>Bool</th><th>Bool</th><th>Bool</th><th>Bool</th><th>Bool</th><th>Bool</th><th>Bool</th><th>Bool</th><th>Bool</th><th>Bool</th><th>Bool</th><th>Bool</th><th>Bool</th><th>Bool</th><th>Bool</th><th>Bool</th><th>Bool</th><th>Bool</th><th>Bool</th><th>Bool</th><th>Bool</th><th>Bool</th><th>Bool</th><th>Bool</th><th>Bool</th><th>Bool</th><th>Bool</th><th>Bool</th><th>Bool</th><th>Bool</th><th>Bool</th><th>Bool</th><th>Bool</th><th>Bool</th><th>Bool</th><th>Bool</th><th>Bool</th><th>Bool</th></tr></thead><tbody><p>5 rows × 2,422 columns (omitted printing of 2337 columns)</p><tr><th>1</th><td>19.0</td><td>25.0</td><td>17.54</td><td>23.89</td><td>23.89</td><td>18766300</td><td>1</td><td>0</td><td>0</td><td>0</td><td>0</td><td>0</td><td>0</td><td>0</td><td>0</td><td>0</td><td>0</td><td>0</td><td>0</td><td>0</td><td>0</td><td>0</td><td>0</td><td>0</td><td>0</td><td>0</td><td>0</td><td>0</td><td>0</td><td>0</td><td>0</td><td>0</td><td>0</td><td>0</td><td>0</td><td>0</td><td>0</td><td>0</td><td>0</td><td>0</td><td>0</td><td>0</td><td>0</td><td>0</td><td>0</td><td>0</td><td>0</td><td>0</td><td>0</td><td>0</td><td>0</td><td>0</td><td>0</td><td>0</td><td>0</td><td>0</td><td>0</td><td>0</td><td>0</td><td>0</td><td>0</td><td>0</td><td>0</td><td>0</td><td>0</td><td>0</td><td>0</td><td>0</td><td>0</td><td>0</td><td>0</td><td>0</td><td>0</td><td>0</td><td>0</td><td>0</td><td>0</td><td>0</td><td>0</td><td>0</td><td>0</td><td>0</td><td>0</td><td>0</td><td>0</td></tr><tr><th>2</th><td>25.79</td><td>30.42</td><td>23.3</td><td>23.83</td><td>23.83</td><td>17187100</td><td>0</td><td>1</td><td>0</td><td>0</td><td>0</td><td>0</td><td>0</td><td>0</td><td>0</td><td>0</td><td>0</td><td>0</td><td>0</td><td>0</td><td>0</td><td>0</td><td>0</td><td>0</td><td>0</td><td>0</td><td>0</td><td>0</td><td>0</td><td>0</td><td>0</td><td>0</td><td>0</td><td>0</td><td>0</td><td>0</td><td>0</td><td>0</td><td>0</td><td>0</td><td>0</td><td>0</td><td>0</td><td>0</td><td>0</td><td>0</td><td>0</td><td>0</td><td>0</td><td>0</td><td>0</td><td>0</td><td>0</td><td>0</td><td>0</td><td>0</td><td>0</td><td>0</td><td>0</td><td>0</td><td>0</td><td>0</td><td>0</td><td>0</td><td>0</td><td>0</td><td>0</td><td>0</td><td>0</td><td>0</td><td>0</td><td>0</td><td>0</td><td>0</td><td>0</td><td>0</td><td>0</td><td>0</td><td>0</td><td>0</td><td>0</td><td>0</td><td>0</td><td>0</td><td>0</td></tr><tr><th>3</th><td>25.0</td><td>25.92</td><td>20.27</td><td>21.96</td><td>21.96</td><td>8218800</td><td>0</td><td>0</td><td>1</td><td>0</td><td>0</td><td>0</td><td>0</td><td>0</td><td>0</td><td>0</td><td>0</td><td>0</td><td>0</td><td>0</td><td>0</td><td>0</td><td>0</td><td>0</td><td>0</td><td>0</td><td>0</td><td>0</td><td>0</td><td>0</td><td>0</td><td>0</td><td>0</td><td>0</td><td>0</td><td>0</td><td>0</td><td>0</td><td>0</td><td>0</td><td>0</td><td>0</td><td>0</td><td>0</td><td>0</td><td>0</td><td>0</td><td>0</td><td>0</td><td>0</td><td>0</td><td>0</td><td>0</td><td>0</td><td>0</td><td>0</td><td>0</td><td>0</td><td>0</td><td>0</td><td>0</td><td>0</td><td>0</td><td>0</td><td>0</td><td>0</td><td>0</td><td>0</td><td>0</td><td>0</td><td>0</td><td>0</td><td>0</td><td>0</td><td>0</td><td>0</td><td>0</td><td>0</td><td>0</td><td>0</td><td>0</td><td>0</td><td>0</td><td>0</td><td>0</td></tr><tr><th>4</th><td>23.0</td><td>23.1</td><td>18.71</td><td>19.2</td><td>19.2</td><td>5139800</td><td>0</td><td>0</td><td>0</td><td>1</td><td>0</td><td>0</td><td>0</td><td>0</td><td>0</td><td>0</td><td>0</td><td>0</td><td>0</td><td>0</td><td>0</td><td>0</td><td>0</td><td>0</td><td>0</td><td>0</td><td>0</td><td>0</td><td>0</td><td>0</td><td>0</td><td>0</td><td>0</td><td>0</td><td>0</td><td>0</td><td>0</td><td>0</td><td>0</td><td>0</td><td>0</td><td>0</td><td>0</td><td>0</td><td>0</td><td>0</td><td>0</td><td>0</td><td>0</td><td>0</td><td>0</td><td>0</td><td>0</td><td>0</td><td>0</td><td>0</td><td>0</td><td>0</td><td>0</td><td>0</td><td>0</td><td>0</td><td>0</td><td>0</td><td>0</td><td>0</td><td>0</td><td>0</td><td>0</td><td>0</td><td>0</td><td>0</td><td>0</td><td>0</td><td>0</td><td>0</td><td>0</td><td>0</td><td>0</td><td>0</td><td>0</td><td>0</td><td>0</td><td>0</td><td>0</td></tr><tr><th>5</th><td>20.0</td><td>20.0</td><td>15.83</td><td>16.11</td><td>16.11</td><td>6866900</td><td>0</td><td>0</td><td>0</td><td>0</td><td>1</td><td>0</td><td>0</td><td>0</td><td>0</td><td>0</td><td>0</td><td>0</td><td>0</td><td>0</td><td>0</td><td>0</td><td>0</td><td>0</td><td>0</td><td>0</td><td>0</td><td>0</td><td>0</td><td>0</td><td>0</td><td>0</td><td>0</td><td>0</td><td>0</td><td>0</td><td>0</td><td>0</td><td>0</td><td>0</td><td>0</td><td>0</td><td>0</td><td>0</td><td>0</td><td>0</td><td>0</td><td>0</td><td>0</td><td>0</td><td>0</td><td>0</td><td>0</td><td>0</td><td>0</td><td>0</td><td>0</td><td>0</td><td>0</td><td>0</td><td>0</td><td>0</td><td>0</td><td>0</td><td>0</td><td>0</td><td>0</td><td>0</td><td>0</td><td>0</td><td>0</td><td>0</td><td>0</td><td>0</td><td>0</td><td>0</td><td>0</td><td>0</td><td>0</td><td>0</td><td>0</td><td>0</td><td>0</td><td>0</td><td>0</td></tr></tbody></table>"
      ],
      "text/latex": [
       "\\begin{tabular}{r|cccccccccccccccccccccccccccccccccccccccccccccccccccccccccccccccccccccccccccccccccccccc}\n",
       "\t& Open & High & Low & Close & Adj\\_Close & Volume & 2010-06-29 & 2010-06-30 & 2010-07-01 & 2010-07-02 & 2010-07-06 & 2010-07-07 & 2010-07-08 & 2010-07-09 & 2010-07-12 & 2010-07-13 & 2010-07-14 & 2010-07-15 & 2010-07-16 & 2010-07-19 & 2010-07-20 & 2010-07-21 & 2010-07-22 & 2010-07-23 & 2010-07-26 & 2010-07-27 & 2010-07-28 & 2010-07-29 & 2010-07-30 & 2010-08-02 & 2010-08-03 & 2010-08-04 & 2010-08-05 & 2010-08-06 & 2010-08-09 & 2010-08-10 & 2010-08-11 & 2010-08-12 & 2010-08-13 & 2010-08-16 & 2010-08-17 & 2010-08-18 & 2010-08-19 & 2010-08-20 & 2010-08-23 & 2010-08-24 & 2010-08-25 & 2010-08-26 & 2010-08-27 & 2010-08-30 & 2010-08-31 & 2010-09-01 & 2010-09-02 & 2010-09-03 & 2010-09-07 & 2010-09-08 & 2010-09-09 & 2010-09-10 & 2010-09-13 & 2010-09-14 & 2010-09-15 & 2010-09-16 & 2010-09-17 & 2010-09-20 & 2010-09-21 & 2010-09-22 & 2010-09-23 & 2010-09-24 & 2010-09-27 & 2010-09-28 & 2010-09-29 & 2010-09-30 & 2010-10-01 & 2010-10-04 & 2010-10-05 & 2010-10-06 & 2010-10-07 & 2010-10-08 & 2010-10-11 & 2010-10-12 & 2010-10-13 & 2010-10-14 & 2010-10-15 & 2010-10-18 & 2010-10-19 & \\\\\n",
       "\t\\hline\n",
       "\t& Float64 & Float64 & Float64 & Float64 & Float64 & Int64 & Bool & Bool & Bool & Bool & Bool & Bool & Bool & Bool & Bool & Bool & Bool & Bool & Bool & Bool & Bool & Bool & Bool & Bool & Bool & Bool & Bool & Bool & Bool & Bool & Bool & Bool & Bool & Bool & Bool & Bool & Bool & Bool & Bool & Bool & Bool & Bool & Bool & Bool & Bool & Bool & Bool & Bool & Bool & Bool & Bool & Bool & Bool & Bool & Bool & Bool & Bool & Bool & Bool & Bool & Bool & Bool & Bool & Bool & Bool & Bool & Bool & Bool & Bool & Bool & Bool & Bool & Bool & Bool & Bool & Bool & Bool & Bool & Bool & Bool & Bool & Bool & Bool & Bool & Bool & \\\\\n",
       "\t\\hline\n",
       "\t1 & 19.0 & 25.0 & 17.54 & 23.89 & 23.89 & 18766300 & 1 & 0 & 0 & 0 & 0 & 0 & 0 & 0 & 0 & 0 & 0 & 0 & 0 & 0 & 0 & 0 & 0 & 0 & 0 & 0 & 0 & 0 & 0 & 0 & 0 & 0 & 0 & 0 & 0 & 0 & 0 & 0 & 0 & 0 & 0 & 0 & 0 & 0 & 0 & 0 & 0 & 0 & 0 & 0 & 0 & 0 & 0 & 0 & 0 & 0 & 0 & 0 & 0 & 0 & 0 & 0 & 0 & 0 & 0 & 0 & 0 & 0 & 0 & 0 & 0 & 0 & 0 & 0 & 0 & 0 & 0 & 0 & 0 & 0 & 0 & 0 & 0 & 0 & 0 & $\\dots$ \\\\\n",
       "\t2 & 25.79 & 30.42 & 23.3 & 23.83 & 23.83 & 17187100 & 0 & 1 & 0 & 0 & 0 & 0 & 0 & 0 & 0 & 0 & 0 & 0 & 0 & 0 & 0 & 0 & 0 & 0 & 0 & 0 & 0 & 0 & 0 & 0 & 0 & 0 & 0 & 0 & 0 & 0 & 0 & 0 & 0 & 0 & 0 & 0 & 0 & 0 & 0 & 0 & 0 & 0 & 0 & 0 & 0 & 0 & 0 & 0 & 0 & 0 & 0 & 0 & 0 & 0 & 0 & 0 & 0 & 0 & 0 & 0 & 0 & 0 & 0 & 0 & 0 & 0 & 0 & 0 & 0 & 0 & 0 & 0 & 0 & 0 & 0 & 0 & 0 & 0 & 0 & $\\dots$ \\\\\n",
       "\t3 & 25.0 & 25.92 & 20.27 & 21.96 & 21.96 & 8218800 & 0 & 0 & 1 & 0 & 0 & 0 & 0 & 0 & 0 & 0 & 0 & 0 & 0 & 0 & 0 & 0 & 0 & 0 & 0 & 0 & 0 & 0 & 0 & 0 & 0 & 0 & 0 & 0 & 0 & 0 & 0 & 0 & 0 & 0 & 0 & 0 & 0 & 0 & 0 & 0 & 0 & 0 & 0 & 0 & 0 & 0 & 0 & 0 & 0 & 0 & 0 & 0 & 0 & 0 & 0 & 0 & 0 & 0 & 0 & 0 & 0 & 0 & 0 & 0 & 0 & 0 & 0 & 0 & 0 & 0 & 0 & 0 & 0 & 0 & 0 & 0 & 0 & 0 & 0 & $\\dots$ \\\\\n",
       "\t4 & 23.0 & 23.1 & 18.71 & 19.2 & 19.2 & 5139800 & 0 & 0 & 0 & 1 & 0 & 0 & 0 & 0 & 0 & 0 & 0 & 0 & 0 & 0 & 0 & 0 & 0 & 0 & 0 & 0 & 0 & 0 & 0 & 0 & 0 & 0 & 0 & 0 & 0 & 0 & 0 & 0 & 0 & 0 & 0 & 0 & 0 & 0 & 0 & 0 & 0 & 0 & 0 & 0 & 0 & 0 & 0 & 0 & 0 & 0 & 0 & 0 & 0 & 0 & 0 & 0 & 0 & 0 & 0 & 0 & 0 & 0 & 0 & 0 & 0 & 0 & 0 & 0 & 0 & 0 & 0 & 0 & 0 & 0 & 0 & 0 & 0 & 0 & 0 & $\\dots$ \\\\\n",
       "\t5 & 20.0 & 20.0 & 15.83 & 16.11 & 16.11 & 6866900 & 0 & 0 & 0 & 0 & 1 & 0 & 0 & 0 & 0 & 0 & 0 & 0 & 0 & 0 & 0 & 0 & 0 & 0 & 0 & 0 & 0 & 0 & 0 & 0 & 0 & 0 & 0 & 0 & 0 & 0 & 0 & 0 & 0 & 0 & 0 & 0 & 0 & 0 & 0 & 0 & 0 & 0 & 0 & 0 & 0 & 0 & 0 & 0 & 0 & 0 & 0 & 0 & 0 & 0 & 0 & 0 & 0 & 0 & 0 & 0 & 0 & 0 & 0 & 0 & 0 & 0 & 0 & 0 & 0 & 0 & 0 & 0 & 0 & 0 & 0 & 0 & 0 & 0 & 0 & $\\dots$ \\\\\n",
       "\\end{tabular}\n"
      ],
      "text/plain": [
       "5×2422 typename(DataFrame). Omitted printing of 2345 columns\n",
       "│ Row │ Open    │ High    │ Low     │ Close   │ Adj_Close │ Volume   │ 2010-06-29 │ 2010-06-30 │ 2010-07-01 │ 2010-07-02 │ 2010-07-06 │ 2010-07-07 │ 2010-07-08 │ 2010-07-09 │ 2010-07-12 │ 2010-07-13 │ 2010-07-14 │ 2010-07-15 │ 2010-07-16 │ 2010-07-19 │ 2010-07-20 │ 2010-07-21 │ 2010-07-22 │ 2010-07-23 │ 2010-07-26 │ 2010-07-27 │ 2010-07-28 │ 2010-07-29 │ 2010-07-30 │ 2010-08-02 │ 2010-08-03 │ 2010-08-04 │ 2010-08-05 │ 2010-08-06 │ 2010-08-09 │ 2010-08-10 │ 2010-08-11 │ 2010-08-12 │ 2010-08-13 │ 2010-08-16 │ 2010-08-17 │ 2010-08-18 │ 2010-08-19 │ 2010-08-20 │ 2010-08-23 │ 2010-08-24 │ 2010-08-25 │ 2010-08-26 │ 2010-08-27 │ 2010-08-30 │ 2010-08-31 │ 2010-09-01 │ 2010-09-02 │ 2010-09-03 │ 2010-09-07 │ 2010-09-08 │ 2010-09-09 │ 2010-09-10 │ 2010-09-13 │ 2010-09-14 │ 2010-09-15 │ 2010-09-16 │ 2010-09-17 │ 2010-09-20 │ 2010-09-21 │ 2010-09-22 │ 2010-09-23 │ 2010-09-24 │ 2010-09-27 │ 2010-09-28 │ 2010-09-29 │ 2010-09-30 │ 2010-10-01 │ 2010-10-04 │ 2010-10-05 │ 2010-10-06 │ 2010-10-07 │\n",
       "│     │ \u001b[90mFloat64\u001b[39m │ \u001b[90mFloat64\u001b[39m │ \u001b[90mFloat64\u001b[39m │ \u001b[90mFloat64\u001b[39m │ \u001b[90mFloat64\u001b[39m   │ \u001b[90mInt64\u001b[39m    │ \u001b[90mBool\u001b[39m       │ \u001b[90mBool\u001b[39m       │ \u001b[90mBool\u001b[39m       │ \u001b[90mBool\u001b[39m       │ \u001b[90mBool\u001b[39m       │ \u001b[90mBool\u001b[39m       │ \u001b[90mBool\u001b[39m       │ \u001b[90mBool\u001b[39m       │ \u001b[90mBool\u001b[39m       │ \u001b[90mBool\u001b[39m       │ \u001b[90mBool\u001b[39m       │ \u001b[90mBool\u001b[39m       │ \u001b[90mBool\u001b[39m       │ \u001b[90mBool\u001b[39m       │ \u001b[90mBool\u001b[39m       │ \u001b[90mBool\u001b[39m       │ \u001b[90mBool\u001b[39m       │ \u001b[90mBool\u001b[39m       │ \u001b[90mBool\u001b[39m       │ \u001b[90mBool\u001b[39m       │ \u001b[90mBool\u001b[39m       │ \u001b[90mBool\u001b[39m       │ \u001b[90mBool\u001b[39m       │ \u001b[90mBool\u001b[39m       │ \u001b[90mBool\u001b[39m       │ \u001b[90mBool\u001b[39m       │ \u001b[90mBool\u001b[39m       │ \u001b[90mBool\u001b[39m       │ \u001b[90mBool\u001b[39m       │ \u001b[90mBool\u001b[39m       │ \u001b[90mBool\u001b[39m       │ \u001b[90mBool\u001b[39m       │ \u001b[90mBool\u001b[39m       │ \u001b[90mBool\u001b[39m       │ \u001b[90mBool\u001b[39m       │ \u001b[90mBool\u001b[39m       │ \u001b[90mBool\u001b[39m       │ \u001b[90mBool\u001b[39m       │ \u001b[90mBool\u001b[39m       │ \u001b[90mBool\u001b[39m       │ \u001b[90mBool\u001b[39m       │ \u001b[90mBool\u001b[39m       │ \u001b[90mBool\u001b[39m       │ \u001b[90mBool\u001b[39m       │ \u001b[90mBool\u001b[39m       │ \u001b[90mBool\u001b[39m       │ \u001b[90mBool\u001b[39m       │ \u001b[90mBool\u001b[39m       │ \u001b[90mBool\u001b[39m       │ \u001b[90mBool\u001b[39m       │ \u001b[90mBool\u001b[39m       │ \u001b[90mBool\u001b[39m       │ \u001b[90mBool\u001b[39m       │ \u001b[90mBool\u001b[39m       │ \u001b[90mBool\u001b[39m       │ \u001b[90mBool\u001b[39m       │ \u001b[90mBool\u001b[39m       │ \u001b[90mBool\u001b[39m       │ \u001b[90mBool\u001b[39m       │ \u001b[90mBool\u001b[39m       │ \u001b[90mBool\u001b[39m       │ \u001b[90mBool\u001b[39m       │ \u001b[90mBool\u001b[39m       │ \u001b[90mBool\u001b[39m       │ \u001b[90mBool\u001b[39m       │ \u001b[90mBool\u001b[39m       │ \u001b[90mBool\u001b[39m       │ \u001b[90mBool\u001b[39m       │ \u001b[90mBool\u001b[39m       │ \u001b[90mBool\u001b[39m       │ \u001b[90mBool\u001b[39m       │\n",
       "├─────┼─────────┼─────────┼─────────┼─────────┼───────────┼──────────┼────────────┼────────────┼────────────┼────────────┼────────────┼────────────┼────────────┼────────────┼────────────┼────────────┼────────────┼────────────┼────────────┼────────────┼────────────┼────────────┼────────────┼────────────┼────────────┼────────────┼────────────┼────────────┼────────────┼────────────┼────────────┼────────────┼────────────┼────────────┼────────────┼────────────┼────────────┼────────────┼────────────┼────────────┼────────────┼────────────┼────────────┼────────────┼────────────┼────────────┼────────────┼────────────┼────────────┼────────────┼────────────┼────────────┼────────────┼────────────┼────────────┼────────────┼────────────┼────────────┼────────────┼────────────┼────────────┼────────────┼────────────┼────────────┼────────────┼────────────┼────────────┼────────────┼────────────┼────────────┼────────────┼────────────┼────────────┼────────────┼────────────┼────────────┼────────────┤\n",
       "│ 1   │ 19.0    │ 25.0    │ 17.54   │ 23.89   │ 23.89     │ 18766300 │ 1          │ 0          │ 0          │ 0          │ 0          │ 0          │ 0          │ 0          │ 0          │ 0          │ 0          │ 0          │ 0          │ 0          │ 0          │ 0          │ 0          │ 0          │ 0          │ 0          │ 0          │ 0          │ 0          │ 0          │ 0          │ 0          │ 0          │ 0          │ 0          │ 0          │ 0          │ 0          │ 0          │ 0          │ 0          │ 0          │ 0          │ 0          │ 0          │ 0          │ 0          │ 0          │ 0          │ 0          │ 0          │ 0          │ 0          │ 0          │ 0          │ 0          │ 0          │ 0          │ 0          │ 0          │ 0          │ 0          │ 0          │ 0          │ 0          │ 0          │ 0          │ 0          │ 0          │ 0          │ 0          │ 0          │ 0          │ 0          │ 0          │ 0          │ 0          │\n",
       "│ 2   │ 25.79   │ 30.42   │ 23.3    │ 23.83   │ 23.83     │ 17187100 │ 0          │ 1          │ 0          │ 0          │ 0          │ 0          │ 0          │ 0          │ 0          │ 0          │ 0          │ 0          │ 0          │ 0          │ 0          │ 0          │ 0          │ 0          │ 0          │ 0          │ 0          │ 0          │ 0          │ 0          │ 0          │ 0          │ 0          │ 0          │ 0          │ 0          │ 0          │ 0          │ 0          │ 0          │ 0          │ 0          │ 0          │ 0          │ 0          │ 0          │ 0          │ 0          │ 0          │ 0          │ 0          │ 0          │ 0          │ 0          │ 0          │ 0          │ 0          │ 0          │ 0          │ 0          │ 0          │ 0          │ 0          │ 0          │ 0          │ 0          │ 0          │ 0          │ 0          │ 0          │ 0          │ 0          │ 0          │ 0          │ 0          │ 0          │ 0          │\n",
       "│ 3   │ 25.0    │ 25.92   │ 20.27   │ 21.96   │ 21.96     │ 8218800  │ 0          │ 0          │ 1          │ 0          │ 0          │ 0          │ 0          │ 0          │ 0          │ 0          │ 0          │ 0          │ 0          │ 0          │ 0          │ 0          │ 0          │ 0          │ 0          │ 0          │ 0          │ 0          │ 0          │ 0          │ 0          │ 0          │ 0          │ 0          │ 0          │ 0          │ 0          │ 0          │ 0          │ 0          │ 0          │ 0          │ 0          │ 0          │ 0          │ 0          │ 0          │ 0          │ 0          │ 0          │ 0          │ 0          │ 0          │ 0          │ 0          │ 0          │ 0          │ 0          │ 0          │ 0          │ 0          │ 0          │ 0          │ 0          │ 0          │ 0          │ 0          │ 0          │ 0          │ 0          │ 0          │ 0          │ 0          │ 0          │ 0          │ 0          │ 0          │\n",
       "│ 4   │ 23.0    │ 23.1    │ 18.71   │ 19.2    │ 19.2      │ 5139800  │ 0          │ 0          │ 0          │ 1          │ 0          │ 0          │ 0          │ 0          │ 0          │ 0          │ 0          │ 0          │ 0          │ 0          │ 0          │ 0          │ 0          │ 0          │ 0          │ 0          │ 0          │ 0          │ 0          │ 0          │ 0          │ 0          │ 0          │ 0          │ 0          │ 0          │ 0          │ 0          │ 0          │ 0          │ 0          │ 0          │ 0          │ 0          │ 0          │ 0          │ 0          │ 0          │ 0          │ 0          │ 0          │ 0          │ 0          │ 0          │ 0          │ 0          │ 0          │ 0          │ 0          │ 0          │ 0          │ 0          │ 0          │ 0          │ 0          │ 0          │ 0          │ 0          │ 0          │ 0          │ 0          │ 0          │ 0          │ 0          │ 0          │ 0          │ 0          │\n",
       "│ 5   │ 20.0    │ 20.0    │ 15.83   │ 16.11   │ 16.11     │ 6866900  │ 0          │ 0          │ 0          │ 0          │ 1          │ 0          │ 0          │ 0          │ 0          │ 0          │ 0          │ 0          │ 0          │ 0          │ 0          │ 0          │ 0          │ 0          │ 0          │ 0          │ 0          │ 0          │ 0          │ 0          │ 0          │ 0          │ 0          │ 0          │ 0          │ 0          │ 0          │ 0          │ 0          │ 0          │ 0          │ 0          │ 0          │ 0          │ 0          │ 0          │ 0          │ 0          │ 0          │ 0          │ 0          │ 0          │ 0          │ 0          │ 0          │ 0          │ 0          │ 0          │ 0          │ 0          │ 0          │ 0          │ 0          │ 0          │ 0          │ 0          │ 0          │ 0          │ 0          │ 0          │ 0          │ 0          │ 0          │ 0          │ 0          │ 0          │ 0          │"
      ]
     },
     "execution_count": 10,
     "metadata": {},
     "output_type": "execute_result"
    }
   ],
   "source": [
    "# One hot encoding\n",
    "Lathe.preprocess.OneHotEncode(df,:Date)\n",
    "\n",
    "select!(df, Not([:Date]))\n",
    "first(df,5)"
   ]
  },
  {
   "cell_type": "code",
   "execution_count": null,
   "id": "a6aa68fc",
   "metadata": {},
   "outputs": [],
   "source": [
    "@time begin\n",
    "\n",
    "using Lathe.preprocess: TrainTestSplit\n",
    "train, test = TrainTestSplit(df,.75);\n",
    "fm = @formula(Adj_Close ~ Open)\n",
    "linearRegressor = lm(fm, train)\n",
    "r2(linearRegressor)\n",
    "    end"
   ]
  },
  {
   "cell_type": "code",
   "execution_count": 30,
   "id": "a988fa32",
   "metadata": {},
   "outputs": [
    {
     "name": "stderr",
     "output_type": "stream",
     "text": [
      "\u001b[32m\u001b[1m   Resolving\u001b[22m\u001b[39m package versions...\n",
      "\u001b[32m\u001b[1m    Updating\u001b[22m\u001b[39m `C:\\Users\\ASUS\\Project.toml`\n",
      " \u001b[90m [3eaba693] \u001b[39m\u001b[92m+ StatsModels v0.6.21\u001b[39m\n",
      "\u001b[32m\u001b[1m    Updating\u001b[22m\u001b[39m `C:\\Users\\ASUS\\Manifest.toml`\n",
      " \u001b[90m [1277b4bf] \u001b[39m\u001b[92m+ ShiftedArrays v1.0.0\u001b[39m\n",
      " \u001b[90m [3eaba693] \u001b[39m\u001b[92m+ StatsModels v0.6.21\u001b[39m\n",
      "\u001b[32m\u001b[1m   Resolving\u001b[22m\u001b[39m package versions...\n",
      "\u001b[32m\u001b[1m   Installed\u001b[22m\u001b[39m Mocking ──────── v0.7.5\n",
      "\u001b[32m\u001b[1m   Installed\u001b[22m\u001b[39m Parsers ──────── v1.1.2\n",
      "\u001b[32m\u001b[1m   Installed\u001b[22m\u001b[39m BinaryProvider ─ v0.5.10\n",
      "\u001b[32m\u001b[1m   Installed\u001b[22m\u001b[39m FileIO ───────── v1.16.0\n",
      "\u001b[32m\u001b[1m   Installed\u001b[22m\u001b[39m TimeZones ────── v1.5.9\n",
      "\u001b[32m\u001b[1m   Installed\u001b[22m\u001b[39m ExprTools ────── v0.1.8\n",
      "\u001b[32m\u001b[1m   Installed\u001b[22m\u001b[39m CodecZlib ────── v0.6.0\n",
      "\u001b[32m\u001b[1m   Installed\u001b[22m\u001b[39m RData ────────── v0.7.1\n",
      "\u001b[32m\u001b[1m   Installed\u001b[22m\u001b[39m CSV ──────────── v0.8.5\n",
      "\u001b[32m\u001b[1m   Installed\u001b[22m\u001b[39m RDatasets ────── v0.7.7\n",
      "\u001b[32m\u001b[1m    Updating\u001b[22m\u001b[39m `C:\\Users\\ASUS\\Project.toml`\n",
      " \u001b[90m [ce6b1742] \u001b[39m\u001b[92m+ RDatasets v0.7.7\u001b[39m\n",
      "\u001b[32m\u001b[1m    Updating\u001b[22m\u001b[39m `C:\\Users\\ASUS\\Manifest.toml`\n",
      " \u001b[90m [b99e7846] \u001b[39m\u001b[92m+ BinaryProvider v0.5.10\u001b[39m\n",
      " \u001b[90m [336ed68f] \u001b[39m\u001b[92m+ CSV v0.8.5\u001b[39m\n",
      " \u001b[90m [944b1d66] \u001b[39m\u001b[92m+ CodecZlib v0.6.0\u001b[39m\n",
      " \u001b[90m [e2ba6199] \u001b[39m\u001b[92m+ ExprTools v0.1.8\u001b[39m\n",
      " \u001b[90m [5789e2e9] \u001b[39m\u001b[92m+ FileIO v1.16.0\u001b[39m\n",
      " \u001b[90m [78c3b35d] \u001b[39m\u001b[92m+ Mocking v0.7.5\u001b[39m\n",
      " \u001b[90m [69de0a69] \u001b[39m\u001b[95m↓ Parsers v2.5.2 ⇒ v1.1.2\u001b[39m\n",
      " \u001b[90m [df47a6cb] \u001b[39m\u001b[92m+ RData v0.7.1\u001b[39m\n",
      " \u001b[90m [ce6b1742] \u001b[39m\u001b[92m+ RDatasets v0.7.7\u001b[39m\n",
      " \u001b[90m [ae029012] \u001b[39m\u001b[92m+ Requires v1.3.0\u001b[39m\n",
      " \u001b[90m [91c51154] \u001b[39m\u001b[92m+ SentinelArrays v1.3.16\u001b[39m\n",
      " \u001b[90m [f269a46b] \u001b[39m\u001b[92m+ TimeZones v1.5.9\u001b[39m\n",
      " \u001b[90m [3bb67fe8] \u001b[39m\u001b[92m+ TranscodingStreams v0.9.10\u001b[39m\n",
      " \u001b[90m [4af54fe1] \u001b[39m\u001b[92m+ LazyArtifacts\u001b[39m\n",
      "\u001b[32m\u001b[1m    Building\u001b[22m\u001b[39m TimeZones → `C:\\Users\\ASUS\\.julia\\scratchspaces\\44cfe95a-1eb2-52ea-b672-e2afdf69b78f\\a5688ffdbd849a98503c6650effe79fe89a41252\\build.log`\n",
      "\u001b[32m\u001b[1m    Building\u001b[22m\u001b[39m CodecZlib → `C:\\Users\\ASUS\\.julia\\scratchspaces\\44cfe95a-1eb2-52ea-b672-e2afdf69b78f\\05916673a2627dd91b4969ff8ba6941bc85a960e\\build.log`\n",
      "\u001b[32m\u001b[1mPrecompiling\u001b[22m\u001b[39m project...\n",
      "\u001b[33m  ✓ \u001b[39m\u001b[90mCodecZlib\u001b[39m\n",
      "\u001b[32m  ✓ \u001b[39m\u001b[90mFileIO\u001b[39m\n",
      "\u001b[33m  ✓ \u001b[39m\u001b[90mParsers\u001b[39m\n",
      "\u001b[33m  ✓ \u001b[39m\u001b[90mJSON\u001b[39m\n",
      "\u001b[33m  ✓ \u001b[39m\u001b[90mConda\u001b[39m\n",
      "\u001b[33m  ✓ \u001b[39m\u001b[90mCSV\u001b[39m\n",
      "\u001b[33m  ✓ \u001b[39m\u001b[90mCategoricalArrays\u001b[39m\n",
      "\u001b[33m  ✓ \u001b[39m\u001b[90mDataFrames\u001b[39m\n",
      "\u001b[33m  ✓ \u001b[39m\u001b[90mPyCall\u001b[39m\n",
      "\u001b[33m  ✓ \u001b[39mROCAnalysis\n",
      "\u001b[32m  ✓ \u001b[39m\u001b[90mRData\u001b[39m\n",
      "\u001b[33m  ✓ \u001b[39mClassImbalance\n",
      "\u001b[33m  ✓ \u001b[39mScikitLearn\n",
      "\u001b[32m  ✓ \u001b[39mRDatasets\n",
      "  14 dependencies successfully precompiled in 22 seconds (52 already precompiled)\n",
      "  \u001b[33m11\u001b[39m dependencies precompiled but different versions are currently loaded. Restart julia to access the new versions\n"
     ]
    }
   ],
   "source": [
    "Pkg.add(\"StatsModels\")\n",
    "Pkg.add(\"RDatasets\")"
   ]
  },
  {
   "cell_type": "code",
   "execution_count": 44,
   "id": "206e5500",
   "metadata": {},
   "outputs": [
    {
     "name": "stdout",
     "output_type": "stream",
     "text": [
      "  0.273992 seconds (420.26 k allocations: 25.299 MiB, 91.78% compilation time)\n"
     ]
    },
    {
     "data": {
      "text/plain": [
       "0.999706185293666"
      ]
     },
     "execution_count": 44,
     "metadata": {},
     "output_type": "execute_result"
    }
   ],
   "source": [
    "@time begin\n",
    "\n",
    "using StatsModels\n",
    "using Lathe.preprocess: TrainTestSplit\n",
    "train, test = TrainTestSplit(df,.75);\n",
    "fm = @formula(Adj_Close ~ Open + High + Low+ Volume)\n",
    "linearRegressor = lm(fm, train)\n",
    "predictions = StatsModels.predict(linearRegressor, test)\n",
    "r2(linearRegressor)\n",
    "    end"
   ]
  },
  {
   "cell_type": "code",
   "execution_count": 45,
   "id": "53aa12b1",
   "metadata": {},
   "outputs": [
    {
     "data": {
      "text/plain": [
       "614-element Vector{Union{Missing, Float64}}:\n",
       "  27.470459078675873\n",
       "  19.696299838430786\n",
       "  19.935506619840485\n",
       "  20.238613112025867\n",
       "  20.733427706452687\n",
       "  19.65942403322571\n",
       "  18.951396899638777\n",
       "  18.798403879977094\n",
       "  19.964435277933152\n",
       "  21.047784339703224\n",
       "  20.83254733853525\n",
       "  20.827190378749506\n",
       "  20.128198449039967\n",
       "   ⋮\n",
       " 392.9230284853621\n",
       " 404.30341975320175\n",
       " 404.36808030416387\n",
       " 418.8519343721788\n",
       " 490.52394743744907\n",
       " 520.0481891967892\n",
       " 531.2672364874386\n",
       " 526.3812068389171\n",
       " 510.6520451667993\n",
       " 544.3408920194689\n",
       " 560.4276211564393\n",
       " 567.3861813448224"
      ]
     },
     "execution_count": 45,
     "metadata": {},
     "output_type": "execute_result"
    }
   ],
   "source": [
    "predictions = StatsModels.predict(linearRegressor, test)"
   ]
  },
  {
   "cell_type": "code",
   "execution_count": 12,
   "id": "3e757e04",
   "metadata": {},
   "outputs": [
    {
     "data": {
      "text/plain": [
       "StatsModels.TableRegressionModel{LinearModel{GLM.LmResp{Vector{Float64}}, GLM.DensePredChol{Float64, LinearAlgebra.CholeskyPivoted{Float64, Matrix{Float64}}}}, Matrix{Float64}}\n",
       "\n",
       "Adj_Close ~ 1 + Open + High + Low\n",
       "\n",
       "Coefficients:\n",
       "──────────────────────────────────────────────────────────────────────────\n",
       "                 Coef.  Std. Error       t  Pr(>|t|)  Lower 95%  Upper 95%\n",
       "──────────────────────────────────────────────────────────────────────────\n",
       "(Intercept)   0.018658   0.0716056    0.26    0.7945  -0.121819   0.159135\n",
       "Open         -0.553816   0.0189034  -29.30    <1e-99  -0.590901  -0.516731\n",
       "High          0.789773   0.0166281   47.50    <1e-99   0.757152   0.822395\n",
       "Low           0.763605   0.0169603   45.02    <1e-99   0.730332   0.796878\n",
       "──────────────────────────────────────────────────────────────────────────"
      ]
     },
     "execution_count": 12,
     "metadata": {},
     "output_type": "execute_result"
    }
   ],
   "source": []
  },
  {
   "cell_type": "code",
   "execution_count": 14,
   "id": "85f75307",
   "metadata": {},
   "outputs": [],
   "source": [
    "ypredicted_test = predict(linearRegressor, test)\n",
    "ypredicted_train = predict(linearRegressor, train)\n",
    "\n",
    "# Test Performance DataFrame\n",
    "performance_testdf = DataFrame(y_actual = test[!,:Adj_Close], y_predicted = ypredicted_test)\n",
    "performance_testdf.error = performance_testdf[!,:y_actual] - performance_testdf[!,:y_predicted]\n",
    "performance_testdf.error_sq = performance_testdf.error.*performance_testdf.error\n",
    "\n",
    "# Train Performance DataFrame\n",
    "performance_traindf = DataFrame(y_actual = train[!,:Adj_Close], y_predicted = ypredicted_train)\n",
    "performance_traindf.error = performance_traindf[!,:y_actual] - performance_traindf[!,:y_predicted]\n",
    "performance_traindf.error_sq = performance_traindf.error.*performance_traindf.error ;"
   ]
  },
  {
   "cell_type": "code",
   "execution_count": 17,
   "id": "bd2e7437",
   "metadata": {},
   "outputs": [
    {
     "name": "stdout",
     "output_type": "stream",
     "text": [
      "Mean Absolute test error: 1.0712751548737909\n",
      "\n",
      "Mean square test error: 2.4171456790054373\n",
      "\n"
     ]
    }
   ],
   "source": [
    "# Test Error\n",
    "println(\"Mean Absolute test error: \",mean(abs.(performance_testdf.error)), \"\\n\")\n",
    "\n",
    "println(\"Mean square test error: \",mean(performance_testdf.error_sq), \"\\n\")"
   ]
  },
  {
   "cell_type": "code",
   "execution_count": 37,
   "id": "ba4d81d1",
   "metadata": {},
   "outputs": [
    {
     "data": {
      "text/html": [
       "<table class=\"data-frame\"><thead><tr><th></th><th>Open</th><th>High</th><th>Low</th><th>Adj_Close</th><th>Volume</th><th>2010-06-29</th><th>2010-06-30</th><th>2010-07-01</th><th>2010-07-02</th><th>2010-07-06</th><th>2010-07-07</th><th>2010-07-08</th><th>2010-07-09</th><th>2010-07-12</th><th>2010-07-13</th><th>2010-07-14</th><th>2010-07-15</th><th>2010-07-16</th><th>2010-07-19</th><th>2010-07-20</th><th>2010-07-21</th><th>2010-07-22</th><th>2010-07-23</th><th>2010-07-26</th><th>2010-07-27</th><th>2010-07-28</th><th>2010-07-29</th><th>2010-07-30</th><th>2010-08-02</th><th>2010-08-03</th><th>2010-08-04</th><th>2010-08-05</th><th>2010-08-06</th><th>2010-08-09</th><th>2010-08-10</th><th>2010-08-11</th><th>2010-08-12</th><th>2010-08-13</th><th>2010-08-16</th><th>2010-08-17</th><th>2010-08-18</th><th>2010-08-19</th><th>2010-08-20</th><th>2010-08-23</th><th>2010-08-24</th><th>2010-08-25</th><th>2010-08-26</th><th>2010-08-27</th><th>2010-08-30</th><th>2010-08-31</th><th>2010-09-01</th><th>2010-09-02</th><th>2010-09-03</th><th>2010-09-07</th><th>2010-09-08</th><th>2010-09-09</th><th>2010-09-10</th><th>2010-09-13</th><th>2010-09-14</th><th>2010-09-15</th><th>2010-09-16</th><th>2010-09-17</th><th>2010-09-20</th><th>2010-09-21</th><th>2010-09-22</th><th>2010-09-23</th><th>2010-09-24</th><th>2010-09-27</th><th>2010-09-28</th><th>2010-09-29</th><th>2010-09-30</th><th>2010-10-01</th><th>2010-10-04</th><th>2010-10-05</th><th>2010-10-06</th><th>2010-10-07</th><th>2010-10-08</th><th>2010-10-11</th><th>2010-10-12</th><th>2010-10-13</th><th>2010-10-14</th><th>2010-10-15</th><th>2010-10-18</th><th>2010-10-19</th><th>2010-10-20</th></tr><tr><th></th><th>Float64</th><th>Float64</th><th>Float64</th><th>Float64</th><th>Int64</th><th>Bool</th><th>Bool</th><th>Bool</th><th>Bool</th><th>Bool</th><th>Bool</th><th>Bool</th><th>Bool</th><th>Bool</th><th>Bool</th><th>Bool</th><th>Bool</th><th>Bool</th><th>Bool</th><th>Bool</th><th>Bool</th><th>Bool</th><th>Bool</th><th>Bool</th><th>Bool</th><th>Bool</th><th>Bool</th><th>Bool</th><th>Bool</th><th>Bool</th><th>Bool</th><th>Bool</th><th>Bool</th><th>Bool</th><th>Bool</th><th>Bool</th><th>Bool</th><th>Bool</th><th>Bool</th><th>Bool</th><th>Bool</th><th>Bool</th><th>Bool</th><th>Bool</th><th>Bool</th><th>Bool</th><th>Bool</th><th>Bool</th><th>Bool</th><th>Bool</th><th>Bool</th><th>Bool</th><th>Bool</th><th>Bool</th><th>Bool</th><th>Bool</th><th>Bool</th><th>Bool</th><th>Bool</th><th>Bool</th><th>Bool</th><th>Bool</th><th>Bool</th><th>Bool</th><th>Bool</th><th>Bool</th><th>Bool</th><th>Bool</th><th>Bool</th><th>Bool</th><th>Bool</th><th>Bool</th><th>Bool</th><th>Bool</th><th>Bool</th><th>Bool</th><th>Bool</th><th>Bool</th><th>Bool</th><th>Bool</th><th>Bool</th><th>Bool</th><th>Bool</th><th>Bool</th><th>Bool</th></tr></thead><tbody><p>5 rows × 2,421 columns (omitted printing of 2336 columns)</p><tr><th>1</th><td>19.0</td><td>25.0</td><td>17.54</td><td>23.89</td><td>18766300</td><td>1</td><td>0</td><td>0</td><td>0</td><td>0</td><td>0</td><td>0</td><td>0</td><td>0</td><td>0</td><td>0</td><td>0</td><td>0</td><td>0</td><td>0</td><td>0</td><td>0</td><td>0</td><td>0</td><td>0</td><td>0</td><td>0</td><td>0</td><td>0</td><td>0</td><td>0</td><td>0</td><td>0</td><td>0</td><td>0</td><td>0</td><td>0</td><td>0</td><td>0</td><td>0</td><td>0</td><td>0</td><td>0</td><td>0</td><td>0</td><td>0</td><td>0</td><td>0</td><td>0</td><td>0</td><td>0</td><td>0</td><td>0</td><td>0</td><td>0</td><td>0</td><td>0</td><td>0</td><td>0</td><td>0</td><td>0</td><td>0</td><td>0</td><td>0</td><td>0</td><td>0</td><td>0</td><td>0</td><td>0</td><td>0</td><td>0</td><td>0</td><td>0</td><td>0</td><td>0</td><td>0</td><td>0</td><td>0</td><td>0</td><td>0</td><td>0</td><td>0</td><td>0</td><td>0</td><td>0</td></tr><tr><th>2</th><td>25.79</td><td>30.42</td><td>23.3</td><td>23.83</td><td>17187100</td><td>0</td><td>1</td><td>0</td><td>0</td><td>0</td><td>0</td><td>0</td><td>0</td><td>0</td><td>0</td><td>0</td><td>0</td><td>0</td><td>0</td><td>0</td><td>0</td><td>0</td><td>0</td><td>0</td><td>0</td><td>0</td><td>0</td><td>0</td><td>0</td><td>0</td><td>0</td><td>0</td><td>0</td><td>0</td><td>0</td><td>0</td><td>0</td><td>0</td><td>0</td><td>0</td><td>0</td><td>0</td><td>0</td><td>0</td><td>0</td><td>0</td><td>0</td><td>0</td><td>0</td><td>0</td><td>0</td><td>0</td><td>0</td><td>0</td><td>0</td><td>0</td><td>0</td><td>0</td><td>0</td><td>0</td><td>0</td><td>0</td><td>0</td><td>0</td><td>0</td><td>0</td><td>0</td><td>0</td><td>0</td><td>0</td><td>0</td><td>0</td><td>0</td><td>0</td><td>0</td><td>0</td><td>0</td><td>0</td><td>0</td><td>0</td><td>0</td><td>0</td><td>0</td><td>0</td><td>0</td></tr><tr><th>3</th><td>25.0</td><td>25.92</td><td>20.27</td><td>21.96</td><td>8218800</td><td>0</td><td>0</td><td>1</td><td>0</td><td>0</td><td>0</td><td>0</td><td>0</td><td>0</td><td>0</td><td>0</td><td>0</td><td>0</td><td>0</td><td>0</td><td>0</td><td>0</td><td>0</td><td>0</td><td>0</td><td>0</td><td>0</td><td>0</td><td>0</td><td>0</td><td>0</td><td>0</td><td>0</td><td>0</td><td>0</td><td>0</td><td>0</td><td>0</td><td>0</td><td>0</td><td>0</td><td>0</td><td>0</td><td>0</td><td>0</td><td>0</td><td>0</td><td>0</td><td>0</td><td>0</td><td>0</td><td>0</td><td>0</td><td>0</td><td>0</td><td>0</td><td>0</td><td>0</td><td>0</td><td>0</td><td>0</td><td>0</td><td>0</td><td>0</td><td>0</td><td>0</td><td>0</td><td>0</td><td>0</td><td>0</td><td>0</td><td>0</td><td>0</td><td>0</td><td>0</td><td>0</td><td>0</td><td>0</td><td>0</td><td>0</td><td>0</td><td>0</td><td>0</td><td>0</td><td>0</td></tr><tr><th>4</th><td>23.0</td><td>23.1</td><td>18.71</td><td>19.2</td><td>5139800</td><td>0</td><td>0</td><td>0</td><td>1</td><td>0</td><td>0</td><td>0</td><td>0</td><td>0</td><td>0</td><td>0</td><td>0</td><td>0</td><td>0</td><td>0</td><td>0</td><td>0</td><td>0</td><td>0</td><td>0</td><td>0</td><td>0</td><td>0</td><td>0</td><td>0</td><td>0</td><td>0</td><td>0</td><td>0</td><td>0</td><td>0</td><td>0</td><td>0</td><td>0</td><td>0</td><td>0</td><td>0</td><td>0</td><td>0</td><td>0</td><td>0</td><td>0</td><td>0</td><td>0</td><td>0</td><td>0</td><td>0</td><td>0</td><td>0</td><td>0</td><td>0</td><td>0</td><td>0</td><td>0</td><td>0</td><td>0</td><td>0</td><td>0</td><td>0</td><td>0</td><td>0</td><td>0</td><td>0</td><td>0</td><td>0</td><td>0</td><td>0</td><td>0</td><td>0</td><td>0</td><td>0</td><td>0</td><td>0</td><td>0</td><td>0</td><td>0</td><td>0</td><td>0</td><td>0</td><td>0</td></tr><tr><th>5</th><td>20.0</td><td>20.0</td><td>15.83</td><td>16.11</td><td>6866900</td><td>0</td><td>0</td><td>0</td><td>0</td><td>1</td><td>0</td><td>0</td><td>0</td><td>0</td><td>0</td><td>0</td><td>0</td><td>0</td><td>0</td><td>0</td><td>0</td><td>0</td><td>0</td><td>0</td><td>0</td><td>0</td><td>0</td><td>0</td><td>0</td><td>0</td><td>0</td><td>0</td><td>0</td><td>0</td><td>0</td><td>0</td><td>0</td><td>0</td><td>0</td><td>0</td><td>0</td><td>0</td><td>0</td><td>0</td><td>0</td><td>0</td><td>0</td><td>0</td><td>0</td><td>0</td><td>0</td><td>0</td><td>0</td><td>0</td><td>0</td><td>0</td><td>0</td><td>0</td><td>0</td><td>0</td><td>0</td><td>0</td><td>0</td><td>0</td><td>0</td><td>0</td><td>0</td><td>0</td><td>0</td><td>0</td><td>0</td><td>0</td><td>0</td><td>0</td><td>0</td><td>0</td><td>0</td><td>0</td><td>0</td><td>0</td><td>0</td><td>0</td><td>0</td><td>0</td><td>0</td></tr></tbody></table>"
      ],
      "text/latex": [
       "\\begin{tabular}{r|cccccccccccccccccccccccccccccccccccccccccccccccccccccccccccccccccccccccccccccccccccccc}\n",
       "\t& Open & High & Low & Adj\\_Close & Volume & 2010-06-29 & 2010-06-30 & 2010-07-01 & 2010-07-02 & 2010-07-06 & 2010-07-07 & 2010-07-08 & 2010-07-09 & 2010-07-12 & 2010-07-13 & 2010-07-14 & 2010-07-15 & 2010-07-16 & 2010-07-19 & 2010-07-20 & 2010-07-21 & 2010-07-22 & 2010-07-23 & 2010-07-26 & 2010-07-27 & 2010-07-28 & 2010-07-29 & 2010-07-30 & 2010-08-02 & 2010-08-03 & 2010-08-04 & 2010-08-05 & 2010-08-06 & 2010-08-09 & 2010-08-10 & 2010-08-11 & 2010-08-12 & 2010-08-13 & 2010-08-16 & 2010-08-17 & 2010-08-18 & 2010-08-19 & 2010-08-20 & 2010-08-23 & 2010-08-24 & 2010-08-25 & 2010-08-26 & 2010-08-27 & 2010-08-30 & 2010-08-31 & 2010-09-01 & 2010-09-02 & 2010-09-03 & 2010-09-07 & 2010-09-08 & 2010-09-09 & 2010-09-10 & 2010-09-13 & 2010-09-14 & 2010-09-15 & 2010-09-16 & 2010-09-17 & 2010-09-20 & 2010-09-21 & 2010-09-22 & 2010-09-23 & 2010-09-24 & 2010-09-27 & 2010-09-28 & 2010-09-29 & 2010-09-30 & 2010-10-01 & 2010-10-04 & 2010-10-05 & 2010-10-06 & 2010-10-07 & 2010-10-08 & 2010-10-11 & 2010-10-12 & 2010-10-13 & 2010-10-14 & 2010-10-15 & 2010-10-18 & 2010-10-19 & 2010-10-20 & \\\\\n",
       "\t\\hline\n",
       "\t& Float64 & Float64 & Float64 & Float64 & Int64 & Bool & Bool & Bool & Bool & Bool & Bool & Bool & Bool & Bool & Bool & Bool & Bool & Bool & Bool & Bool & Bool & Bool & Bool & Bool & Bool & Bool & Bool & Bool & Bool & Bool & Bool & Bool & Bool & Bool & Bool & Bool & Bool & Bool & Bool & Bool & Bool & Bool & Bool & Bool & Bool & Bool & Bool & Bool & Bool & Bool & Bool & Bool & Bool & Bool & Bool & Bool & Bool & Bool & Bool & Bool & Bool & Bool & Bool & Bool & Bool & Bool & Bool & Bool & Bool & Bool & Bool & Bool & Bool & Bool & Bool & Bool & Bool & Bool & Bool & Bool & Bool & Bool & Bool & Bool & Bool & \\\\\n",
       "\t\\hline\n",
       "\t1 & 19.0 & 25.0 & 17.54 & 23.89 & 18766300 & 1 & 0 & 0 & 0 & 0 & 0 & 0 & 0 & 0 & 0 & 0 & 0 & 0 & 0 & 0 & 0 & 0 & 0 & 0 & 0 & 0 & 0 & 0 & 0 & 0 & 0 & 0 & 0 & 0 & 0 & 0 & 0 & 0 & 0 & 0 & 0 & 0 & 0 & 0 & 0 & 0 & 0 & 0 & 0 & 0 & 0 & 0 & 0 & 0 & 0 & 0 & 0 & 0 & 0 & 0 & 0 & 0 & 0 & 0 & 0 & 0 & 0 & 0 & 0 & 0 & 0 & 0 & 0 & 0 & 0 & 0 & 0 & 0 & 0 & 0 & 0 & 0 & 0 & 0 & 0 & $\\dots$ \\\\\n",
       "\t2 & 25.79 & 30.42 & 23.3 & 23.83 & 17187100 & 0 & 1 & 0 & 0 & 0 & 0 & 0 & 0 & 0 & 0 & 0 & 0 & 0 & 0 & 0 & 0 & 0 & 0 & 0 & 0 & 0 & 0 & 0 & 0 & 0 & 0 & 0 & 0 & 0 & 0 & 0 & 0 & 0 & 0 & 0 & 0 & 0 & 0 & 0 & 0 & 0 & 0 & 0 & 0 & 0 & 0 & 0 & 0 & 0 & 0 & 0 & 0 & 0 & 0 & 0 & 0 & 0 & 0 & 0 & 0 & 0 & 0 & 0 & 0 & 0 & 0 & 0 & 0 & 0 & 0 & 0 & 0 & 0 & 0 & 0 & 0 & 0 & 0 & 0 & 0 & $\\dots$ \\\\\n",
       "\t3 & 25.0 & 25.92 & 20.27 & 21.96 & 8218800 & 0 & 0 & 1 & 0 & 0 & 0 & 0 & 0 & 0 & 0 & 0 & 0 & 0 & 0 & 0 & 0 & 0 & 0 & 0 & 0 & 0 & 0 & 0 & 0 & 0 & 0 & 0 & 0 & 0 & 0 & 0 & 0 & 0 & 0 & 0 & 0 & 0 & 0 & 0 & 0 & 0 & 0 & 0 & 0 & 0 & 0 & 0 & 0 & 0 & 0 & 0 & 0 & 0 & 0 & 0 & 0 & 0 & 0 & 0 & 0 & 0 & 0 & 0 & 0 & 0 & 0 & 0 & 0 & 0 & 0 & 0 & 0 & 0 & 0 & 0 & 0 & 0 & 0 & 0 & 0 & $\\dots$ \\\\\n",
       "\t4 & 23.0 & 23.1 & 18.71 & 19.2 & 5139800 & 0 & 0 & 0 & 1 & 0 & 0 & 0 & 0 & 0 & 0 & 0 & 0 & 0 & 0 & 0 & 0 & 0 & 0 & 0 & 0 & 0 & 0 & 0 & 0 & 0 & 0 & 0 & 0 & 0 & 0 & 0 & 0 & 0 & 0 & 0 & 0 & 0 & 0 & 0 & 0 & 0 & 0 & 0 & 0 & 0 & 0 & 0 & 0 & 0 & 0 & 0 & 0 & 0 & 0 & 0 & 0 & 0 & 0 & 0 & 0 & 0 & 0 & 0 & 0 & 0 & 0 & 0 & 0 & 0 & 0 & 0 & 0 & 0 & 0 & 0 & 0 & 0 & 0 & 0 & 0 & $\\dots$ \\\\\n",
       "\t5 & 20.0 & 20.0 & 15.83 & 16.11 & 6866900 & 0 & 0 & 0 & 0 & 1 & 0 & 0 & 0 & 0 & 0 & 0 & 0 & 0 & 0 & 0 & 0 & 0 & 0 & 0 & 0 & 0 & 0 & 0 & 0 & 0 & 0 & 0 & 0 & 0 & 0 & 0 & 0 & 0 & 0 & 0 & 0 & 0 & 0 & 0 & 0 & 0 & 0 & 0 & 0 & 0 & 0 & 0 & 0 & 0 & 0 & 0 & 0 & 0 & 0 & 0 & 0 & 0 & 0 & 0 & 0 & 0 & 0 & 0 & 0 & 0 & 0 & 0 & 0 & 0 & 0 & 0 & 0 & 0 & 0 & 0 & 0 & 0 & 0 & 0 & 0 & $\\dots$ \\\\\n",
       "\\end{tabular}\n"
      ],
      "text/plain": [
       "5×2421 typename(DataFrame). Omitted printing of 2344 columns\n",
       "│ Row │ Open    │ High    │ Low     │ Adj_Close │ Volume   │ 2010-06-29 │ 2010-06-30 │ 2010-07-01 │ 2010-07-02 │ 2010-07-06 │ 2010-07-07 │ 2010-07-08 │ 2010-07-09 │ 2010-07-12 │ 2010-07-13 │ 2010-07-14 │ 2010-07-15 │ 2010-07-16 │ 2010-07-19 │ 2010-07-20 │ 2010-07-21 │ 2010-07-22 │ 2010-07-23 │ 2010-07-26 │ 2010-07-27 │ 2010-07-28 │ 2010-07-29 │ 2010-07-30 │ 2010-08-02 │ 2010-08-03 │ 2010-08-04 │ 2010-08-05 │ 2010-08-06 │ 2010-08-09 │ 2010-08-10 │ 2010-08-11 │ 2010-08-12 │ 2010-08-13 │ 2010-08-16 │ 2010-08-17 │ 2010-08-18 │ 2010-08-19 │ 2010-08-20 │ 2010-08-23 │ 2010-08-24 │ 2010-08-25 │ 2010-08-26 │ 2010-08-27 │ 2010-08-30 │ 2010-08-31 │ 2010-09-01 │ 2010-09-02 │ 2010-09-03 │ 2010-09-07 │ 2010-09-08 │ 2010-09-09 │ 2010-09-10 │ 2010-09-13 │ 2010-09-14 │ 2010-09-15 │ 2010-09-16 │ 2010-09-17 │ 2010-09-20 │ 2010-09-21 │ 2010-09-22 │ 2010-09-23 │ 2010-09-24 │ 2010-09-27 │ 2010-09-28 │ 2010-09-29 │ 2010-09-30 │ 2010-10-01 │ 2010-10-04 │ 2010-10-05 │ 2010-10-06 │ 2010-10-07 │ 2010-10-08 │\n",
       "│     │ \u001b[90mFloat64\u001b[39m │ \u001b[90mFloat64\u001b[39m │ \u001b[90mFloat64\u001b[39m │ \u001b[90mFloat64\u001b[39m   │ \u001b[90mInt64\u001b[39m    │ \u001b[90mBool\u001b[39m       │ \u001b[90mBool\u001b[39m       │ \u001b[90mBool\u001b[39m       │ \u001b[90mBool\u001b[39m       │ \u001b[90mBool\u001b[39m       │ \u001b[90mBool\u001b[39m       │ \u001b[90mBool\u001b[39m       │ \u001b[90mBool\u001b[39m       │ \u001b[90mBool\u001b[39m       │ \u001b[90mBool\u001b[39m       │ \u001b[90mBool\u001b[39m       │ \u001b[90mBool\u001b[39m       │ \u001b[90mBool\u001b[39m       │ \u001b[90mBool\u001b[39m       │ \u001b[90mBool\u001b[39m       │ \u001b[90mBool\u001b[39m       │ \u001b[90mBool\u001b[39m       │ \u001b[90mBool\u001b[39m       │ \u001b[90mBool\u001b[39m       │ \u001b[90mBool\u001b[39m       │ \u001b[90mBool\u001b[39m       │ \u001b[90mBool\u001b[39m       │ \u001b[90mBool\u001b[39m       │ \u001b[90mBool\u001b[39m       │ \u001b[90mBool\u001b[39m       │ \u001b[90mBool\u001b[39m       │ \u001b[90mBool\u001b[39m       │ \u001b[90mBool\u001b[39m       │ \u001b[90mBool\u001b[39m       │ \u001b[90mBool\u001b[39m       │ \u001b[90mBool\u001b[39m       │ \u001b[90mBool\u001b[39m       │ \u001b[90mBool\u001b[39m       │ \u001b[90mBool\u001b[39m       │ \u001b[90mBool\u001b[39m       │ \u001b[90mBool\u001b[39m       │ \u001b[90mBool\u001b[39m       │ \u001b[90mBool\u001b[39m       │ \u001b[90mBool\u001b[39m       │ \u001b[90mBool\u001b[39m       │ \u001b[90mBool\u001b[39m       │ \u001b[90mBool\u001b[39m       │ \u001b[90mBool\u001b[39m       │ \u001b[90mBool\u001b[39m       │ \u001b[90mBool\u001b[39m       │ \u001b[90mBool\u001b[39m       │ \u001b[90mBool\u001b[39m       │ \u001b[90mBool\u001b[39m       │ \u001b[90mBool\u001b[39m       │ \u001b[90mBool\u001b[39m       │ \u001b[90mBool\u001b[39m       │ \u001b[90mBool\u001b[39m       │ \u001b[90mBool\u001b[39m       │ \u001b[90mBool\u001b[39m       │ \u001b[90mBool\u001b[39m       │ \u001b[90mBool\u001b[39m       │ \u001b[90mBool\u001b[39m       │ \u001b[90mBool\u001b[39m       │ \u001b[90mBool\u001b[39m       │ \u001b[90mBool\u001b[39m       │ \u001b[90mBool\u001b[39m       │ \u001b[90mBool\u001b[39m       │ \u001b[90mBool\u001b[39m       │ \u001b[90mBool\u001b[39m       │ \u001b[90mBool\u001b[39m       │ \u001b[90mBool\u001b[39m       │ \u001b[90mBool\u001b[39m       │ \u001b[90mBool\u001b[39m       │ \u001b[90mBool\u001b[39m       │ \u001b[90mBool\u001b[39m       │ \u001b[90mBool\u001b[39m       │ \u001b[90mBool\u001b[39m       │\n",
       "├─────┼─────────┼─────────┼─────────┼───────────┼──────────┼────────────┼────────────┼────────────┼────────────┼────────────┼────────────┼────────────┼────────────┼────────────┼────────────┼────────────┼────────────┼────────────┼────────────┼────────────┼────────────┼────────────┼────────────┼────────────┼────────────┼────────────┼────────────┼────────────┼────────────┼────────────┼────────────┼────────────┼────────────┼────────────┼────────────┼────────────┼────────────┼────────────┼────────────┼────────────┼────────────┼────────────┼────────────┼────────────┼────────────┼────────────┼────────────┼────────────┼────────────┼────────────┼────────────┼────────────┼────────────┼────────────┼────────────┼────────────┼────────────┼────────────┼────────────┼────────────┼────────────┼────────────┼────────────┼────────────┼────────────┼────────────┼────────────┼────────────┼────────────┼────────────┼────────────┼────────────┼────────────┼────────────┼────────────┼────────────┼────────────┤\n",
       "│ 1   │ 19.0    │ 25.0    │ 17.54   │ 23.89     │ 18766300 │ 1          │ 0          │ 0          │ 0          │ 0          │ 0          │ 0          │ 0          │ 0          │ 0          │ 0          │ 0          │ 0          │ 0          │ 0          │ 0          │ 0          │ 0          │ 0          │ 0          │ 0          │ 0          │ 0          │ 0          │ 0          │ 0          │ 0          │ 0          │ 0          │ 0          │ 0          │ 0          │ 0          │ 0          │ 0          │ 0          │ 0          │ 0          │ 0          │ 0          │ 0          │ 0          │ 0          │ 0          │ 0          │ 0          │ 0          │ 0          │ 0          │ 0          │ 0          │ 0          │ 0          │ 0          │ 0          │ 0          │ 0          │ 0          │ 0          │ 0          │ 0          │ 0          │ 0          │ 0          │ 0          │ 0          │ 0          │ 0          │ 0          │ 0          │ 0          │ 0          │\n",
       "│ 2   │ 25.79   │ 30.42   │ 23.3    │ 23.83     │ 17187100 │ 0          │ 1          │ 0          │ 0          │ 0          │ 0          │ 0          │ 0          │ 0          │ 0          │ 0          │ 0          │ 0          │ 0          │ 0          │ 0          │ 0          │ 0          │ 0          │ 0          │ 0          │ 0          │ 0          │ 0          │ 0          │ 0          │ 0          │ 0          │ 0          │ 0          │ 0          │ 0          │ 0          │ 0          │ 0          │ 0          │ 0          │ 0          │ 0          │ 0          │ 0          │ 0          │ 0          │ 0          │ 0          │ 0          │ 0          │ 0          │ 0          │ 0          │ 0          │ 0          │ 0          │ 0          │ 0          │ 0          │ 0          │ 0          │ 0          │ 0          │ 0          │ 0          │ 0          │ 0          │ 0          │ 0          │ 0          │ 0          │ 0          │ 0          │ 0          │ 0          │\n",
       "│ 3   │ 25.0    │ 25.92   │ 20.27   │ 21.96     │ 8218800  │ 0          │ 0          │ 1          │ 0          │ 0          │ 0          │ 0          │ 0          │ 0          │ 0          │ 0          │ 0          │ 0          │ 0          │ 0          │ 0          │ 0          │ 0          │ 0          │ 0          │ 0          │ 0          │ 0          │ 0          │ 0          │ 0          │ 0          │ 0          │ 0          │ 0          │ 0          │ 0          │ 0          │ 0          │ 0          │ 0          │ 0          │ 0          │ 0          │ 0          │ 0          │ 0          │ 0          │ 0          │ 0          │ 0          │ 0          │ 0          │ 0          │ 0          │ 0          │ 0          │ 0          │ 0          │ 0          │ 0          │ 0          │ 0          │ 0          │ 0          │ 0          │ 0          │ 0          │ 0          │ 0          │ 0          │ 0          │ 0          │ 0          │ 0          │ 0          │ 0          │\n",
       "│ 4   │ 23.0    │ 23.1    │ 18.71   │ 19.2      │ 5139800  │ 0          │ 0          │ 0          │ 1          │ 0          │ 0          │ 0          │ 0          │ 0          │ 0          │ 0          │ 0          │ 0          │ 0          │ 0          │ 0          │ 0          │ 0          │ 0          │ 0          │ 0          │ 0          │ 0          │ 0          │ 0          │ 0          │ 0          │ 0          │ 0          │ 0          │ 0          │ 0          │ 0          │ 0          │ 0          │ 0          │ 0          │ 0          │ 0          │ 0          │ 0          │ 0          │ 0          │ 0          │ 0          │ 0          │ 0          │ 0          │ 0          │ 0          │ 0          │ 0          │ 0          │ 0          │ 0          │ 0          │ 0          │ 0          │ 0          │ 0          │ 0          │ 0          │ 0          │ 0          │ 0          │ 0          │ 0          │ 0          │ 0          │ 0          │ 0          │ 0          │\n",
       "│ 5   │ 20.0    │ 20.0    │ 15.83   │ 16.11     │ 6866900  │ 0          │ 0          │ 0          │ 0          │ 1          │ 0          │ 0          │ 0          │ 0          │ 0          │ 0          │ 0          │ 0          │ 0          │ 0          │ 0          │ 0          │ 0          │ 0          │ 0          │ 0          │ 0          │ 0          │ 0          │ 0          │ 0          │ 0          │ 0          │ 0          │ 0          │ 0          │ 0          │ 0          │ 0          │ 0          │ 0          │ 0          │ 0          │ 0          │ 0          │ 0          │ 0          │ 0          │ 0          │ 0          │ 0          │ 0          │ 0          │ 0          │ 0          │ 0          │ 0          │ 0          │ 0          │ 0          │ 0          │ 0          │ 0          │ 0          │ 0          │ 0          │ 0          │ 0          │ 0          │ 0          │ 0          │ 0          │ 0          │ 0          │ 0          │ 0          │ 0          │"
      ]
     },
     "execution_count": 37,
     "metadata": {},
     "output_type": "execute_result"
    }
   ],
   "source": [
    "select!(df, Not([:Close]))\n",
    "first(df,5)\n"
   ]
  },
  {
   "cell_type": "code",
   "execution_count": null,
   "id": "a491a73b",
   "metadata": {},
   "outputs": [],
   "source": [
    "accuracy = evaluate(model, x_test, y_test)"
   ]
  }
 ],
 "metadata": {
  "kernelspec": {
   "display_name": "Julia 1.7.3",
   "language": "julia",
   "name": "julia-1.7"
  },
  "language_info": {
   "file_extension": ".jl",
   "mimetype": "application/julia",
   "name": "julia",
   "version": "1.7.3"
  }
 },
 "nbformat": 4,
 "nbformat_minor": 5
}
