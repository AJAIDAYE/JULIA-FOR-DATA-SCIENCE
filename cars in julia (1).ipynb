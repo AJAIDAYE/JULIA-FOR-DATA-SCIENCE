{
 "cells": [
  {
   "cell_type": "code",
   "execution_count": 28,
   "id": "bce5ed0e",
   "metadata": {},
   "outputs": [
    {
     "data": {
      "text/plain": [
       "1000"
      ]
     },
     "execution_count": 28,
     "metadata": {},
     "output_type": "execute_result"
    }
   ],
   "source": [
    "using Pkg\n",
    "using DataFrames\n",
    "using CSV\n",
    "using GLM\n",
    "using StatsBase\n",
    "using Lathe\n",
    "using MLBase\n",
    "using ClassImbalance\n",
    "using ROCAnalysis\n",
    "# Enable printing of 1000 columns\n",
    "ENV[\"COLUMNS\"] = 1000"
   ]
  },
  {
   "cell_type": "code",
   "execution_count": 29,
   "id": "9fd88a8c",
   "metadata": {},
   "outputs": [
    {
     "name": "stdout",
     "output_type": "stream",
     "text": [
      "  0.018411 seconds (93.06 k allocations: 6.302 MiB)\n"
     ]
    },
    {
     "data": {
      "text/html": [
       "<table class=\"data-frame\"><thead><tr><th></th><th>mileage</th><th>make</th><th>model</th><th>fuel</th><th>gear</th><th>offerType</th><th>price</th><th>hp</th><th>year</th></tr><tr><th></th><th>Int64</th><th>String</th><th>String⍰</th><th>String</th><th>String⍰</th><th>String</th><th>Int64</th><th>Int64⍰</th><th>Int64</th></tr></thead><tbody><p>5 rows × 9 columns</p><tr><th>1</th><td>235000</td><td>BMW</td><td>316</td><td>Diesel</td><td>Manual</td><td>Used</td><td>6800</td><td>116</td><td>2011</td></tr><tr><th>2</th><td>92800</td><td>Volkswagen</td><td>Golf</td><td>Gasoline</td><td>Manual</td><td>Used</td><td>6877</td><td>122</td><td>2011</td></tr><tr><th>3</th><td>149300</td><td>SEAT</td><td>Exeo</td><td>Gasoline</td><td>Manual</td><td>Used</td><td>6900</td><td>160</td><td>2011</td></tr><tr><th>4</th><td>96200</td><td>Renault</td><td>Megane</td><td>Gasoline</td><td>Manual</td><td>Used</td><td>6950</td><td>110</td><td>2011</td></tr><tr><th>5</th><td>156000</td><td>Peugeot</td><td>308</td><td>Gasoline</td><td>Manual</td><td>Used</td><td>6950</td><td>156</td><td>2011</td></tr></tbody></table>"
      ],
      "text/latex": [
       "\\begin{tabular}{r|ccccccccc}\n",
       "\t& mileage & make & model & fuel & gear & offerType & price & hp & year\\\\\n",
       "\t\\hline\n",
       "\t& Int64 & String & String⍰ & String & String⍰ & String & Int64 & Int64⍰ & Int64\\\\\n",
       "\t\\hline\n",
       "\t1 & 235000 & BMW & 316 & Diesel & Manual & Used & 6800 & 116 & 2011 \\\\\n",
       "\t2 & 92800 & Volkswagen & Golf & Gasoline & Manual & Used & 6877 & 122 & 2011 \\\\\n",
       "\t3 & 149300 & SEAT & Exeo & Gasoline & Manual & Used & 6900 & 160 & 2011 \\\\\n",
       "\t4 & 96200 & Renault & Megane & Gasoline & Manual & Used & 6950 & 110 & 2011 \\\\\n",
       "\t5 & 156000 & Peugeot & 308 & Gasoline & Manual & Used & 6950 & 156 & 2011 \\\\\n",
       "\\end{tabular}\n"
      ],
      "text/plain": [
       "5×9 typename(DataFrame)\n",
       "│ Row │ mileage │ make       │ model   │ fuel     │ gear    │ offerType │ price │ hp     │ year  │\n",
       "│     │ \u001b[90mInt64\u001b[39m   │ \u001b[90mString\u001b[39m     │ \u001b[90mString⍰\u001b[39m │ \u001b[90mString\u001b[39m   │ \u001b[90mString⍰\u001b[39m │ \u001b[90mString\u001b[39m    │ \u001b[90mInt64\u001b[39m │ \u001b[90mInt64⍰\u001b[39m │ \u001b[90mInt64\u001b[39m │\n",
       "├─────┼─────────┼────────────┼─────────┼──────────┼─────────┼───────────┼───────┼────────┼───────┤\n",
       "│ 1   │ 235000  │ BMW        │ 316     │ Diesel   │ Manual  │ Used      │ 6800  │ 116    │ 2011  │\n",
       "│ 2   │ 92800   │ Volkswagen │ Golf    │ Gasoline │ Manual  │ Used      │ 6877  │ 122    │ 2011  │\n",
       "│ 3   │ 149300  │ SEAT       │ Exeo    │ Gasoline │ Manual  │ Used      │ 6900  │ 160    │ 2011  │\n",
       "│ 4   │ 96200   │ Renault    │ Megane  │ Gasoline │ Manual  │ Used      │ 6950  │ 110    │ 2011  │\n",
       "│ 5   │ 156000  │ Peugeot    │ 308     │ Gasoline │ Manual  │ Used      │ 6950  │ 156    │ 2011  │"
      ]
     },
     "execution_count": 29,
     "metadata": {},
     "output_type": "execute_result"
    }
   ],
   "source": [
    "@time begin\n",
    "df= CSV.read(\"C:\\\\Users\\\\ASUS\\\\OneDrive\\\\Desktop\\\\Data Science\\\\Project\\\\autoscout24_germany_dataset.csv\", DataFrame)\n",
    "first(df,5)\n",
    "end"
   ]
  },
  {
   "cell_type": "code",
   "execution_count": 30,
   "id": "24f0b05a",
   "metadata": {},
   "outputs": [
    {
     "data": {
      "text/plain": [
       "Set{Union{Missing, String}} with 4 elements:\n",
       "  \"Manual\"\n",
       "  \"Automatic\"\n",
       "  \"Semi-automatic\"\n",
       "  missing"
      ]
     },
     "execution_count": 30,
     "metadata": {},
     "output_type": "execute_result"
    }
   ],
   "source": [
    "Set(df[!, :gear])"
   ]
  },
  {
   "cell_type": "code",
   "execution_count": 31,
   "id": "5e2c03ae",
   "metadata": {},
   "outputs": [
    {
     "data": {
      "text/plain": [
       "9-element Vector{Symbol}:\n",
       " :mileage\n",
       " :make\n",
       " :model\n",
       " :fuel\n",
       " :gear\n",
       " :offerType\n",
       " :price\n",
       " :hp\n",
       " :year"
      ]
     },
     "execution_count": 31,
     "metadata": {},
     "output_type": "execute_result"
    }
   ],
   "source": [
    "names(df)"
   ]
  },
  {
   "cell_type": "code",
   "execution_count": 32,
   "id": "4a3e48a4",
   "metadata": {},
   "outputs": [
    {
     "data": {
      "text/plain": [
       "(46405, 9)"
      ]
     },
     "execution_count": 32,
     "metadata": {},
     "output_type": "execute_result"
    }
   ],
   "source": [
    "size(df)"
   ]
  },
  {
   "cell_type": "code",
   "execution_count": 33,
   "id": "bd165b49",
   "metadata": {},
   "outputs": [
    {
     "data": {
      "text/html": [
       "<table class=\"data-frame\"><thead><tr><th></th><th>mileage</th><th>make</th><th>model</th><th>fuel</th><th>gear</th><th>offerType</th><th>price</th><th>hp</th><th>year</th></tr><tr><th></th><th>Int64</th><th>String</th><th>String</th><th>String</th><th>String</th><th>String</th><th>Int64</th><th>Int64</th><th>Int64</th></tr></thead><tbody><p>46,071 rows × 9 columns</p><tr><th>1</th><td>235000</td><td>BMW</td><td>316</td><td>Diesel</td><td>Manual</td><td>Used</td><td>6800</td><td>116</td><td>2011</td></tr><tr><th>2</th><td>92800</td><td>Volkswagen</td><td>Golf</td><td>Gasoline</td><td>Manual</td><td>Used</td><td>6877</td><td>122</td><td>2011</td></tr><tr><th>3</th><td>149300</td><td>SEAT</td><td>Exeo</td><td>Gasoline</td><td>Manual</td><td>Used</td><td>6900</td><td>160</td><td>2011</td></tr><tr><th>4</th><td>96200</td><td>Renault</td><td>Megane</td><td>Gasoline</td><td>Manual</td><td>Used</td><td>6950</td><td>110</td><td>2011</td></tr><tr><th>5</th><td>156000</td><td>Peugeot</td><td>308</td><td>Gasoline</td><td>Manual</td><td>Used</td><td>6950</td><td>156</td><td>2011</td></tr><tr><th>6</th><td>147000</td><td>Toyota</td><td>Auris</td><td>Electric/Gasoline</td><td>Automatic</td><td>Used</td><td>6950</td><td>99</td><td>2011</td></tr><tr><th>7</th><td>91894</td><td>Renault</td><td>Scenic</td><td>Diesel</td><td>Manual</td><td>Used</td><td>6970</td><td>131</td><td>2011</td></tr><tr><th>8</th><td>127500</td><td>Opel</td><td>Zafira</td><td>Gasoline</td><td>Manual</td><td>Used</td><td>6972</td><td>116</td><td>2011</td></tr><tr><th>9</th><td>115000</td><td>Mazda</td><td>3</td><td>Gasoline</td><td>Automatic</td><td>Used</td><td>6980</td><td>150</td><td>2011</td></tr><tr><th>10</th><td>104</td><td>Ford</td><td>Transit</td><td>Diesel</td><td>Manual</td><td>Used</td><td>6990</td><td>86</td><td>2011</td></tr><tr><th>11</th><td>59580</td><td>Opel</td><td>Meriva</td><td>Diesel</td><td>Automatic</td><td>Used</td><td>6990</td><td>101</td><td>2011</td></tr><tr><th>12</th><td>84000</td><td>Volkswagen</td><td>Golf</td><td>Gasoline</td><td>Manual</td><td>Used</td><td>6990</td><td>105</td><td>2011</td></tr><tr><th>13</th><td>427000</td><td>Mercedes-Benz</td><td>E 250</td><td>Diesel</td><td>Automatic</td><td>Used</td><td>6990</td><td>204</td><td>2011</td></tr><tr><th>14</th><td>109000</td><td>Chevrolet</td><td>Orlando</td><td>Gasoline</td><td>Manual</td><td>Used</td><td>6990</td><td>141</td><td>2011</td></tr><tr><th>15</th><td>194020</td><td>Audi</td><td>A4</td><td>Diesel</td><td>Manual</td><td>Used</td><td>6999</td><td>120</td><td>2011</td></tr><tr><th>16</th><td>72000</td><td>Volkswagen</td><td>Polo</td><td>Gasoline</td><td>Manual</td><td>Used</td><td>6999</td><td>60</td><td>2011</td></tr><tr><th>17</th><td>190000</td><td>Renault</td><td>Espace</td><td>Diesel</td><td>Manual</td><td>Used</td><td>6999</td><td>150</td><td>2011</td></tr><tr><th>18</th><td>190000</td><td>Renault</td><td>Grand Espace</td><td>Diesel</td><td>Manual</td><td>Used</td><td>6999</td><td>150</td><td>2011</td></tr><tr><th>19</th><td>85700</td><td>Fiat</td><td>Sedici</td><td>Diesel</td><td>Manual</td><td>Used</td><td>6999</td><td>135</td><td>2011</td></tr><tr><th>20</th><td>82000</td><td>Opel</td><td>Corsa</td><td>Gasoline</td><td>Manual</td><td>Used</td><td>7000</td><td>101</td><td>2011</td></tr><tr><th>21</th><td>44800</td><td>Kia</td><td>Picanto</td><td>Gasoline</td><td>Automatic</td><td>Used</td><td>7850</td><td>86</td><td>2012</td></tr><tr><th>22</th><td>81970</td><td>Volkswagen</td><td>Golf</td><td>Gasoline</td><td>Manual</td><td>Used</td><td>7850</td><td>105</td><td>2012</td></tr><tr><th>23</th><td>24000</td><td>Dacia</td><td>Duster</td><td>Gasoline</td><td>Manual</td><td>Used</td><td>7900</td><td>105</td><td>2012</td></tr><tr><th>24</th><td>193333</td><td>Volkswagen</td><td>Cross Touran</td><td>Diesel</td><td>Manual</td><td>Used</td><td>7900</td><td>105</td><td>2012</td></tr><tr><th>25</th><td>113000</td><td>Volkswagen</td><td>Beetle</td><td>Gasoline</td><td>Manual</td><td>Used</td><td>7900</td><td>105</td><td>2012</td></tr><tr><th>26</th><td>117000</td><td>Volkswagen</td><td>Golf Cabriolet</td><td>Gasoline</td><td>Manual</td><td>Used</td><td>7949</td><td>105</td><td>2012</td></tr><tr><th>27</th><td>299900</td><td>BMW</td><td>118</td><td>Diesel</td><td>Manual</td><td>Used</td><td>7950</td><td>143</td><td>2012</td></tr><tr><th>28</th><td>104250</td><td>Opel</td><td>Astra</td><td>Gasoline</td><td>Manual</td><td>Used</td><td>7950</td><td>140</td><td>2012</td></tr><tr><th>29</th><td>151250</td><td>Peugeot</td><td>308</td><td>Diesel</td><td>Manual</td><td>Used</td><td>7950</td><td>163</td><td>2012</td></tr><tr><th>30</th><td>133500</td><td>BMW</td><td>118</td><td>Diesel</td><td>Manual</td><td>Used</td><td>7980</td><td>143</td><td>2012</td></tr><tr><th>&vellip;</th><td>&vellip;</td><td>&vellip;</td><td>&vellip;</td><td>&vellip;</td><td>&vellip;</td><td>&vellip;</td><td>&vellip;</td><td>&vellip;</td><td>&vellip;</td></tr></tbody></table>"
      ],
      "text/latex": [
       "\\begin{tabular}{r|ccccccccc}\n",
       "\t& mileage & make & model & fuel & gear & offerType & price & hp & year\\\\\n",
       "\t\\hline\n",
       "\t& Int64 & String & String & String & String & String & Int64 & Int64 & Int64\\\\\n",
       "\t\\hline\n",
       "\t1 & 235000 & BMW & 316 & Diesel & Manual & Used & 6800 & 116 & 2011 \\\\\n",
       "\t2 & 92800 & Volkswagen & Golf & Gasoline & Manual & Used & 6877 & 122 & 2011 \\\\\n",
       "\t3 & 149300 & SEAT & Exeo & Gasoline & Manual & Used & 6900 & 160 & 2011 \\\\\n",
       "\t4 & 96200 & Renault & Megane & Gasoline & Manual & Used & 6950 & 110 & 2011 \\\\\n",
       "\t5 & 156000 & Peugeot & 308 & Gasoline & Manual & Used & 6950 & 156 & 2011 \\\\\n",
       "\t6 & 147000 & Toyota & Auris & Electric/Gasoline & Automatic & Used & 6950 & 99 & 2011 \\\\\n",
       "\t7 & 91894 & Renault & Scenic & Diesel & Manual & Used & 6970 & 131 & 2011 \\\\\n",
       "\t8 & 127500 & Opel & Zafira & Gasoline & Manual & Used & 6972 & 116 & 2011 \\\\\n",
       "\t9 & 115000 & Mazda & 3 & Gasoline & Automatic & Used & 6980 & 150 & 2011 \\\\\n",
       "\t10 & 104 & Ford & Transit & Diesel & Manual & Used & 6990 & 86 & 2011 \\\\\n",
       "\t11 & 59580 & Opel & Meriva & Diesel & Automatic & Used & 6990 & 101 & 2011 \\\\\n",
       "\t12 & 84000 & Volkswagen & Golf & Gasoline & Manual & Used & 6990 & 105 & 2011 \\\\\n",
       "\t13 & 427000 & Mercedes-Benz & E 250 & Diesel & Automatic & Used & 6990 & 204 & 2011 \\\\\n",
       "\t14 & 109000 & Chevrolet & Orlando & Gasoline & Manual & Used & 6990 & 141 & 2011 \\\\\n",
       "\t15 & 194020 & Audi & A4 & Diesel & Manual & Used & 6999 & 120 & 2011 \\\\\n",
       "\t16 & 72000 & Volkswagen & Polo & Gasoline & Manual & Used & 6999 & 60 & 2011 \\\\\n",
       "\t17 & 190000 & Renault & Espace & Diesel & Manual & Used & 6999 & 150 & 2011 \\\\\n",
       "\t18 & 190000 & Renault & Grand Espace & Diesel & Manual & Used & 6999 & 150 & 2011 \\\\\n",
       "\t19 & 85700 & Fiat & Sedici & Diesel & Manual & Used & 6999 & 135 & 2011 \\\\\n",
       "\t20 & 82000 & Opel & Corsa & Gasoline & Manual & Used & 7000 & 101 & 2011 \\\\\n",
       "\t21 & 44800 & Kia & Picanto & Gasoline & Automatic & Used & 7850 & 86 & 2012 \\\\\n",
       "\t22 & 81970 & Volkswagen & Golf & Gasoline & Manual & Used & 7850 & 105 & 2012 \\\\\n",
       "\t23 & 24000 & Dacia & Duster & Gasoline & Manual & Used & 7900 & 105 & 2012 \\\\\n",
       "\t24 & 193333 & Volkswagen & Cross Touran & Diesel & Manual & Used & 7900 & 105 & 2012 \\\\\n",
       "\t25 & 113000 & Volkswagen & Beetle & Gasoline & Manual & Used & 7900 & 105 & 2012 \\\\\n",
       "\t26 & 117000 & Volkswagen & Golf Cabriolet & Gasoline & Manual & Used & 7949 & 105 & 2012 \\\\\n",
       "\t27 & 299900 & BMW & 118 & Diesel & Manual & Used & 7950 & 143 & 2012 \\\\\n",
       "\t28 & 104250 & Opel & Astra & Gasoline & Manual & Used & 7950 & 140 & 2012 \\\\\n",
       "\t29 & 151250 & Peugeot & 308 & Diesel & Manual & Used & 7950 & 163 & 2012 \\\\\n",
       "\t30 & 133500 & BMW & 118 & Diesel & Manual & Used & 7980 & 143 & 2012 \\\\\n",
       "\t$\\dots$ & $\\dots$ & $\\dots$ & $\\dots$ & $\\dots$ & $\\dots$ & $\\dots$ & $\\dots$ & $\\dots$ & $\\dots$ \\\\\n",
       "\\end{tabular}\n"
      ],
      "text/plain": [
       "46071×9 typename(DataFrame)\n",
       "│ Row   │ mileage │ make       │ model   │ fuel              │ gear      │ offerType      │ price │ hp    │ year  │\n",
       "│       │ \u001b[90mInt64\u001b[39m   │ \u001b[90mString\u001b[39m     │ \u001b[90mString\u001b[39m  │ \u001b[90mString\u001b[39m            │ \u001b[90mString\u001b[39m    │ \u001b[90mString\u001b[39m         │ \u001b[90mInt64\u001b[39m │ \u001b[90mInt64\u001b[39m │ \u001b[90mInt64\u001b[39m │\n",
       "├───────┼─────────┼────────────┼─────────┼───────────────────┼───────────┼────────────────┼───────┼───────┼───────┤\n",
       "│ 1     │ 235000  │ BMW        │ 316     │ Diesel            │ Manual    │ Used           │ 6800  │ 116   │ 2011  │\n",
       "│ 2     │ 92800   │ Volkswagen │ Golf    │ Gasoline          │ Manual    │ Used           │ 6877  │ 122   │ 2011  │\n",
       "│ 3     │ 149300  │ SEAT       │ Exeo    │ Gasoline          │ Manual    │ Used           │ 6900  │ 160   │ 2011  │\n",
       "│ 4     │ 96200   │ Renault    │ Megane  │ Gasoline          │ Manual    │ Used           │ 6950  │ 110   │ 2011  │\n",
       "│ 5     │ 156000  │ Peugeot    │ 308     │ Gasoline          │ Manual    │ Used           │ 6950  │ 156   │ 2011  │\n",
       "│ 6     │ 147000  │ Toyota     │ Auris   │ Electric/Gasoline │ Automatic │ Used           │ 6950  │ 99    │ 2011  │\n",
       "│ 7     │ 91894   │ Renault    │ Scenic  │ Diesel            │ Manual    │ Used           │ 6970  │ 131   │ 2011  │\n",
       "│ 8     │ 127500  │ Opel       │ Zafira  │ Gasoline          │ Manual    │ Used           │ 6972  │ 116   │ 2011  │\n",
       "│ 9     │ 115000  │ Mazda      │ 3       │ Gasoline          │ Automatic │ Used           │ 6980  │ 150   │ 2011  │\n",
       "│ 10    │ 104     │ Ford       │ Transit │ Diesel            │ Manual    │ Used           │ 6990  │ 86    │ 2011  │\n",
       "⋮\n",
       "│ 46061 │ 10      │ Citroen    │ C1      │ Gasoline          │ Manual    │ Pre-registered │ 12340 │ 72    │ 2021  │\n",
       "│ 46062 │ 10      │ Citroen    │ C1      │ Gasoline          │ Manual    │ Pre-registered │ 12340 │ 72    │ 2021  │\n",
       "│ 46063 │ 99      │ Fiat       │ 500     │ Electric/Gasoline │ Manual    │ Pre-registered │ 12490 │ 71    │ 2021  │\n",
       "│ 46064 │ 550     │ Fiat       │ 500     │ Electric/Gasoline │ Manual    │ Demonstration  │ 12805 │ 69    │ 2021  │\n",
       "│ 46065 │ 837     │ Fiat       │ Panda   │ Electric/Gasoline │ Manual    │ Demonstration  │ 12805 │ 69    │ 2021  │\n",
       "│ 46066 │ 1500    │ Skoda      │ Fabia   │ Gasoline          │ Manual    │ Demonstration  │ 12980 │ 60    │ 2021  │\n",
       "│ 46067 │ 99      │ Fiat       │ 500     │ Electric/Gasoline │ Manual    │ Pre-registered │ 12990 │ 71    │ 2021  │\n",
       "│ 46068 │ 99      │ Fiat       │ 500     │ Electric/Gasoline │ Manual    │ Pre-registered │ 12990 │ 71    │ 2021  │\n",
       "│ 46069 │ 99      │ Fiat       │ 500     │ Electric/Gasoline │ Manual    │ Pre-registered │ 12990 │ 71    │ 2021  │\n",
       "│ 46070 │ 99      │ Fiat       │ 500     │ Electric/Gasoline │ Manual    │ Pre-registered │ 12990 │ 71    │ 2021  │\n",
       "│ 46071 │ 99      │ Fiat       │ 500     │ Electric/Gasoline │ Manual    │ Pre-registered │ 12990 │ 71    │ 2021  │"
      ]
     },
     "execution_count": 33,
     "metadata": {},
     "output_type": "execute_result"
    }
   ],
   "source": [
    "df = dropmissing(df)"
   ]
  },
  {
   "cell_type": "code",
   "execution_count": 34,
   "id": "c643c8a5",
   "metadata": {},
   "outputs": [
    {
     "name": "stdout",
     "output_type": "stream",
     "text": [
      "false\n"
     ]
    }
   ],
   "source": [
    "missing_elements = ismissing(df)\n",
    "println(missing_elements)"
   ]
  },
  {
   "cell_type": "code",
   "execution_count": 35,
   "id": "e2034b3f",
   "metadata": {},
   "outputs": [
    {
     "data": {
      "text/html": [
       "<table class=\"data-frame\"><thead><tr><th></th><th>variable</th><th>mean</th><th>min</th><th>median</th><th>max</th><th>nunique</th><th>nmissing</th><th>eltype</th></tr><tr><th></th><th>Symbol</th><th>Union…</th><th>Any</th><th>Union…</th><th>Any</th><th>Union…</th><th>Nothing</th><th>DataType</th></tr></thead><tbody><p>9 rows × 8 columns</p><tr><th>1</th><td>mileage</td><td>71233.1</td><td>0</td><td>60000.0</td><td>1111111</td><td></td><td></td><td>Int64</td></tr><tr><th>2</th><td>make</td><td></td><td>Abarth</td><td></td><td>smart</td><td>71</td><td></td><td>String</td></tr><tr><th>3</th><td>model</td><td></td><td>107</td><td></td><td>up!</td><td>835</td><td></td><td>String</td></tr><tr><th>4</th><td>fuel</td><td></td><td>-/- (Fuel)</td><td></td><td>Others</td><td>11</td><td></td><td>String</td></tr><tr><th>5</th><td>gear</td><td></td><td>Automatic</td><td></td><td>Semi-automatic</td><td>3</td><td></td><td>String</td></tr><tr><th>6</th><td>offerType</td><td></td><td>Demonstration</td><td></td><td>Used</td><td>5</td><td></td><td>String</td></tr><tr><th>7</th><td>price</td><td>16563.1</td><td>1100</td><td>11000.0</td><td>1199900</td><td></td><td></td><td>Int64</td></tr><tr><th>8</th><td>hp</td><td>132.993</td><td>1</td><td>116.0</td><td>850</td><td></td><td></td><td>Int64</td></tr><tr><th>9</th><td>year</td><td>2016.01</td><td>2011</td><td>2016.0</td><td>2021</td><td></td><td></td><td>Int64</td></tr></tbody></table>"
      ],
      "text/latex": [
       "\\begin{tabular}{r|cccccccc}\n",
       "\t& variable & mean & min & median & max & nunique & nmissing & eltype\\\\\n",
       "\t\\hline\n",
       "\t& Symbol & Union… & Any & Union… & Any & Union… & Nothing & DataType\\\\\n",
       "\t\\hline\n",
       "\t1 & mileage & 71233.1 & 0 & 60000.0 & 1111111 &  &  & Int64 \\\\\n",
       "\t2 & make &  & Abarth &  & smart & 71 &  & String \\\\\n",
       "\t3 & model &  & 107 &  & up! & 835 &  & String \\\\\n",
       "\t4 & fuel &  & -/- (Fuel) &  & Others & 11 &  & String \\\\\n",
       "\t5 & gear &  & Automatic &  & Semi-automatic & 3 &  & String \\\\\n",
       "\t6 & offerType &  & Demonstration &  & Used & 5 &  & String \\\\\n",
       "\t7 & price & 16563.1 & 1100 & 11000.0 & 1199900 &  &  & Int64 \\\\\n",
       "\t8 & hp & 132.993 & 1 & 116.0 & 850 &  &  & Int64 \\\\\n",
       "\t9 & year & 2016.01 & 2011 & 2016.0 & 2021 &  &  & Int64 \\\\\n",
       "\\end{tabular}\n"
      ],
      "text/plain": [
       "9×8 typename(DataFrame)\n",
       "│ Row │ variable  │ mean    │ min           │ median  │ max            │ nunique │ nmissing │ eltype   │\n",
       "│     │ \u001b[90mSymbol\u001b[39m    │ \u001b[90mUnion…\u001b[39m  │ \u001b[90mAny\u001b[39m           │ \u001b[90mUnion…\u001b[39m  │ \u001b[90mAny\u001b[39m            │ \u001b[90mUnion…\u001b[39m  │ \u001b[90mNothing\u001b[39m  │ \u001b[90mDataType\u001b[39m │\n",
       "├─────┼───────────┼─────────┼───────────────┼─────────┼────────────────┼─────────┼──────────┼──────────┤\n",
       "│ 1   │ mileage   │ 71233.1 │ 0             │ 60000.0 │ 1111111        │         │          │ Int64    │\n",
       "│ 2   │ make      │         │ Abarth        │         │ smart          │ 71      │          │ String   │\n",
       "│ 3   │ model     │         │ 107           │         │ up!            │ 835     │          │ String   │\n",
       "│ 4   │ fuel      │         │ -/- (Fuel)    │         │ Others         │ 11      │          │ String   │\n",
       "│ 5   │ gear      │         │ Automatic     │         │ Semi-automatic │ 3       │          │ String   │\n",
       "│ 6   │ offerType │         │ Demonstration │         │ Used           │ 5       │          │ String   │\n",
       "│ 7   │ price     │ 16563.1 │ 1100          │ 11000.0 │ 1199900        │         │          │ Int64    │\n",
       "│ 8   │ hp        │ 132.993 │ 1             │ 116.0   │ 850            │         │          │ Int64    │\n",
       "│ 9   │ year      │ 2016.01 │ 2011          │ 2016.0  │ 2021           │         │          │ Int64    │"
      ]
     },
     "execution_count": 35,
     "metadata": {},
     "output_type": "execute_result"
    }
   ],
   "source": [
    "describe(df)"
   ]
  },
  {
   "cell_type": "code",
   "execution_count": 36,
   "id": "f08fcfa3",
   "metadata": {},
   "outputs": [
    {
     "data": {
      "text/plain": [
       "46071×4 Matrix{Int64}:\n",
       " 235000   6800  116  2011\n",
       "  92800   6877  122  2011\n",
       " 149300   6900  160  2011\n",
       "  96200   6950  110  2011\n",
       " 156000   6950  156  2011\n",
       " 147000   6950   99  2011\n",
       "  91894   6970  131  2011\n",
       " 127500   6972  116  2011\n",
       " 115000   6980  150  2011\n",
       "    104   6990   86  2011\n",
       "  59580   6990  101  2011\n",
       "  84000   6990  105  2011\n",
       " 427000   6990  204  2011\n",
       "      ⋮              \n",
       "      5  11990   69  2021\n",
       "     10  12340   72  2021\n",
       "     10  12340   72  2021\n",
       "     99  12490   71  2021\n",
       "    550  12805   69  2021\n",
       "    837  12805   69  2021\n",
       "   1500  12980   60  2021\n",
       "     99  12990   71  2021\n",
       "     99  12990   71  2021\n",
       "     99  12990   71  2021\n",
       "     99  12990   71  2021\n",
       "     99  12990   71  2021"
      ]
     },
     "execution_count": 36,
     "metadata": {},
     "output_type": "execute_result"
    }
   ],
   "source": [
    "df_x = convert(Array,df[:,[1,7,8,9]])"
   ]
  },
  {
   "cell_type": "code",
   "execution_count": 37,
   "id": "77a046fe",
   "metadata": {},
   "outputs": [
    {
     "data": {
      "text/plain": [
       "46071-element Vector{String}:\n",
       " \"Manual\"\n",
       " \"Manual\"\n",
       " \"Manual\"\n",
       " \"Manual\"\n",
       " \"Manual\"\n",
       " \"Automatic\"\n",
       " \"Manual\"\n",
       " \"Manual\"\n",
       " \"Automatic\"\n",
       " \"Manual\"\n",
       " \"Automatic\"\n",
       " \"Manual\"\n",
       " \"Automatic\"\n",
       " ⋮\n",
       " \"Manual\"\n",
       " \"Manual\"\n",
       " \"Manual\"\n",
       " \"Manual\"\n",
       " \"Manual\"\n",
       " \"Manual\"\n",
       " \"Manual\"\n",
       " \"Manual\"\n",
       " \"Manual\"\n",
       " \"Manual\"\n",
       " \"Manual\"\n",
       " \"Manual\""
      ]
     },
     "execution_count": 37,
     "metadata": {},
     "output_type": "execute_result"
    }
   ],
   "source": [
    "df_y= convert(Array,df[:,5])"
   ]
  },
  {
   "cell_type": "code",
   "execution_count": 38,
   "id": "c21d2960",
   "metadata": {},
   "outputs": [
    {
     "data": {
      "text/plain": [
       "DecisionTreeClassifier\n",
       "max_depth:                -1\n",
       "min_samples_leaf:         1\n",
       "min_samples_split:        2\n",
       "min_purity_increase:      0.0\n",
       "pruning_purity_threshold: 1.0\n",
       "n_subfeatures:            0\n",
       "classes:                  nothing\n",
       "root:                     nothing"
      ]
     },
     "execution_count": 38,
     "metadata": {},
     "output_type": "execute_result"
    }
   ],
   "source": [
    "using DecisionTree\n",
    "tree_model= DecisionTreeClassifier()\n"
   ]
  },
  {
   "cell_type": "code",
   "execution_count": 39,
   "id": "b357f878",
   "metadata": {},
   "outputs": [
    {
     "data": {
      "text/plain": [
       "DecisionTreeClassifier\n",
       "max_depth:                -1\n",
       "min_samples_leaf:         1\n",
       "min_samples_split:        2\n",
       "min_purity_increase:      0.0\n",
       "pruning_purity_threshold: 1.0\n",
       "n_subfeatures:            0\n",
       "classes:                  [\"Automatic\", \"Manual\", \"Semi-automatic\"]\n",
       "root:                     Decision Tree\n",
       "Leaves: 7583\n",
       "Depth:  54"
      ]
     },
     "execution_count": 39,
     "metadata": {},
     "output_type": "execute_result"
    }
   ],
   "source": [
    "using DecisionTree\n",
    "DecisionTree.fit!(tree_model, df_x, df_y)"
   ]
  },
  {
   "cell_type": "code",
   "execution_count": 40,
   "id": "80573c38",
   "metadata": {},
   "outputs": [
    {
     "data": {
      "text/plain": [
       "46071-element Vector{String}:\n",
       " \"Manual\"\n",
       " \"Manual\"\n",
       " \"Manual\"\n",
       " \"Manual\"\n",
       " \"Manual\"\n",
       " \"Automatic\"\n",
       " \"Manual\"\n",
       " \"Manual\"\n",
       " \"Automatic\"\n",
       " \"Manual\"\n",
       " \"Automatic\"\n",
       " \"Manual\"\n",
       " \"Automatic\"\n",
       " ⋮\n",
       " \"Manual\"\n",
       " \"Manual\"\n",
       " \"Manual\"\n",
       " \"Manual\"\n",
       " \"Manual\"\n",
       " \"Manual\"\n",
       " \"Manual\"\n",
       " \"Manual\"\n",
       " \"Manual\"\n",
       " \"Manual\"\n",
       " \"Manual\"\n",
       " \"Manual\""
      ]
     },
     "execution_count": 40,
     "metadata": {},
     "output_type": "execute_result"
    }
   ],
   "source": [
    "tree_predictions=DecisionTree.predict(tree_model,df_x)"
   ]
  },
  {
   "cell_type": "code",
   "execution_count": 41,
   "id": "ac901a63",
   "metadata": {},
   "outputs": [
    {
     "name": "stderr",
     "output_type": "stream",
     "text": [
      "WARNING: redefinition of constant accuracy_score. This may fail, cause incorrect answers, or produce other errors.\n"
     ]
    },
    {
     "data": {
      "text/plain": [
       "PyObject <function accuracy_score at 0x0000000081E123B0>"
      ]
     },
     "execution_count": 41,
     "metadata": {},
     "output_type": "execute_result"
    }
   ],
   "source": [
    "using ScikitLearn\n",
    "@sk_import metrics: accuracy_score\n"
   ]
  },
  {
   "cell_type": "code",
   "execution_count": 42,
   "id": "ab7133f7",
   "metadata": {},
   "outputs": [
    {
     "data": {
      "text/plain": [
       "0.9993054198953789"
      ]
     },
     "execution_count": 42,
     "metadata": {},
     "output_type": "execute_result"
    }
   ],
   "source": [
    "tree_predictions=DecisionTree.predict(tree_model,df_x)\n",
    "accuracy = accuracy_score(tree_predictions, df_y)"
   ]
  },
  {
   "cell_type": "markdown",
   "id": "515d311f",
   "metadata": {},
   "source": [
    "# Splitting the data"
   ]
  },
  {
   "cell_type": "code",
   "execution_count": 43,
   "id": "fa9c156c",
   "metadata": {},
   "outputs": [
    {
     "name": "stderr",
     "output_type": "stream",
     "text": [
      "\u001b[33m\u001b[1m┌ \u001b[22m\u001b[39m\u001b[33m\u001b[1mWarning: \u001b[22m\u001b[39mModule model_selection has been ported to Julia - try `import ScikitLearn: CrossValidation` instead\n",
      "\u001b[33m\u001b[1m└ \u001b[22m\u001b[39m\u001b[90m@ ScikitLearn.Skcore C:\\Users\\ASUS\\.julia\\packages\\ScikitLearn\\Kn82b\\src\\Skcore.jl:169\u001b[39m\n",
      "WARNING: redefinition of constant train_test_split. This may fail, cause incorrect answers, or produce other errors.\n"
     ]
    },
    {
     "data": {
      "text/plain": [
       "PyObject <function train_test_split at 0x0000000081FDD2D0>"
      ]
     },
     "execution_count": 43,
     "metadata": {},
     "output_type": "execute_result"
    }
   ],
   "source": [
    "using ScikitLearn\n",
    "\n",
    " @sk_import model_selection: train_test_split"
   ]
  },
  {
   "cell_type": "code",
   "execution_count": 44,
   "id": "2f4e1d0b",
   "metadata": {},
   "outputs": [
    {
     "data": {
      "text/plain": [
       "4-element Vector{Array}:\n",
       " [60100 11390 102 2019; 104797 4980 69 2011; … ; 7285 24950 150 2020; 23555 24990 190 2019]\n",
       " [16800 14080 95 2019; 44167 9879 82 2017; … ; 11000 295000 799 2013; 6492 14690 72 2020]\n",
       " [\"Manual\", \"Manual\", \"Automatic\", \"Automatic\", \"Automatic\", \"Manual\", \"Manual\", \"Automatic\", \"Automatic\", \"Manual\"  …  \"Manual\", \"Manual\", \"Manual\", \"Manual\", \"Manual\", \"Automatic\", \"Manual\", \"Automatic\", \"Automatic\", \"Automatic\"]\n",
       " [\"Manual\", \"Manual\", \"Automatic\", \"Manual\", \"Automatic\", \"Manual\", \"Automatic\", \"Manual\", \"Automatic\", \"Automatic\"  …  \"Manual\", \"Manual\", \"Automatic\", \"Automatic\", \"Manual\", \"Automatic\", \"Automatic\", \"Manual\", \"Automatic\", \"Manual\"]"
      ]
     },
     "execution_count": 44,
     "metadata": {},
     "output_type": "execute_result"
    }
   ],
   "source": [
    "x_train, x_test, y_train, y_test = train_test_split(df_x,df_y, test_size=.75)"
   ]
  },
  {
   "cell_type": "markdown",
   "id": "a0c131a9",
   "metadata": {},
   "source": [
    "# Classification models"
   ]
  },
  {
   "cell_type": "code",
   "execution_count": 45,
   "id": "21419932",
   "metadata": {},
   "outputs": [
    {
     "name": "stdout",
     "output_type": "stream",
     "text": [
      "  0.391883 seconds (376.22 k allocations: 37.925 MiB, 30.30% gc time)\n"
     ]
    },
    {
     "data": {
      "text/plain": [
       "0.8273716501707472"
      ]
     },
     "execution_count": 45,
     "metadata": {},
     "output_type": "execute_result"
    }
   ],
   "source": [
    "using ScikitLearn: fit!\n",
    "using ScikitLearn: predict\n",
    "@time begin\n",
    "rf_model=RandomForestClassifier()\n",
    "fit!(rf_model, x_train, y_train)\n",
    "rf_predictions=predict(rf_model,x_test)\n",
    "rf_accuracy = accuracy_score(rf_predictions, y_test)\n",
    "end"
   ]
  },
  {
   "cell_type": "code",
   "execution_count": 46,
   "id": "3ab2e3eb",
   "metadata": {},
   "outputs": [
    {
     "name": "stdout",
     "output_type": "stream",
     "text": [
      "  0.107535 seconds (125.40 k allocations: 6.205 MiB)\n"
     ]
    },
    {
     "data": {
      "text/plain": [
       "0.7899230190426578"
      ]
     },
     "execution_count": 46,
     "metadata": {},
     "output_type": "execute_result"
    }
   ],
   "source": [
    "@time begin\n",
    "dt_model=DecisionTreeClassifier()\n",
    "fit!(dt_model, x_train, y_train)\n",
    "dt_predictions=predict(dt_model,x_test)\n",
    "dt_accuracy = accuracy_score(dt_predictions, y_test)\n",
    "end"
   ]
  },
  {
   "cell_type": "markdown",
   "id": "65440877",
   "metadata": {},
   "source": [
    "# Logistic regression"
   ]
  },
  {
   "cell_type": "code",
   "execution_count": 47,
   "id": "3fcb336a",
   "metadata": {},
   "outputs": [
    {
     "name": "stdout",
     "output_type": "stream",
     "text": [
      "  0.442811 seconds (322.60 k allocations: 7.827 MiB)\n"
     ]
    },
    {
     "name": "stderr",
     "output_type": "stream",
     "text": [
      "WARNING: redefinition of constant LogisticRegression. This may fail, cause incorrect answers, or produce other errors.\n",
      "C:\\Users\\ASUS\\.julia\\conda\\3\\lib\\site-packages\\sklearn\\linear_model\\_logistic.py:458: ConvergenceWarning: lbfgs failed to converge (status=1):\r\n",
      "STOP: TOTAL NO. of ITERATIONS REACHED LIMIT.\r\n",
      "\r\n",
      "Increase the number of iterations (max_iter) or scale the data as shown in:\r\n",
      "    https://scikit-learn.org/stable/modules/preprocessing.html\r\n",
      "Please also refer to the documentation for alternative solver options:\r\n",
      "    https://scikit-learn.org/stable/modules/linear_model.html#logistic-regression\r\n",
      "  n_iter_i = _check_optimize_result(\r\n"
     ]
    },
    {
     "data": {
      "text/plain": [
       "0.8320889043236673"
      ]
     },
     "execution_count": 47,
     "metadata": {},
     "output_type": "execute_result"
    }
   ],
   "source": [
    "@time begin\n",
    "@sk_import linear_model: LogisticRegression\n",
    "log_reg_model=LogisticRegression()\n",
    "fit!(log_reg_model, x_train, y_train)\n",
    "log_predictions=predict(log_reg_model,x_test)\n",
    "log_accuracy = accuracy_score(log_predictions, y_test)\n",
    "end"
   ]
  },
  {
   "cell_type": "code",
   "execution_count": 48,
   "id": "98846d29",
   "metadata": {},
   "outputs": [],
   "source": [
    "df[:, :gear] = replace(df[:, :gear], \"Semi-automatic\" => \"Automatic\");"
   ]
  },
  {
   "cell_type": "code",
   "execution_count": 49,
   "id": "2f9d5c77",
   "metadata": {},
   "outputs": [
    {
     "data": {
      "text/html": [
       "<table class=\"data-frame\"><thead><tr><th></th><th>mileage</th><th>make</th><th>model</th><th>fuel</th><th>gear</th><th>offerType</th><th>price</th><th>hp</th><th>year</th><th>Manual</th><th>Automatic</th></tr><tr><th></th><th>Int64</th><th>String</th><th>String</th><th>String</th><th>String</th><th>String</th><th>Int64</th><th>Int64</th><th>Int64</th><th>Bool</th><th>Bool</th></tr></thead><tbody><p>46,071 rows × 11 columns</p><tr><th>1</th><td>235000</td><td>BMW</td><td>316</td><td>Diesel</td><td>Manual</td><td>Used</td><td>6800</td><td>116</td><td>2011</td><td>1</td><td>0</td></tr><tr><th>2</th><td>92800</td><td>Volkswagen</td><td>Golf</td><td>Gasoline</td><td>Manual</td><td>Used</td><td>6877</td><td>122</td><td>2011</td><td>1</td><td>0</td></tr><tr><th>3</th><td>149300</td><td>SEAT</td><td>Exeo</td><td>Gasoline</td><td>Manual</td><td>Used</td><td>6900</td><td>160</td><td>2011</td><td>1</td><td>0</td></tr><tr><th>4</th><td>96200</td><td>Renault</td><td>Megane</td><td>Gasoline</td><td>Manual</td><td>Used</td><td>6950</td><td>110</td><td>2011</td><td>1</td><td>0</td></tr><tr><th>5</th><td>156000</td><td>Peugeot</td><td>308</td><td>Gasoline</td><td>Manual</td><td>Used</td><td>6950</td><td>156</td><td>2011</td><td>1</td><td>0</td></tr><tr><th>6</th><td>147000</td><td>Toyota</td><td>Auris</td><td>Electric/Gasoline</td><td>Automatic</td><td>Used</td><td>6950</td><td>99</td><td>2011</td><td>0</td><td>1</td></tr><tr><th>7</th><td>91894</td><td>Renault</td><td>Scenic</td><td>Diesel</td><td>Manual</td><td>Used</td><td>6970</td><td>131</td><td>2011</td><td>1</td><td>0</td></tr><tr><th>8</th><td>127500</td><td>Opel</td><td>Zafira</td><td>Gasoline</td><td>Manual</td><td>Used</td><td>6972</td><td>116</td><td>2011</td><td>1</td><td>0</td></tr><tr><th>9</th><td>115000</td><td>Mazda</td><td>3</td><td>Gasoline</td><td>Automatic</td><td>Used</td><td>6980</td><td>150</td><td>2011</td><td>0</td><td>1</td></tr><tr><th>10</th><td>104</td><td>Ford</td><td>Transit</td><td>Diesel</td><td>Manual</td><td>Used</td><td>6990</td><td>86</td><td>2011</td><td>1</td><td>0</td></tr><tr><th>11</th><td>59580</td><td>Opel</td><td>Meriva</td><td>Diesel</td><td>Automatic</td><td>Used</td><td>6990</td><td>101</td><td>2011</td><td>0</td><td>1</td></tr><tr><th>12</th><td>84000</td><td>Volkswagen</td><td>Golf</td><td>Gasoline</td><td>Manual</td><td>Used</td><td>6990</td><td>105</td><td>2011</td><td>1</td><td>0</td></tr><tr><th>13</th><td>427000</td><td>Mercedes-Benz</td><td>E 250</td><td>Diesel</td><td>Automatic</td><td>Used</td><td>6990</td><td>204</td><td>2011</td><td>0</td><td>1</td></tr><tr><th>14</th><td>109000</td><td>Chevrolet</td><td>Orlando</td><td>Gasoline</td><td>Manual</td><td>Used</td><td>6990</td><td>141</td><td>2011</td><td>1</td><td>0</td></tr><tr><th>15</th><td>194020</td><td>Audi</td><td>A4</td><td>Diesel</td><td>Manual</td><td>Used</td><td>6999</td><td>120</td><td>2011</td><td>1</td><td>0</td></tr><tr><th>16</th><td>72000</td><td>Volkswagen</td><td>Polo</td><td>Gasoline</td><td>Manual</td><td>Used</td><td>6999</td><td>60</td><td>2011</td><td>1</td><td>0</td></tr><tr><th>17</th><td>190000</td><td>Renault</td><td>Espace</td><td>Diesel</td><td>Manual</td><td>Used</td><td>6999</td><td>150</td><td>2011</td><td>1</td><td>0</td></tr><tr><th>18</th><td>190000</td><td>Renault</td><td>Grand Espace</td><td>Diesel</td><td>Manual</td><td>Used</td><td>6999</td><td>150</td><td>2011</td><td>1</td><td>0</td></tr><tr><th>19</th><td>85700</td><td>Fiat</td><td>Sedici</td><td>Diesel</td><td>Manual</td><td>Used</td><td>6999</td><td>135</td><td>2011</td><td>1</td><td>0</td></tr><tr><th>20</th><td>82000</td><td>Opel</td><td>Corsa</td><td>Gasoline</td><td>Manual</td><td>Used</td><td>7000</td><td>101</td><td>2011</td><td>1</td><td>0</td></tr><tr><th>21</th><td>44800</td><td>Kia</td><td>Picanto</td><td>Gasoline</td><td>Automatic</td><td>Used</td><td>7850</td><td>86</td><td>2012</td><td>0</td><td>1</td></tr><tr><th>22</th><td>81970</td><td>Volkswagen</td><td>Golf</td><td>Gasoline</td><td>Manual</td><td>Used</td><td>7850</td><td>105</td><td>2012</td><td>1</td><td>0</td></tr><tr><th>23</th><td>24000</td><td>Dacia</td><td>Duster</td><td>Gasoline</td><td>Manual</td><td>Used</td><td>7900</td><td>105</td><td>2012</td><td>1</td><td>0</td></tr><tr><th>24</th><td>193333</td><td>Volkswagen</td><td>Cross Touran</td><td>Diesel</td><td>Manual</td><td>Used</td><td>7900</td><td>105</td><td>2012</td><td>1</td><td>0</td></tr><tr><th>25</th><td>113000</td><td>Volkswagen</td><td>Beetle</td><td>Gasoline</td><td>Manual</td><td>Used</td><td>7900</td><td>105</td><td>2012</td><td>1</td><td>0</td></tr><tr><th>26</th><td>117000</td><td>Volkswagen</td><td>Golf Cabriolet</td><td>Gasoline</td><td>Manual</td><td>Used</td><td>7949</td><td>105</td><td>2012</td><td>1</td><td>0</td></tr><tr><th>27</th><td>299900</td><td>BMW</td><td>118</td><td>Diesel</td><td>Manual</td><td>Used</td><td>7950</td><td>143</td><td>2012</td><td>1</td><td>0</td></tr><tr><th>28</th><td>104250</td><td>Opel</td><td>Astra</td><td>Gasoline</td><td>Manual</td><td>Used</td><td>7950</td><td>140</td><td>2012</td><td>1</td><td>0</td></tr><tr><th>29</th><td>151250</td><td>Peugeot</td><td>308</td><td>Diesel</td><td>Manual</td><td>Used</td><td>7950</td><td>163</td><td>2012</td><td>1</td><td>0</td></tr><tr><th>30</th><td>133500</td><td>BMW</td><td>118</td><td>Diesel</td><td>Manual</td><td>Used</td><td>7980</td><td>143</td><td>2012</td><td>1</td><td>0</td></tr><tr><th>&vellip;</th><td>&vellip;</td><td>&vellip;</td><td>&vellip;</td><td>&vellip;</td><td>&vellip;</td><td>&vellip;</td><td>&vellip;</td><td>&vellip;</td><td>&vellip;</td><td>&vellip;</td><td>&vellip;</td></tr></tbody></table>"
      ],
      "text/latex": [
       "\\begin{tabular}{r|ccccccccccc}\n",
       "\t& mileage & make & model & fuel & gear & offerType & price & hp & year & Manual & Automatic\\\\\n",
       "\t\\hline\n",
       "\t& Int64 & String & String & String & String & String & Int64 & Int64 & Int64 & Bool & Bool\\\\\n",
       "\t\\hline\n",
       "\t1 & 235000 & BMW & 316 & Diesel & Manual & Used & 6800 & 116 & 2011 & 1 & 0 \\\\\n",
       "\t2 & 92800 & Volkswagen & Golf & Gasoline & Manual & Used & 6877 & 122 & 2011 & 1 & 0 \\\\\n",
       "\t3 & 149300 & SEAT & Exeo & Gasoline & Manual & Used & 6900 & 160 & 2011 & 1 & 0 \\\\\n",
       "\t4 & 96200 & Renault & Megane & Gasoline & Manual & Used & 6950 & 110 & 2011 & 1 & 0 \\\\\n",
       "\t5 & 156000 & Peugeot & 308 & Gasoline & Manual & Used & 6950 & 156 & 2011 & 1 & 0 \\\\\n",
       "\t6 & 147000 & Toyota & Auris & Electric/Gasoline & Automatic & Used & 6950 & 99 & 2011 & 0 & 1 \\\\\n",
       "\t7 & 91894 & Renault & Scenic & Diesel & Manual & Used & 6970 & 131 & 2011 & 1 & 0 \\\\\n",
       "\t8 & 127500 & Opel & Zafira & Gasoline & Manual & Used & 6972 & 116 & 2011 & 1 & 0 \\\\\n",
       "\t9 & 115000 & Mazda & 3 & Gasoline & Automatic & Used & 6980 & 150 & 2011 & 0 & 1 \\\\\n",
       "\t10 & 104 & Ford & Transit & Diesel & Manual & Used & 6990 & 86 & 2011 & 1 & 0 \\\\\n",
       "\t11 & 59580 & Opel & Meriva & Diesel & Automatic & Used & 6990 & 101 & 2011 & 0 & 1 \\\\\n",
       "\t12 & 84000 & Volkswagen & Golf & Gasoline & Manual & Used & 6990 & 105 & 2011 & 1 & 0 \\\\\n",
       "\t13 & 427000 & Mercedes-Benz & E 250 & Diesel & Automatic & Used & 6990 & 204 & 2011 & 0 & 1 \\\\\n",
       "\t14 & 109000 & Chevrolet & Orlando & Gasoline & Manual & Used & 6990 & 141 & 2011 & 1 & 0 \\\\\n",
       "\t15 & 194020 & Audi & A4 & Diesel & Manual & Used & 6999 & 120 & 2011 & 1 & 0 \\\\\n",
       "\t16 & 72000 & Volkswagen & Polo & Gasoline & Manual & Used & 6999 & 60 & 2011 & 1 & 0 \\\\\n",
       "\t17 & 190000 & Renault & Espace & Diesel & Manual & Used & 6999 & 150 & 2011 & 1 & 0 \\\\\n",
       "\t18 & 190000 & Renault & Grand Espace & Diesel & Manual & Used & 6999 & 150 & 2011 & 1 & 0 \\\\\n",
       "\t19 & 85700 & Fiat & Sedici & Diesel & Manual & Used & 6999 & 135 & 2011 & 1 & 0 \\\\\n",
       "\t20 & 82000 & Opel & Corsa & Gasoline & Manual & Used & 7000 & 101 & 2011 & 1 & 0 \\\\\n",
       "\t21 & 44800 & Kia & Picanto & Gasoline & Automatic & Used & 7850 & 86 & 2012 & 0 & 1 \\\\\n",
       "\t22 & 81970 & Volkswagen & Golf & Gasoline & Manual & Used & 7850 & 105 & 2012 & 1 & 0 \\\\\n",
       "\t23 & 24000 & Dacia & Duster & Gasoline & Manual & Used & 7900 & 105 & 2012 & 1 & 0 \\\\\n",
       "\t24 & 193333 & Volkswagen & Cross Touran & Diesel & Manual & Used & 7900 & 105 & 2012 & 1 & 0 \\\\\n",
       "\t25 & 113000 & Volkswagen & Beetle & Gasoline & Manual & Used & 7900 & 105 & 2012 & 1 & 0 \\\\\n",
       "\t26 & 117000 & Volkswagen & Golf Cabriolet & Gasoline & Manual & Used & 7949 & 105 & 2012 & 1 & 0 \\\\\n",
       "\t27 & 299900 & BMW & 118 & Diesel & Manual & Used & 7950 & 143 & 2012 & 1 & 0 \\\\\n",
       "\t28 & 104250 & Opel & Astra & Gasoline & Manual & Used & 7950 & 140 & 2012 & 1 & 0 \\\\\n",
       "\t29 & 151250 & Peugeot & 308 & Diesel & Manual & Used & 7950 & 163 & 2012 & 1 & 0 \\\\\n",
       "\t30 & 133500 & BMW & 118 & Diesel & Manual & Used & 7980 & 143 & 2012 & 1 & 0 \\\\\n",
       "\t$\\dots$ & $\\dots$ & $\\dots$ & $\\dots$ & $\\dots$ & $\\dots$ & $\\dots$ & $\\dots$ & $\\dots$ & $\\dots$ & $\\dots$ & $\\dots$ \\\\\n",
       "\\end{tabular}\n"
      ],
      "text/plain": [
       "46071×11 typename(DataFrame)\n",
       "│ Row   │ mileage │ make       │ model   │ fuel              │ gear      │ offerType      │ price │ hp    │ year  │ Manual │ Automatic │\n",
       "│       │ \u001b[90mInt64\u001b[39m   │ \u001b[90mString\u001b[39m     │ \u001b[90mString\u001b[39m  │ \u001b[90mString\u001b[39m            │ \u001b[90mString\u001b[39m    │ \u001b[90mString\u001b[39m         │ \u001b[90mInt64\u001b[39m │ \u001b[90mInt64\u001b[39m │ \u001b[90mInt64\u001b[39m │ \u001b[90mBool\u001b[39m   │ \u001b[90mBool\u001b[39m      │\n",
       "├───────┼─────────┼────────────┼─────────┼───────────────────┼───────────┼────────────────┼───────┼───────┼───────┼────────┼───────────┤\n",
       "│ 1     │ 235000  │ BMW        │ 316     │ Diesel            │ Manual    │ Used           │ 6800  │ 116   │ 2011  │ 1      │ 0         │\n",
       "│ 2     │ 92800   │ Volkswagen │ Golf    │ Gasoline          │ Manual    │ Used           │ 6877  │ 122   │ 2011  │ 1      │ 0         │\n",
       "│ 3     │ 149300  │ SEAT       │ Exeo    │ Gasoline          │ Manual    │ Used           │ 6900  │ 160   │ 2011  │ 1      │ 0         │\n",
       "│ 4     │ 96200   │ Renault    │ Megane  │ Gasoline          │ Manual    │ Used           │ 6950  │ 110   │ 2011  │ 1      │ 0         │\n",
       "│ 5     │ 156000  │ Peugeot    │ 308     │ Gasoline          │ Manual    │ Used           │ 6950  │ 156   │ 2011  │ 1      │ 0         │\n",
       "│ 6     │ 147000  │ Toyota     │ Auris   │ Electric/Gasoline │ Automatic │ Used           │ 6950  │ 99    │ 2011  │ 0      │ 1         │\n",
       "│ 7     │ 91894   │ Renault    │ Scenic  │ Diesel            │ Manual    │ Used           │ 6970  │ 131   │ 2011  │ 1      │ 0         │\n",
       "│ 8     │ 127500  │ Opel       │ Zafira  │ Gasoline          │ Manual    │ Used           │ 6972  │ 116   │ 2011  │ 1      │ 0         │\n",
       "│ 9     │ 115000  │ Mazda      │ 3       │ Gasoline          │ Automatic │ Used           │ 6980  │ 150   │ 2011  │ 0      │ 1         │\n",
       "│ 10    │ 104     │ Ford       │ Transit │ Diesel            │ Manual    │ Used           │ 6990  │ 86    │ 2011  │ 1      │ 0         │\n",
       "⋮\n",
       "│ 46061 │ 10      │ Citroen    │ C1      │ Gasoline          │ Manual    │ Pre-registered │ 12340 │ 72    │ 2021  │ 1      │ 0         │\n",
       "│ 46062 │ 10      │ Citroen    │ C1      │ Gasoline          │ Manual    │ Pre-registered │ 12340 │ 72    │ 2021  │ 1      │ 0         │\n",
       "│ 46063 │ 99      │ Fiat       │ 500     │ Electric/Gasoline │ Manual    │ Pre-registered │ 12490 │ 71    │ 2021  │ 1      │ 0         │\n",
       "│ 46064 │ 550     │ Fiat       │ 500     │ Electric/Gasoline │ Manual    │ Demonstration  │ 12805 │ 69    │ 2021  │ 1      │ 0         │\n",
       "│ 46065 │ 837     │ Fiat       │ Panda   │ Electric/Gasoline │ Manual    │ Demonstration  │ 12805 │ 69    │ 2021  │ 1      │ 0         │\n",
       "│ 46066 │ 1500    │ Skoda      │ Fabia   │ Gasoline          │ Manual    │ Demonstration  │ 12980 │ 60    │ 2021  │ 1      │ 0         │\n",
       "│ 46067 │ 99      │ Fiat       │ 500     │ Electric/Gasoline │ Manual    │ Pre-registered │ 12990 │ 71    │ 2021  │ 1      │ 0         │\n",
       "│ 46068 │ 99      │ Fiat       │ 500     │ Electric/Gasoline │ Manual    │ Pre-registered │ 12990 │ 71    │ 2021  │ 1      │ 0         │\n",
       "│ 46069 │ 99      │ Fiat       │ 500     │ Electric/Gasoline │ Manual    │ Pre-registered │ 12990 │ 71    │ 2021  │ 1      │ 0         │\n",
       "│ 46070 │ 99      │ Fiat       │ 500     │ Electric/Gasoline │ Manual    │ Pre-registered │ 12990 │ 71    │ 2021  │ 1      │ 0         │\n",
       "│ 46071 │ 99      │ Fiat       │ 500     │ Electric/Gasoline │ Manual    │ Pre-registered │ 12990 │ 71    │ 2021  │ 1      │ 0         │"
      ]
     },
     "execution_count": 49,
     "metadata": {},
     "output_type": "execute_result"
    }
   ],
   "source": [
    "target_final=Lathe.preprocess.OneHotEncode(df,:gear)"
   ]
  },
  {
   "cell_type": "code",
   "execution_count": 50,
   "id": "c0baff78",
   "metadata": {},
   "outputs": [
    {
     "data": {
      "text/plain": [
       "11-element Vector{Symbol}:\n",
       " :mileage\n",
       " :make\n",
       " :model\n",
       " :fuel\n",
       " :gear\n",
       " :offerType\n",
       " :price\n",
       " :hp\n",
       " :year\n",
       " :Manual\n",
       " :Automatic"
      ]
     },
     "execution_count": 50,
     "metadata": {},
     "output_type": "execute_result"
    }
   ],
   "source": [
    "names(target_final)"
   ]
  },
  {
   "cell_type": "code",
   "execution_count": 51,
   "id": "8beaa86f",
   "metadata": {},
   "outputs": [
    {
     "data": {
      "text/plain": [
       "2-element Named Vector{Int64}\n",
       "Dim1  │ \n",
       "──────┼──────\n",
       "false │ 30309\n",
       "true  │ 15762"
      ]
     },
     "execution_count": 51,
     "metadata": {},
     "output_type": "execute_result"
    }
   ],
   "source": [
    "specifics=df[:,[:mileage, :price, :hp, :year, :Manual]]\n",
    "using FreqTables\n",
    "classes=freqtable(target_final[:Automatic])"
   ]
  },
  {
   "cell_type": "code",
   "execution_count": 52,
   "id": "88314c43",
   "metadata": {},
   "outputs": [],
   "source": [
    "using Lathe.preprocess: TrainTestSplit\n",
    "train, test = TrainTestSplit(specifics,.75);\n"
   ]
  },
  {
   "cell_type": "code",
   "execution_count": 53,
   "id": "4686ad87",
   "metadata": {
    "scrolled": true
   },
   "outputs": [
    {
     "data": {
      "text/plain": [
       "StatsModels.TableRegressionModel{GeneralizedLinearModel{GLM.GlmResp{Vector{Float64}, Binomial{Float64}, LogitLink}, GLM.DensePredChol{Float64, LinearAlgebra.Cholesky{Float64, Matrix{Float64}}}}, Matrix{Float64}}\n",
       "\n",
       "Manual ~ 1 + mileage + hp + year + price\n",
       "\n",
       "Coefficients:\n",
       "───────────────────────────────────────────────────────────────────────────────────────────\n",
       "                      Coef.    Std. Error       z  Pr(>|z|)       Lower 95%       Upper 95%\n",
       "───────────────────────────────────────────────────────────────────────────────────────────\n",
       "(Intercept)  -140.028        16.6432        -8.41    <1e-16  -172.648        -107.408\n",
       "mileage        -4.51818e-6    3.29349e-7   -13.72    <1e-42    -5.16369e-6     -3.87267e-6\n",
       "hp             -0.0114995     0.000574058  -20.03    <1e-88    -0.0126246      -0.0103744\n",
       "year            0.0718514     0.00825618     8.70    <1e-17     0.0556696       0.0880332\n",
       "price          -0.000151852   4.14508e-6   -36.63    <1e-99    -0.000159976    -0.000143728\n",
       "───────────────────────────────────────────────────────────────────────────────────────────"
      ]
     },
     "execution_count": 53,
     "metadata": {},
     "output_type": "execute_result"
    }
   ],
   "source": [
    "fm = @formula(Manual ~ mileage + hp + year + price)\n",
    "logit = glm(fm, train,Binomial(),LogitLink())\n"
   ]
  },
  {
   "cell_type": "markdown",
   "id": "5bd9ee8c",
   "metadata": {},
   "source": [
    "# Linear Regression"
   ]
  },
  {
   "cell_type": "code",
   "execution_count": 54,
   "id": "ab2cc673",
   "metadata": {},
   "outputs": [
    {
     "name": "stdout",
     "output_type": "stream",
     "text": [
      "  0.015874 seconds (917 allocations: 9.891 MiB)\n"
     ]
    },
    {
     "data": {
      "text/plain": [
       "0.6794069054449077"
      ]
     },
     "execution_count": 54,
     "metadata": {},
     "output_type": "execute_result"
    }
   ],
   "source": [
    "@time begin\n",
    "\n",
    "\n",
    "using Lathe.preprocess: TrainTestSplit\n",
    "train, test = TrainTestSplit(df,.75);\n",
    "fm = @formula(price ~ mileage + hp + year)\n",
    "linearRegressor = lm(fm, train)\n",
    "r2(linearRegressor)\n",
    "    end"
   ]
  },
  {
   "cell_type": "code",
   "execution_count": null,
   "id": "0a308fef",
   "metadata": {},
   "outputs": [],
   "source": []
  }
 ],
 "metadata": {
  "kernelspec": {
   "display_name": "Julia 1.7.3",
   "language": "julia",
   "name": "julia-1.7"
  },
  "language_info": {
   "file_extension": ".jl",
   "mimetype": "application/julia",
   "name": "julia",
   "version": "1.7.3"
  }
 },
 "nbformat": 4,
 "nbformat_minor": 5
}
