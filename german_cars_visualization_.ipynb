{
  "nbformat": 4,
  "nbformat_minor": 0,
  "metadata": {
    "colab": {
      "provenance": []
    },
    "kernelspec": {
      "name": "python3",
      "display_name": "Python 3"
    },
    "language_info": {
      "name": "python"
    }
  },
  "cells": [
    {
      "cell_type": "code",
      "execution_count": null,
      "metadata": {
        "id": "TDW5et5hCXIm"
      },
      "outputs": [],
      "source": [
        "import numpy as np\n",
        "import scipy\n",
        "import pandas as pd\n",
        "import matplotlib.pyplot as plt\n",
        "import seaborn as sns; sns.set()  # for plot styling\n",
        "import sklearn.linear_model, sklearn.datasets\n",
        "from sklearn.preprocessing import StandardScaler\n",
        "%matplotlib inline\n",
        "from sklearn.preprocessing import StandardScaler, PolynomialFeatures # We will be using the inbuilt preprocessing functions sklearn provides\n",
        "from sklearn.model_selection import train_test_split # A library that can automatically perform data splitting for us\n",
        "from sklearn.linear_model import Ridge, Lasso # Ridge & Lasso regression are types of linear model that use regularisation\n",
        "from sklearn.metrics import mean_squared_error # Allows us to use the MSE function without calling in sklearn each time\n",
        " # We will be importing a csv file I have provided for one section."
      ]
    },
    {
      "cell_type": "code",
      "source": [
        "import time\n",
        "start = time.time()\n",
        "from google.colab import files\n",
        "\n",
        "uploaded = files.upload()  \n",
        "end = time.time()\n",
        "print('Execution time:', (end-start), 'seconds')"
      ],
      "metadata": {
        "colab": {
          "base_uri": "https://localhost:8080/",
          "height": 90
        },
        "id": "P7r22beeCZiM",
        "outputId": "19867f56-e68f-4839-9bfa-3ec2f002ab97"
      },
      "execution_count": null,
      "outputs": [
        {
          "output_type": "display_data",
          "data": {
            "text/plain": [
              "<IPython.core.display.HTML object>"
            ],
            "text/html": [
              "\n",
              "     <input type=\"file\" id=\"files-0e9834d3-2f53-4ab1-b17f-b3ac33900d8a\" name=\"files[]\" multiple disabled\n",
              "        style=\"border:none\" />\n",
              "     <output id=\"result-0e9834d3-2f53-4ab1-b17f-b3ac33900d8a\">\n",
              "      Upload widget is only available when the cell has been executed in the\n",
              "      current browser session. Please rerun this cell to enable.\n",
              "      </output>\n",
              "      <script>// Copyright 2017 Google LLC\n",
              "//\n",
              "// Licensed under the Apache License, Version 2.0 (the \"License\");\n",
              "// you may not use this file except in compliance with the License.\n",
              "// You may obtain a copy of the License at\n",
              "//\n",
              "//      http://www.apache.org/licenses/LICENSE-2.0\n",
              "//\n",
              "// Unless required by applicable law or agreed to in writing, software\n",
              "// distributed under the License is distributed on an \"AS IS\" BASIS,\n",
              "// WITHOUT WARRANTIES OR CONDITIONS OF ANY KIND, either express or implied.\n",
              "// See the License for the specific language governing permissions and\n",
              "// limitations under the License.\n",
              "\n",
              "/**\n",
              " * @fileoverview Helpers for google.colab Python module.\n",
              " */\n",
              "(function(scope) {\n",
              "function span(text, styleAttributes = {}) {\n",
              "  const element = document.createElement('span');\n",
              "  element.textContent = text;\n",
              "  for (const key of Object.keys(styleAttributes)) {\n",
              "    element.style[key] = styleAttributes[key];\n",
              "  }\n",
              "  return element;\n",
              "}\n",
              "\n",
              "// Max number of bytes which will be uploaded at a time.\n",
              "const MAX_PAYLOAD_SIZE = 100 * 1024;\n",
              "\n",
              "function _uploadFiles(inputId, outputId) {\n",
              "  const steps = uploadFilesStep(inputId, outputId);\n",
              "  const outputElement = document.getElementById(outputId);\n",
              "  // Cache steps on the outputElement to make it available for the next call\n",
              "  // to uploadFilesContinue from Python.\n",
              "  outputElement.steps = steps;\n",
              "\n",
              "  return _uploadFilesContinue(outputId);\n",
              "}\n",
              "\n",
              "// This is roughly an async generator (not supported in the browser yet),\n",
              "// where there are multiple asynchronous steps and the Python side is going\n",
              "// to poll for completion of each step.\n",
              "// This uses a Promise to block the python side on completion of each step,\n",
              "// then passes the result of the previous step as the input to the next step.\n",
              "function _uploadFilesContinue(outputId) {\n",
              "  const outputElement = document.getElementById(outputId);\n",
              "  const steps = outputElement.steps;\n",
              "\n",
              "  const next = steps.next(outputElement.lastPromiseValue);\n",
              "  return Promise.resolve(next.value.promise).then((value) => {\n",
              "    // Cache the last promise value to make it available to the next\n",
              "    // step of the generator.\n",
              "    outputElement.lastPromiseValue = value;\n",
              "    return next.value.response;\n",
              "  });\n",
              "}\n",
              "\n",
              "/**\n",
              " * Generator function which is called between each async step of the upload\n",
              " * process.\n",
              " * @param {string} inputId Element ID of the input file picker element.\n",
              " * @param {string} outputId Element ID of the output display.\n",
              " * @return {!Iterable<!Object>} Iterable of next steps.\n",
              " */\n",
              "function* uploadFilesStep(inputId, outputId) {\n",
              "  const inputElement = document.getElementById(inputId);\n",
              "  inputElement.disabled = false;\n",
              "\n",
              "  const outputElement = document.getElementById(outputId);\n",
              "  outputElement.innerHTML = '';\n",
              "\n",
              "  const pickedPromise = new Promise((resolve) => {\n",
              "    inputElement.addEventListener('change', (e) => {\n",
              "      resolve(e.target.files);\n",
              "    });\n",
              "  });\n",
              "\n",
              "  const cancel = document.createElement('button');\n",
              "  inputElement.parentElement.appendChild(cancel);\n",
              "  cancel.textContent = 'Cancel upload';\n",
              "  const cancelPromise = new Promise((resolve) => {\n",
              "    cancel.onclick = () => {\n",
              "      resolve(null);\n",
              "    };\n",
              "  });\n",
              "\n",
              "  // Wait for the user to pick the files.\n",
              "  const files = yield {\n",
              "    promise: Promise.race([pickedPromise, cancelPromise]),\n",
              "    response: {\n",
              "      action: 'starting',\n",
              "    }\n",
              "  };\n",
              "\n",
              "  cancel.remove();\n",
              "\n",
              "  // Disable the input element since further picks are not allowed.\n",
              "  inputElement.disabled = true;\n",
              "\n",
              "  if (!files) {\n",
              "    return {\n",
              "      response: {\n",
              "        action: 'complete',\n",
              "      }\n",
              "    };\n",
              "  }\n",
              "\n",
              "  for (const file of files) {\n",
              "    const li = document.createElement('li');\n",
              "    li.append(span(file.name, {fontWeight: 'bold'}));\n",
              "    li.append(span(\n",
              "        `(${file.type || 'n/a'}) - ${file.size} bytes, ` +\n",
              "        `last modified: ${\n",
              "            file.lastModifiedDate ? file.lastModifiedDate.toLocaleDateString() :\n",
              "                                    'n/a'} - `));\n",
              "    const percent = span('0% done');\n",
              "    li.appendChild(percent);\n",
              "\n",
              "    outputElement.appendChild(li);\n",
              "\n",
              "    const fileDataPromise = new Promise((resolve) => {\n",
              "      const reader = new FileReader();\n",
              "      reader.onload = (e) => {\n",
              "        resolve(e.target.result);\n",
              "      };\n",
              "      reader.readAsArrayBuffer(file);\n",
              "    });\n",
              "    // Wait for the data to be ready.\n",
              "    let fileData = yield {\n",
              "      promise: fileDataPromise,\n",
              "      response: {\n",
              "        action: 'continue',\n",
              "      }\n",
              "    };\n",
              "\n",
              "    // Use a chunked sending to avoid message size limits. See b/62115660.\n",
              "    let position = 0;\n",
              "    do {\n",
              "      const length = Math.min(fileData.byteLength - position, MAX_PAYLOAD_SIZE);\n",
              "      const chunk = new Uint8Array(fileData, position, length);\n",
              "      position += length;\n",
              "\n",
              "      const base64 = btoa(String.fromCharCode.apply(null, chunk));\n",
              "      yield {\n",
              "        response: {\n",
              "          action: 'append',\n",
              "          file: file.name,\n",
              "          data: base64,\n",
              "        },\n",
              "      };\n",
              "\n",
              "      let percentDone = fileData.byteLength === 0 ?\n",
              "          100 :\n",
              "          Math.round((position / fileData.byteLength) * 100);\n",
              "      percent.textContent = `${percentDone}% done`;\n",
              "\n",
              "    } while (position < fileData.byteLength);\n",
              "  }\n",
              "\n",
              "  // All done.\n",
              "  yield {\n",
              "    response: {\n",
              "      action: 'complete',\n",
              "    }\n",
              "  };\n",
              "}\n",
              "\n",
              "scope.google = scope.google || {};\n",
              "scope.google.colab = scope.google.colab || {};\n",
              "scope.google.colab._files = {\n",
              "  _uploadFiles,\n",
              "  _uploadFilesContinue,\n",
              "};\n",
              "})(self);\n",
              "</script> "
            ]
          },
          "metadata": {}
        },
        {
          "output_type": "stream",
          "name": "stdout",
          "text": [
            "Saving autoscout24_germany_dataset.csv to autoscout24_germany_dataset.csv\n",
            "Execution time: 45.50299835205078 seconds\n"
          ]
        }
      ]
    },
    {
      "cell_type": "code",
      "source": [
        "car_csv = pd.read_csv('autoscout24_germany_dataset.csv')\n",
        "df = pd.DataFrame(data= car_csv) #created a dataframe\n",
        "# show the data\n",
        "df.head(10)"
      ],
      "metadata": {
        "id": "6JMIoaSILtGK",
        "colab": {
          "base_uri": "https://localhost:8080/",
          "height": 363
        },
        "outputId": "6fe38625-8168-45af-9a65-02dba63cbcc7"
      },
      "execution_count": null,
      "outputs": [
        {
          "output_type": "execute_result",
          "data": {
            "text/plain": [
              "   mileage        make    model               fuel       gear offerType  \\\n",
              "0   235000         BMW      316             Diesel     Manual      Used   \n",
              "1    92800  Volkswagen     Golf           Gasoline     Manual      Used   \n",
              "2   149300        SEAT     Exeo           Gasoline     Manual      Used   \n",
              "3    96200     Renault   Megane           Gasoline     Manual      Used   \n",
              "4   156000     Peugeot      308           Gasoline     Manual      Used   \n",
              "5   147000      Toyota    Auris  Electric/Gasoline  Automatic      Used   \n",
              "6    91894     Renault   Scenic             Diesel     Manual      Used   \n",
              "7   127500        Opel   Zafira           Gasoline     Manual      Used   \n",
              "8   115000       Mazda        3           Gasoline  Automatic      Used   \n",
              "9      104        Ford  Transit             Diesel     Manual      Used   \n",
              "\n",
              "   price     hp  year  \n",
              "0   6800  116.0  2011  \n",
              "1   6877  122.0  2011  \n",
              "2   6900  160.0  2011  \n",
              "3   6950  110.0  2011  \n",
              "4   6950  156.0  2011  \n",
              "5   6950   99.0  2011  \n",
              "6   6970  131.0  2011  \n",
              "7   6972  116.0  2011  \n",
              "8   6980  150.0  2011  \n",
              "9   6990   86.0  2011  "
            ],
            "text/html": [
              "\n",
              "  <div id=\"df-6c8cacc6-7408-40b3-9914-0d1ee750dddc\">\n",
              "    <div class=\"colab-df-container\">\n",
              "      <div>\n",
              "<style scoped>\n",
              "    .dataframe tbody tr th:only-of-type {\n",
              "        vertical-align: middle;\n",
              "    }\n",
              "\n",
              "    .dataframe tbody tr th {\n",
              "        vertical-align: top;\n",
              "    }\n",
              "\n",
              "    .dataframe thead th {\n",
              "        text-align: right;\n",
              "    }\n",
              "</style>\n",
              "<table border=\"1\" class=\"dataframe\">\n",
              "  <thead>\n",
              "    <tr style=\"text-align: right;\">\n",
              "      <th></th>\n",
              "      <th>mileage</th>\n",
              "      <th>make</th>\n",
              "      <th>model</th>\n",
              "      <th>fuel</th>\n",
              "      <th>gear</th>\n",
              "      <th>offerType</th>\n",
              "      <th>price</th>\n",
              "      <th>hp</th>\n",
              "      <th>year</th>\n",
              "    </tr>\n",
              "  </thead>\n",
              "  <tbody>\n",
              "    <tr>\n",
              "      <th>0</th>\n",
              "      <td>235000</td>\n",
              "      <td>BMW</td>\n",
              "      <td>316</td>\n",
              "      <td>Diesel</td>\n",
              "      <td>Manual</td>\n",
              "      <td>Used</td>\n",
              "      <td>6800</td>\n",
              "      <td>116.0</td>\n",
              "      <td>2011</td>\n",
              "    </tr>\n",
              "    <tr>\n",
              "      <th>1</th>\n",
              "      <td>92800</td>\n",
              "      <td>Volkswagen</td>\n",
              "      <td>Golf</td>\n",
              "      <td>Gasoline</td>\n",
              "      <td>Manual</td>\n",
              "      <td>Used</td>\n",
              "      <td>6877</td>\n",
              "      <td>122.0</td>\n",
              "      <td>2011</td>\n",
              "    </tr>\n",
              "    <tr>\n",
              "      <th>2</th>\n",
              "      <td>149300</td>\n",
              "      <td>SEAT</td>\n",
              "      <td>Exeo</td>\n",
              "      <td>Gasoline</td>\n",
              "      <td>Manual</td>\n",
              "      <td>Used</td>\n",
              "      <td>6900</td>\n",
              "      <td>160.0</td>\n",
              "      <td>2011</td>\n",
              "    </tr>\n",
              "    <tr>\n",
              "      <th>3</th>\n",
              "      <td>96200</td>\n",
              "      <td>Renault</td>\n",
              "      <td>Megane</td>\n",
              "      <td>Gasoline</td>\n",
              "      <td>Manual</td>\n",
              "      <td>Used</td>\n",
              "      <td>6950</td>\n",
              "      <td>110.0</td>\n",
              "      <td>2011</td>\n",
              "    </tr>\n",
              "    <tr>\n",
              "      <th>4</th>\n",
              "      <td>156000</td>\n",
              "      <td>Peugeot</td>\n",
              "      <td>308</td>\n",
              "      <td>Gasoline</td>\n",
              "      <td>Manual</td>\n",
              "      <td>Used</td>\n",
              "      <td>6950</td>\n",
              "      <td>156.0</td>\n",
              "      <td>2011</td>\n",
              "    </tr>\n",
              "    <tr>\n",
              "      <th>5</th>\n",
              "      <td>147000</td>\n",
              "      <td>Toyota</td>\n",
              "      <td>Auris</td>\n",
              "      <td>Electric/Gasoline</td>\n",
              "      <td>Automatic</td>\n",
              "      <td>Used</td>\n",
              "      <td>6950</td>\n",
              "      <td>99.0</td>\n",
              "      <td>2011</td>\n",
              "    </tr>\n",
              "    <tr>\n",
              "      <th>6</th>\n",
              "      <td>91894</td>\n",
              "      <td>Renault</td>\n",
              "      <td>Scenic</td>\n",
              "      <td>Diesel</td>\n",
              "      <td>Manual</td>\n",
              "      <td>Used</td>\n",
              "      <td>6970</td>\n",
              "      <td>131.0</td>\n",
              "      <td>2011</td>\n",
              "    </tr>\n",
              "    <tr>\n",
              "      <th>7</th>\n",
              "      <td>127500</td>\n",
              "      <td>Opel</td>\n",
              "      <td>Zafira</td>\n",
              "      <td>Gasoline</td>\n",
              "      <td>Manual</td>\n",
              "      <td>Used</td>\n",
              "      <td>6972</td>\n",
              "      <td>116.0</td>\n",
              "      <td>2011</td>\n",
              "    </tr>\n",
              "    <tr>\n",
              "      <th>8</th>\n",
              "      <td>115000</td>\n",
              "      <td>Mazda</td>\n",
              "      <td>3</td>\n",
              "      <td>Gasoline</td>\n",
              "      <td>Automatic</td>\n",
              "      <td>Used</td>\n",
              "      <td>6980</td>\n",
              "      <td>150.0</td>\n",
              "      <td>2011</td>\n",
              "    </tr>\n",
              "    <tr>\n",
              "      <th>9</th>\n",
              "      <td>104</td>\n",
              "      <td>Ford</td>\n",
              "      <td>Transit</td>\n",
              "      <td>Diesel</td>\n",
              "      <td>Manual</td>\n",
              "      <td>Used</td>\n",
              "      <td>6990</td>\n",
              "      <td>86.0</td>\n",
              "      <td>2011</td>\n",
              "    </tr>\n",
              "  </tbody>\n",
              "</table>\n",
              "</div>\n",
              "      <button class=\"colab-df-convert\" onclick=\"convertToInteractive('df-6c8cacc6-7408-40b3-9914-0d1ee750dddc')\"\n",
              "              title=\"Convert this dataframe to an interactive table.\"\n",
              "              style=\"display:none;\">\n",
              "        \n",
              "  <svg xmlns=\"http://www.w3.org/2000/svg\" height=\"24px\"viewBox=\"0 0 24 24\"\n",
              "       width=\"24px\">\n",
              "    <path d=\"M0 0h24v24H0V0z\" fill=\"none\"/>\n",
              "    <path d=\"M18.56 5.44l.94 2.06.94-2.06 2.06-.94-2.06-.94-.94-2.06-.94 2.06-2.06.94zm-11 1L8.5 8.5l.94-2.06 2.06-.94-2.06-.94L8.5 2.5l-.94 2.06-2.06.94zm10 10l.94 2.06.94-2.06 2.06-.94-2.06-.94-.94-2.06-.94 2.06-2.06.94z\"/><path d=\"M17.41 7.96l-1.37-1.37c-.4-.4-.92-.59-1.43-.59-.52 0-1.04.2-1.43.59L10.3 9.45l-7.72 7.72c-.78.78-.78 2.05 0 2.83L4 21.41c.39.39.9.59 1.41.59.51 0 1.02-.2 1.41-.59l7.78-7.78 2.81-2.81c.8-.78.8-2.07 0-2.86zM5.41 20L4 18.59l7.72-7.72 1.47 1.35L5.41 20z\"/>\n",
              "  </svg>\n",
              "      </button>\n",
              "      \n",
              "  <style>\n",
              "    .colab-df-container {\n",
              "      display:flex;\n",
              "      flex-wrap:wrap;\n",
              "      gap: 12px;\n",
              "    }\n",
              "\n",
              "    .colab-df-convert {\n",
              "      background-color: #E8F0FE;\n",
              "      border: none;\n",
              "      border-radius: 50%;\n",
              "      cursor: pointer;\n",
              "      display: none;\n",
              "      fill: #1967D2;\n",
              "      height: 32px;\n",
              "      padding: 0 0 0 0;\n",
              "      width: 32px;\n",
              "    }\n",
              "\n",
              "    .colab-df-convert:hover {\n",
              "      background-color: #E2EBFA;\n",
              "      box-shadow: 0px 1px 2px rgba(60, 64, 67, 0.3), 0px 1px 3px 1px rgba(60, 64, 67, 0.15);\n",
              "      fill: #174EA6;\n",
              "    }\n",
              "\n",
              "    [theme=dark] .colab-df-convert {\n",
              "      background-color: #3B4455;\n",
              "      fill: #D2E3FC;\n",
              "    }\n",
              "\n",
              "    [theme=dark] .colab-df-convert:hover {\n",
              "      background-color: #434B5C;\n",
              "      box-shadow: 0px 1px 3px 1px rgba(0, 0, 0, 0.15);\n",
              "      filter: drop-shadow(0px 1px 2px rgba(0, 0, 0, 0.3));\n",
              "      fill: #FFFFFF;\n",
              "    }\n",
              "  </style>\n",
              "\n",
              "      <script>\n",
              "        const buttonEl =\n",
              "          document.querySelector('#df-6c8cacc6-7408-40b3-9914-0d1ee750dddc button.colab-df-convert');\n",
              "        buttonEl.style.display =\n",
              "          google.colab.kernel.accessAllowed ? 'block' : 'none';\n",
              "\n",
              "        async function convertToInteractive(key) {\n",
              "          const element = document.querySelector('#df-6c8cacc6-7408-40b3-9914-0d1ee750dddc');\n",
              "          const dataTable =\n",
              "            await google.colab.kernel.invokeFunction('convertToInteractive',\n",
              "                                                     [key], {});\n",
              "          if (!dataTable) return;\n",
              "\n",
              "          const docLinkHtml = 'Like what you see? Visit the ' +\n",
              "            '<a target=\"_blank\" href=https://colab.research.google.com/notebooks/data_table.ipynb>data table notebook</a>'\n",
              "            + ' to learn more about interactive tables.';\n",
              "          element.innerHTML = '';\n",
              "          dataTable['output_type'] = 'display_data';\n",
              "          await google.colab.output.renderOutput(dataTable, element);\n",
              "          const docLink = document.createElement('div');\n",
              "          docLink.innerHTML = docLinkHtml;\n",
              "          element.appendChild(docLink);\n",
              "        }\n",
              "      </script>\n",
              "    </div>\n",
              "  </div>\n",
              "  "
            ]
          },
          "metadata": {},
          "execution_count": 26
        }
      ]
    },
    {
      "cell_type": "code",
      "source": [
        "df.info"
      ],
      "metadata": {
        "id": "NpARvxavYTx0",
        "colab": {
          "base_uri": "https://localhost:8080/"
        },
        "outputId": "99803eff-a40e-41f3-b559-e3c4d593def5"
      },
      "execution_count": null,
      "outputs": [
        {
          "output_type": "execute_result",
          "data": {
            "text/plain": [
              "<bound method DataFrame.info of        mileage        make   model               fuel    gear       offerType  \\\n",
              "0       235000         BMW     316             Diesel  Manual            Used   \n",
              "1        92800  Volkswagen    Golf           Gasoline  Manual            Used   \n",
              "2       149300        SEAT    Exeo           Gasoline  Manual            Used   \n",
              "3        96200     Renault  Megane           Gasoline  Manual            Used   \n",
              "4       156000     Peugeot     308           Gasoline  Manual            Used   \n",
              "...        ...         ...     ...                ...     ...             ...   \n",
              "46400       99        Fiat     500  Electric/Gasoline  Manual  Pre-registered   \n",
              "46401       99        Fiat     500  Electric/Gasoline  Manual  Pre-registered   \n",
              "46402       99        Fiat     500  Electric/Gasoline  Manual  Pre-registered   \n",
              "46403       99        Fiat     500  Electric/Gasoline  Manual  Pre-registered   \n",
              "46404       99        Fiat     500  Electric/Gasoline  Manual  Pre-registered   \n",
              "\n",
              "       price     hp  year  \n",
              "0       6800  116.0  2011  \n",
              "1       6877  122.0  2011  \n",
              "2       6900  160.0  2011  \n",
              "3       6950  110.0  2011  \n",
              "4       6950  156.0  2011  \n",
              "...      ...    ...   ...  \n",
              "46400  12990   71.0  2021  \n",
              "46401  12990   71.0  2021  \n",
              "46402  12990   71.0  2021  \n",
              "46403  12990   71.0  2021  \n",
              "46404  12990   71.0  2021  \n",
              "\n",
              "[46405 rows x 9 columns]>"
            ]
          },
          "metadata": {},
          "execution_count": 4
        }
      ]
    },
    {
      "cell_type": "code",
      "source": [
        "df.describe()"
      ],
      "metadata": {
        "id": "KEQDo2frDYsd",
        "colab": {
          "base_uri": "https://localhost:8080/",
          "height": 300
        },
        "outputId": "fcb41437-b1be-4cd8-f2f1-3e4b01132597"
      },
      "execution_count": null,
      "outputs": [
        {
          "output_type": "execute_result",
          "data": {
            "text/plain": [
              "            mileage         price            hp          year\n",
              "count  4.640500e+04  4.640500e+04  46376.000000  46405.000000\n",
              "mean   7.117786e+04  1.657234e+04    132.990987   2016.012951\n",
              "std    6.262531e+04  1.930470e+04     75.449284      3.155214\n",
              "min    0.000000e+00  1.100000e+03      1.000000   2011.000000\n",
              "25%    1.980000e+04  7.490000e+03     86.000000   2013.000000\n",
              "50%    6.000000e+04  1.099900e+04    116.000000   2016.000000\n",
              "75%    1.050000e+05  1.949000e+04    150.000000   2019.000000\n",
              "max    1.111111e+06  1.199900e+06    850.000000   2021.000000"
            ],
            "text/html": [
              "\n",
              "  <div id=\"df-55ad71eb-6da4-4e63-80db-32fca8f54d63\">\n",
              "    <div class=\"colab-df-container\">\n",
              "      <div>\n",
              "<style scoped>\n",
              "    .dataframe tbody tr th:only-of-type {\n",
              "        vertical-align: middle;\n",
              "    }\n",
              "\n",
              "    .dataframe tbody tr th {\n",
              "        vertical-align: top;\n",
              "    }\n",
              "\n",
              "    .dataframe thead th {\n",
              "        text-align: right;\n",
              "    }\n",
              "</style>\n",
              "<table border=\"1\" class=\"dataframe\">\n",
              "  <thead>\n",
              "    <tr style=\"text-align: right;\">\n",
              "      <th></th>\n",
              "      <th>mileage</th>\n",
              "      <th>price</th>\n",
              "      <th>hp</th>\n",
              "      <th>year</th>\n",
              "    </tr>\n",
              "  </thead>\n",
              "  <tbody>\n",
              "    <tr>\n",
              "      <th>count</th>\n",
              "      <td>4.640500e+04</td>\n",
              "      <td>4.640500e+04</td>\n",
              "      <td>46376.000000</td>\n",
              "      <td>46405.000000</td>\n",
              "    </tr>\n",
              "    <tr>\n",
              "      <th>mean</th>\n",
              "      <td>7.117786e+04</td>\n",
              "      <td>1.657234e+04</td>\n",
              "      <td>132.990987</td>\n",
              "      <td>2016.012951</td>\n",
              "    </tr>\n",
              "    <tr>\n",
              "      <th>std</th>\n",
              "      <td>6.262531e+04</td>\n",
              "      <td>1.930470e+04</td>\n",
              "      <td>75.449284</td>\n",
              "      <td>3.155214</td>\n",
              "    </tr>\n",
              "    <tr>\n",
              "      <th>min</th>\n",
              "      <td>0.000000e+00</td>\n",
              "      <td>1.100000e+03</td>\n",
              "      <td>1.000000</td>\n",
              "      <td>2011.000000</td>\n",
              "    </tr>\n",
              "    <tr>\n",
              "      <th>25%</th>\n",
              "      <td>1.980000e+04</td>\n",
              "      <td>7.490000e+03</td>\n",
              "      <td>86.000000</td>\n",
              "      <td>2013.000000</td>\n",
              "    </tr>\n",
              "    <tr>\n",
              "      <th>50%</th>\n",
              "      <td>6.000000e+04</td>\n",
              "      <td>1.099900e+04</td>\n",
              "      <td>116.000000</td>\n",
              "      <td>2016.000000</td>\n",
              "    </tr>\n",
              "    <tr>\n",
              "      <th>75%</th>\n",
              "      <td>1.050000e+05</td>\n",
              "      <td>1.949000e+04</td>\n",
              "      <td>150.000000</td>\n",
              "      <td>2019.000000</td>\n",
              "    </tr>\n",
              "    <tr>\n",
              "      <th>max</th>\n",
              "      <td>1.111111e+06</td>\n",
              "      <td>1.199900e+06</td>\n",
              "      <td>850.000000</td>\n",
              "      <td>2021.000000</td>\n",
              "    </tr>\n",
              "  </tbody>\n",
              "</table>\n",
              "</div>\n",
              "      <button class=\"colab-df-convert\" onclick=\"convertToInteractive('df-55ad71eb-6da4-4e63-80db-32fca8f54d63')\"\n",
              "              title=\"Convert this dataframe to an interactive table.\"\n",
              "              style=\"display:none;\">\n",
              "        \n",
              "  <svg xmlns=\"http://www.w3.org/2000/svg\" height=\"24px\"viewBox=\"0 0 24 24\"\n",
              "       width=\"24px\">\n",
              "    <path d=\"M0 0h24v24H0V0z\" fill=\"none\"/>\n",
              "    <path d=\"M18.56 5.44l.94 2.06.94-2.06 2.06-.94-2.06-.94-.94-2.06-.94 2.06-2.06.94zm-11 1L8.5 8.5l.94-2.06 2.06-.94-2.06-.94L8.5 2.5l-.94 2.06-2.06.94zm10 10l.94 2.06.94-2.06 2.06-.94-2.06-.94-.94-2.06-.94 2.06-2.06.94z\"/><path d=\"M17.41 7.96l-1.37-1.37c-.4-.4-.92-.59-1.43-.59-.52 0-1.04.2-1.43.59L10.3 9.45l-7.72 7.72c-.78.78-.78 2.05 0 2.83L4 21.41c.39.39.9.59 1.41.59.51 0 1.02-.2 1.41-.59l7.78-7.78 2.81-2.81c.8-.78.8-2.07 0-2.86zM5.41 20L4 18.59l7.72-7.72 1.47 1.35L5.41 20z\"/>\n",
              "  </svg>\n",
              "      </button>\n",
              "      \n",
              "  <style>\n",
              "    .colab-df-container {\n",
              "      display:flex;\n",
              "      flex-wrap:wrap;\n",
              "      gap: 12px;\n",
              "    }\n",
              "\n",
              "    .colab-df-convert {\n",
              "      background-color: #E8F0FE;\n",
              "      border: none;\n",
              "      border-radius: 50%;\n",
              "      cursor: pointer;\n",
              "      display: none;\n",
              "      fill: #1967D2;\n",
              "      height: 32px;\n",
              "      padding: 0 0 0 0;\n",
              "      width: 32px;\n",
              "    }\n",
              "\n",
              "    .colab-df-convert:hover {\n",
              "      background-color: #E2EBFA;\n",
              "      box-shadow: 0px 1px 2px rgba(60, 64, 67, 0.3), 0px 1px 3px 1px rgba(60, 64, 67, 0.15);\n",
              "      fill: #174EA6;\n",
              "    }\n",
              "\n",
              "    [theme=dark] .colab-df-convert {\n",
              "      background-color: #3B4455;\n",
              "      fill: #D2E3FC;\n",
              "    }\n",
              "\n",
              "    [theme=dark] .colab-df-convert:hover {\n",
              "      background-color: #434B5C;\n",
              "      box-shadow: 0px 1px 3px 1px rgba(0, 0, 0, 0.15);\n",
              "      filter: drop-shadow(0px 1px 2px rgba(0, 0, 0, 0.3));\n",
              "      fill: #FFFFFF;\n",
              "    }\n",
              "  </style>\n",
              "\n",
              "      <script>\n",
              "        const buttonEl =\n",
              "          document.querySelector('#df-55ad71eb-6da4-4e63-80db-32fca8f54d63 button.colab-df-convert');\n",
              "        buttonEl.style.display =\n",
              "          google.colab.kernel.accessAllowed ? 'block' : 'none';\n",
              "\n",
              "        async function convertToInteractive(key) {\n",
              "          const element = document.querySelector('#df-55ad71eb-6da4-4e63-80db-32fca8f54d63');\n",
              "          const dataTable =\n",
              "            await google.colab.kernel.invokeFunction('convertToInteractive',\n",
              "                                                     [key], {});\n",
              "          if (!dataTable) return;\n",
              "\n",
              "          const docLinkHtml = 'Like what you see? Visit the ' +\n",
              "            '<a target=\"_blank\" href=https://colab.research.google.com/notebooks/data_table.ipynb>data table notebook</a>'\n",
              "            + ' to learn more about interactive tables.';\n",
              "          element.innerHTML = '';\n",
              "          dataTable['output_type'] = 'display_data';\n",
              "          await google.colab.output.renderOutput(dataTable, element);\n",
              "          const docLink = document.createElement('div');\n",
              "          docLink.innerHTML = docLinkHtml;\n",
              "          element.appendChild(docLink);\n",
              "        }\n",
              "      </script>\n",
              "    </div>\n",
              "  </div>\n",
              "  "
            ]
          },
          "metadata": {},
          "execution_count": 5
        }
      ]
    },
    {
      "cell_type": "code",
      "source": [
        "df['price'].agg(['min', 'max'])"
      ],
      "metadata": {
        "id": "uwI1i6J9FOR1",
        "colab": {
          "base_uri": "https://localhost:8080/"
        },
        "outputId": "7c63b72d-bb99-4d6e-cffe-affb6ea243fa"
      },
      "execution_count": null,
      "outputs": [
        {
          "output_type": "execute_result",
          "data": {
            "text/plain": [
              "min       1100\n",
              "max    1199900\n",
              "Name: price, dtype: int64"
            ]
          },
          "metadata": {},
          "execution_count": 6
        }
      ]
    },
    {
      "cell_type": "code",
      "source": [
        "df['hp'].agg(['min', 'max'])"
      ],
      "metadata": {
        "id": "mcSyNnzYFko8",
        "colab": {
          "base_uri": "https://localhost:8080/"
        },
        "outputId": "b0bd2948-505c-424c-d595-4cef41759c71"
      },
      "execution_count": null,
      "outputs": [
        {
          "output_type": "execute_result",
          "data": {
            "text/plain": [
              "min      1.0\n",
              "max    850.0\n",
              "Name: hp, dtype: float64"
            ]
          },
          "metadata": {},
          "execution_count": 7
        }
      ]
    },
    {
      "cell_type": "code",
      "source": [],
      "metadata": {
        "id": "myKLg4cH0ZBF"
      },
      "execution_count": null,
      "outputs": []
    },
    {
      "cell_type": "code",
      "source": [
        "df.info()"
      ],
      "metadata": {
        "id": "UB_JMwIHHcsk",
        "colab": {
          "base_uri": "https://localhost:8080/"
        },
        "outputId": "87e9d6c3-60db-41a2-9f64-6927d33ad587"
      },
      "execution_count": null,
      "outputs": [
        {
          "output_type": "stream",
          "name": "stdout",
          "text": [
            "<class 'pandas.core.frame.DataFrame'>\n",
            "RangeIndex: 46405 entries, 0 to 46404\n",
            "Data columns (total 9 columns):\n",
            " #   Column     Non-Null Count  Dtype  \n",
            "---  ------     --------------  -----  \n",
            " 0   mileage    46405 non-null  int64  \n",
            " 1   make       46405 non-null  object \n",
            " 2   model      46262 non-null  object \n",
            " 3   fuel       46405 non-null  object \n",
            " 4   gear       46223 non-null  object \n",
            " 5   offerType  46405 non-null  object \n",
            " 6   price      46405 non-null  int64  \n",
            " 7   hp         46376 non-null  float64\n",
            " 8   year       46405 non-null  int64  \n",
            "dtypes: float64(1), int64(3), object(5)\n",
            "memory usage: 3.2+ MB\n"
          ]
        }
      ]
    },
    {
      "cell_type": "code",
      "source": [
        "fuel = df.fuel.value_counts()\n",
        "plt.figure(figsize=(10,7))\n",
        "sns.barplot(x=fuel[:7].index,y=fuel[:7].values)\n",
        "plt.ylabel('Number of Fuel')\n",
        "plt.xlabel('Fuel Types')\n",
        "plt.title('Fuel',color = 'blue',fontsize=15)"
      ],
      "metadata": {
        "id": "-Mgv9GDBaG1I",
        "colab": {
          "base_uri": "https://localhost:8080/",
          "height": 483
        },
        "outputId": "9b8a7785-67cd-47f2-ee43-ddefb100d5b1"
      },
      "execution_count": null,
      "outputs": [
        {
          "output_type": "execute_result",
          "data": {
            "text/plain": [
              "Text(0.5, 1.0, 'Fuel')"
            ]
          },
          "metadata": {},
          "execution_count": 9
        },
        {
          "output_type": "display_data",
          "data": {
            "text/plain": [
              "<Figure size 720x504 with 1 Axes>"
            ],
            "image/png": "[encoded data removed]"
          },
          "metadata": {
            "needs_background": "light"
          }
        }
      ]
    },
    {
      "cell_type": "code",
      "source": [
        "plt.figure(figsize=(10,7))\n",
        "sns.countplot(data=df, x='offerType')\n",
        "plt.title('Number of Offer Type',color = 'blue',fontsize=15)"
      ],
      "metadata": {
        "id": "qNOJ3pSLaYfG",
        "colab": {
          "base_uri": "https://localhost:8080/",
          "height": 483
        },
        "outputId": "761398de-d6ed-4d01-cb97-021bb91ee69a"
      },
      "execution_count": null,
      "outputs": [
        {
          "output_type": "execute_result",
          "data": {
            "text/plain": [
              "Text(0.5, 1.0, 'Number of Offer Type')"
            ]
          },
          "metadata": {},
          "execution_count": 10
        },
        {
          "output_type": "display_data",
          "data": {
            "text/plain": [
              "<Figure size 720x504 with 1 Axes>"
            ],
            "image/png": "[encoded data removed]"
          },
          "metadata": {
            "needs_background": "light"
          }
        }
      ]
    },
    {
      "cell_type": "code",
      "source": [
        "make = df.make.value_counts()\n",
        "plt.figure(figsize=(10,7))\n",
        "sns.barplot(x=make[:12].index,y=make[:12].values)\n",
        "plt.xticks(rotation=45)\n",
        "plt.title('Number of Makes',color = 'blue',fontsize=15)"
      ],
      "metadata": {
        "id": "HNDypS-wafJT",
        "colab": {
          "base_uri": "https://localhost:8080/",
          "height": 522
        },
        "outputId": "f3568473-a79b-4333-e9b9-b3f98c09b62f"
      },
      "execution_count": null,
      "outputs": [
        {
          "output_type": "execute_result",
          "data": {
            "text/plain": [
              "Text(0.5, 1.0, 'Number of Makes')"
            ]
          },
          "metadata": {},
          "execution_count": 11
        },
        {
          "output_type": "display_data",
          "data": {
            "text/plain": [
              "<Figure size 720x504 with 1 Axes>"
            ],
            "image/png": "[encoded data removed]"
          },
          "metadata": {
            "needs_background": "light"
          }
        }
      ]
    },
    {
      "cell_type": "code",
      "source": [
        "plt.figure(figsize=(10,7))\n",
        "sns.countplot(df.year)\n",
        "plt.xlabel('Years')\n",
        "plt.ylabel('Number of Cars')\n",
        "plt.title('Number of Cars on Years',color = 'blue', fontsize = 15)"
      ],
      "metadata": {
        "id": "ehteG9loap4q",
        "colab": {
          "base_uri": "https://localhost:8080/",
          "height": 538
        },
        "outputId": "28f8348b-537a-4219-cde9-6dcb6a3d0723"
      },
      "execution_count": null,
      "outputs": [
        {
          "output_type": "stream",
          "name": "stderr",
          "text": [
            "/usr/local/lib/python3.8/dist-packages/seaborn/_decorators.py:36: FutureWarning: Pass the following variable as a keyword arg: x. From version 0.12, the only valid positional argument will be `data`, and passing other arguments without an explicit keyword will result in an error or misinterpretation.\n",
            "  warnings.warn(\n"
          ]
        },
        {
          "output_type": "execute_result",
          "data": {
            "text/plain": [
              "Text(0.5, 1.0, 'Number of Cars on Years')"
            ]
          },
          "metadata": {},
          "execution_count": 12
        },
        {
          "output_type": "display_data",
          "data": {
            "text/plain": [
              "<Figure size 720x504 with 1 Axes>"
            ],
            "image/png": "[encoded data removed]"
          },
          "metadata": {
            "needs_background": "light"
          }
        }
      ]
    },
    {
      "cell_type": "code",
      "source": [
        "make_list = list(df['make'].unique())\n",
        "hp = []\n",
        "for i in make_list:\n",
        "    x = df[df['make']==i]\n",
        "    hp_rate = sum(x.hp)/len(x)\n",
        "    hp.append(hp_rate)\n",
        "# sorting\n",
        "data = pd.DataFrame({'make_list': make_list,'hp':hp})\n",
        "new_index = (data['hp'].sort_values(ascending=True)).index.values\n",
        "sorted_data2 = data.reindex(new_index)\n",
        "# visualization\n",
        "plt.figure(figsize=(20,10))\n",
        "sns.barplot(x=sorted_data2['make_list'], y=sorted_data2['hp'])\n",
        "plt.xticks(rotation= 90)\n",
        "plt.xlabel('Make')\n",
        "plt.ylabel('HP')\n",
        "plt.title(\"Car Make and HP\")"
      ],
      "metadata": {
        "id": "DZ6Csacuau8Z",
        "colab": {
          "base_uri": "https://localhost:8080/",
          "height": 731
        },
        "outputId": "f05d755e-c35d-44c4-c00a-8f282fc8796c"
      },
      "execution_count": null,
      "outputs": [
        {
          "output_type": "execute_result",
          "data": {
            "text/plain": [
              "Text(0.5, 1.0, 'Car Make and HP')"
            ]
          },
          "metadata": {},
          "execution_count": 13
        },
        {
          "output_type": "display_data",
          "data": {
            "text/plain": [
              "<Figure size 1440x720 with 1 Axes>"
            ],
            "image/png": "[encoded data removed]"
          },
          "metadata": {
            "needs_background": "light"
          }
        }
      ]
    },
    {
      "cell_type": "code",
      "source": [
        "plt.figure(figsize=(10,7))\n",
        "sns.countplot(data=df, x='gear')\n",
        "plt.title('Number of Gear Type',color = 'blue',fontsize=15)"
      ],
      "metadata": {
        "colab": {
          "base_uri": "https://localhost:8080/",
          "height": 483
        },
        "id": "YehQ_dBPrFW8",
        "outputId": "1c3fb551-d3fa-4c3c-d66e-53a88771ff16"
      },
      "execution_count": null,
      "outputs": [
        {
          "output_type": "execute_result",
          "data": {
            "text/plain": [
              "Text(0.5, 1.0, 'Number of Gear Type')"
            ]
          },
          "metadata": {},
          "execution_count": 27
        },
        {
          "output_type": "display_data",
          "data": {
            "text/plain": [
              "<Figure size 720x504 with 1 Axes>"
            ],
            "image/png": "[encoded data removed]"
          },
          "metadata": {
            "needs_background": "light"
          }
        }
      ]
    },
    {
      "cell_type": "code",
      "source": [
        "df.isnull().values.any()"
      ],
      "metadata": {
        "id": "BYCFkGbYWaZC",
        "colab": {
          "base_uri": "https://localhost:8080/"
        },
        "outputId": "c2693bb9-116e-4747-b76d-f46c213597d4"
      },
      "execution_count": null,
      "outputs": [
        {
          "output_type": "execute_result",
          "data": {
            "text/plain": [
              "True"
            ]
          },
          "metadata": {},
          "execution_count": 14
        }
      ]
    },
    {
      "cell_type": "code",
      "source": [
        "df = df.dropna()"
      ],
      "metadata": {
        "id": "nKZ8zSn9WdDP"
      },
      "execution_count": null,
      "outputs": []
    },
    {
      "cell_type": "code",
      "source": [
        "df.isnull().sum()"
      ],
      "metadata": {
        "id": "JzwpZn-bWicn",
        "colab": {
          "base_uri": "https://localhost:8080/"
        },
        "outputId": "8d43fe91-00a9-44a5-a0d6-b2b357893ebe"
      },
      "execution_count": null,
      "outputs": [
        {
          "output_type": "execute_result",
          "data": {
            "text/plain": [
              "mileage      0\n",
              "make         0\n",
              "model        0\n",
              "fuel         0\n",
              "gear         0\n",
              "offerType    0\n",
              "price        0\n",
              "hp           0\n",
              "year         0\n",
              "dtype: int64"
            ]
          },
          "metadata": {},
          "execution_count": 16
        }
      ]
    },
    {
      "cell_type": "code",
      "source": [
        "df.shape[0]\n",
        "df = df.drop_duplicates(keep='first')\n",
        "df.shape[0]"
      ],
      "metadata": {
        "id": "oJP_cy10Idgi",
        "colab": {
          "base_uri": "https://localhost:8080/"
        },
        "outputId": "30462fd6-1863-41cc-87a9-ddd327cfeca1"
      },
      "execution_count": null,
      "outputs": [
        {
          "output_type": "execute_result",
          "data": {
            "text/plain": [
              "43947"
            ]
          },
          "metadata": {},
          "execution_count": 17
        }
      ]
    },
    {
      "cell_type": "code",
      "source": [
        "df.drop('year', axis=1, inplace=True)\n",
        "\n",
        "df.head()"
      ],
      "metadata": {
        "id": "6GRCOfmrXGSR",
        "colab": {
          "base_uri": "https://localhost:8080/",
          "height": 206
        },
        "outputId": "317d9942-1502-4ae6-d56e-96c683921145"
      },
      "execution_count": null,
      "outputs": [
        {
          "output_type": "execute_result",
          "data": {
            "text/plain": [
              "   mileage        make   model      fuel    gear offerType  price     hp\n",
              "0   235000         BMW     316    Diesel  Manual      Used   6800  116.0\n",
              "1    92800  Volkswagen    Golf  Gasoline  Manual      Used   6877  122.0\n",
              "2   149300        SEAT    Exeo  Gasoline  Manual      Used   6900  160.0\n",
              "3    96200     Renault  Megane  Gasoline  Manual      Used   6950  110.0\n",
              "4   156000     Peugeot     308  Gasoline  Manual      Used   6950  156.0"
            ],
            "text/html": [
              "\n",
              "  <div id=\"df-e6b93ce9-59a2-450d-bf6a-3cf7c43b5fd7\">\n",
              "    <div class=\"colab-df-container\">\n",
              "      <div>\n",
              "<style scoped>\n",
              "    .dataframe tbody tr th:only-of-type {\n",
              "        vertical-align: middle;\n",
              "    }\n",
              "\n",
              "    .dataframe tbody tr th {\n",
              "        vertical-align: top;\n",
              "    }\n",
              "\n",
              "    .dataframe thead th {\n",
              "        text-align: right;\n",
              "    }\n",
              "</style>\n",
              "<table border=\"1\" class=\"dataframe\">\n",
              "  <thead>\n",
              "    <tr style=\"text-align: right;\">\n",
              "      <th></th>\n",
              "      <th>mileage</th>\n",
              "      <th>make</th>\n",
              "      <th>model</th>\n",
              "      <th>fuel</th>\n",
              "      <th>gear</th>\n",
              "      <th>offerType</th>\n",
              "      <th>price</th>\n",
              "      <th>hp</th>\n",
              "    </tr>\n",
              "  </thead>\n",
              "  <tbody>\n",
              "    <tr>\n",
              "      <th>0</th>\n",
              "      <td>235000</td>\n",
              "      <td>BMW</td>\n",
              "      <td>316</td>\n",
              "      <td>Diesel</td>\n",
              "      <td>Manual</td>\n",
              "      <td>Used</td>\n",
              "      <td>6800</td>\n",
              "      <td>116.0</td>\n",
              "    </tr>\n",
              "    <tr>\n",
              "      <th>1</th>\n",
              "      <td>92800</td>\n",
              "      <td>Volkswagen</td>\n",
              "      <td>Golf</td>\n",
              "      <td>Gasoline</td>\n",
              "      <td>Manual</td>\n",
              "      <td>Used</td>\n",
              "      <td>6877</td>\n",
              "      <td>122.0</td>\n",
              "    </tr>\n",
              "    <tr>\n",
              "      <th>2</th>\n",
              "      <td>149300</td>\n",
              "      <td>SEAT</td>\n",
              "      <td>Exeo</td>\n",
              "      <td>Gasoline</td>\n",
              "      <td>Manual</td>\n",
              "      <td>Used</td>\n",
              "      <td>6900</td>\n",
              "      <td>160.0</td>\n",
              "    </tr>\n",
              "    <tr>\n",
              "      <th>3</th>\n",
              "      <td>96200</td>\n",
              "      <td>Renault</td>\n",
              "      <td>Megane</td>\n",
              "      <td>Gasoline</td>\n",
              "      <td>Manual</td>\n",
              "      <td>Used</td>\n",
              "      <td>6950</td>\n",
              "      <td>110.0</td>\n",
              "    </tr>\n",
              "    <tr>\n",
              "      <th>4</th>\n",
              "      <td>156000</td>\n",
              "      <td>Peugeot</td>\n",
              "      <td>308</td>\n",
              "      <td>Gasoline</td>\n",
              "      <td>Manual</td>\n",
              "      <td>Used</td>\n",
              "      <td>6950</td>\n",
              "      <td>156.0</td>\n",
              "    </tr>\n",
              "  </tbody>\n",
              "</table>\n",
              "</div>\n",
              "      <button class=\"colab-df-convert\" onclick=\"convertToInteractive('df-e6b93ce9-59a2-450d-bf6a-3cf7c43b5fd7')\"\n",
              "              title=\"Convert this dataframe to an interactive table.\"\n",
              "              style=\"display:none;\">\n",
              "        \n",
              "  <svg xmlns=\"http://www.w3.org/2000/svg\" height=\"24px\"viewBox=\"0 0 24 24\"\n",
              "       width=\"24px\">\n",
              "    <path d=\"M0 0h24v24H0V0z\" fill=\"none\"/>\n",
              "    <path d=\"M18.56 5.44l.94 2.06.94-2.06 2.06-.94-2.06-.94-.94-2.06-.94 2.06-2.06.94zm-11 1L8.5 8.5l.94-2.06 2.06-.94-2.06-.94L8.5 2.5l-.94 2.06-2.06.94zm10 10l.94 2.06.94-2.06 2.06-.94-2.06-.94-.94-2.06-.94 2.06-2.06.94z\"/><path d=\"M17.41 7.96l-1.37-1.37c-.4-.4-.92-.59-1.43-.59-.52 0-1.04.2-1.43.59L10.3 9.45l-7.72 7.72c-.78.78-.78 2.05 0 2.83L4 21.41c.39.39.9.59 1.41.59.51 0 1.02-.2 1.41-.59l7.78-7.78 2.81-2.81c.8-.78.8-2.07 0-2.86zM5.41 20L4 18.59l7.72-7.72 1.47 1.35L5.41 20z\"/>\n",
              "  </svg>\n",
              "      </button>\n",
              "      \n",
              "  <style>\n",
              "    .colab-df-container {\n",
              "      display:flex;\n",
              "      flex-wrap:wrap;\n",
              "      gap: 12px;\n",
              "    }\n",
              "\n",
              "    .colab-df-convert {\n",
              "      background-color: #E8F0FE;\n",
              "      border: none;\n",
              "      border-radius: 50%;\n",
              "      cursor: pointer;\n",
              "      display: none;\n",
              "      fill: #1967D2;\n",
              "      height: 32px;\n",
              "      padding: 0 0 0 0;\n",
              "      width: 32px;\n",
              "    }\n",
              "\n",
              "    .colab-df-convert:hover {\n",
              "      background-color: #E2EBFA;\n",
              "      box-shadow: 0px 1px 2px rgba(60, 64, 67, 0.3), 0px 1px 3px 1px rgba(60, 64, 67, 0.15);\n",
              "      fill: #174EA6;\n",
              "    }\n",
              "\n",
              "    [theme=dark] .colab-df-convert {\n",
              "      background-color: #3B4455;\n",
              "      fill: #D2E3FC;\n",
              "    }\n",
              "\n",
              "    [theme=dark] .colab-df-convert:hover {\n",
              "      background-color: #434B5C;\n",
              "      box-shadow: 0px 1px 3px 1px rgba(0, 0, 0, 0.15);\n",
              "      filter: drop-shadow(0px 1px 2px rgba(0, 0, 0, 0.3));\n",
              "      fill: #FFFFFF;\n",
              "    }\n",
              "  </style>\n",
              "\n",
              "      <script>\n",
              "        const buttonEl =\n",
              "          document.querySelector('#df-e6b93ce9-59a2-450d-bf6a-3cf7c43b5fd7 button.colab-df-convert');\n",
              "        buttonEl.style.display =\n",
              "          google.colab.kernel.accessAllowed ? 'block' : 'none';\n",
              "\n",
              "        async function convertToInteractive(key) {\n",
              "          const element = document.querySelector('#df-e6b93ce9-59a2-450d-bf6a-3cf7c43b5fd7');\n",
              "          const dataTable =\n",
              "            await google.colab.kernel.invokeFunction('convertToInteractive',\n",
              "                                                     [key], {});\n",
              "          if (!dataTable) return;\n",
              "\n",
              "          const docLinkHtml = 'Like what you see? Visit the ' +\n",
              "            '<a target=\"_blank\" href=https://colab.research.google.com/notebooks/data_table.ipynb>data table notebook</a>'\n",
              "            + ' to learn more about interactive tables.';\n",
              "          element.innerHTML = '';\n",
              "          dataTable['output_type'] = 'display_data';\n",
              "          await google.colab.output.renderOutput(dataTable, element);\n",
              "          const docLink = document.createElement('div');\n",
              "          docLink.innerHTML = docLinkHtml;\n",
              "          element.appendChild(docLink);\n",
              "        }\n",
              "      </script>\n",
              "    </div>\n",
              "  </div>\n",
              "  "
            ]
          },
          "metadata": {},
          "execution_count": 18
        }
      ]
    },
    {
      "cell_type": "code",
      "source": [
        "df.info()"
      ],
      "metadata": {
        "id": "tGQr6ORRJATw",
        "colab": {
          "base_uri": "https://localhost:8080/"
        },
        "outputId": "d1a2d2f7-89fd-4718-a9f9-5942b7a19158"
      },
      "execution_count": null,
      "outputs": [
        {
          "output_type": "stream",
          "name": "stdout",
          "text": [
            "<class 'pandas.core.frame.DataFrame'>\n",
            "Int64Index: 43947 entries, 0 to 46399\n",
            "Data columns (total 8 columns):\n",
            " #   Column     Non-Null Count  Dtype  \n",
            "---  ------     --------------  -----  \n",
            " 0   mileage    43947 non-null  int64  \n",
            " 1   make       43947 non-null  object \n",
            " 2   model      43947 non-null  object \n",
            " 3   fuel       43947 non-null  object \n",
            " 4   gear       43947 non-null  object \n",
            " 5   offerType  43947 non-null  object \n",
            " 6   price      43947 non-null  int64  \n",
            " 7   hp         43947 non-null  float64\n",
            "dtypes: float64(1), int64(2), object(5)\n",
            "memory usage: 3.0+ MB\n"
          ]
        }
      ]
    },
    {
      "cell_type": "code",
      "source": [
        "from sklearn.preprocessing import OrdinalEncoder\n",
        "enc = OrdinalEncoder()\n",
        "df[[\"make\",\"model\",\"fuel\",\"gear\", \"offerType\"]] = enc.fit_transform(df[[\"make\",\"model\",\"fuel\",\"gear\", \"offerType\"]])"
      ],
      "metadata": {
        "id": "LVTJ7fhiK6fB"
      },
      "execution_count": null,
      "outputs": []
    },
    {
      "cell_type": "code",
      "source": [
        "df.info()"
      ],
      "metadata": {
        "id": "RrY0gmJ5SObM",
        "colab": {
          "base_uri": "https://localhost:8080/"
        },
        "outputId": "f675cdc1-5ff3-4bce-f879-a8cf94fe456e"
      },
      "execution_count": null,
      "outputs": [
        {
          "output_type": "stream",
          "name": "stdout",
          "text": [
            "<class 'pandas.core.frame.DataFrame'>\n",
            "Int64Index: 43947 entries, 0 to 46399\n",
            "Data columns (total 8 columns):\n",
            " #   Column     Non-Null Count  Dtype  \n",
            "---  ------     --------------  -----  \n",
            " 0   mileage    43947 non-null  int64  \n",
            " 1   make       43947 non-null  float64\n",
            " 2   model      43947 non-null  float64\n",
            " 3   fuel       43947 non-null  float64\n",
            " 4   gear       43947 non-null  float64\n",
            " 5   offerType  43947 non-null  float64\n",
            " 6   price      43947 non-null  int64  \n",
            " 7   hp         43947 non-null  float64\n",
            "dtypes: float64(6), int64(2)\n",
            "memory usage: 3.0 MB\n"
          ]
        }
      ]
    }
  ]
}