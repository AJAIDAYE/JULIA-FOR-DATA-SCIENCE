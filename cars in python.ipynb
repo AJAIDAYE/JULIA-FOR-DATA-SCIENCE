{
 "cells": [
  {
   "cell_type": "code",
   "execution_count": 17,
   "metadata": {
    "id": "egKa1nN0zIi6"
   },
   "outputs": [],
   "source": [
    "import numpy as np\n",
    "import scipy\n",
    "import pandas as pd\n",
    "import matplotlib.pyplot as plt\n",
    "import seaborn as sns; sns.set()  # for plot styling\n",
    "import sklearn.linear_model, sklearn.datasets\n",
    "from sklearn.preprocessing import StandardScaler\n",
    "%matplotlib inline\n",
    "from sklearn.preprocessing import StandardScaler, PolynomialFeatures # We will be using the inbuilt preprocessing functions sklearn provides\n",
    "from sklearn.model_selection import train_test_split # A library that can automatically perform data splitting for us\n",
    "from sklearn.linear_model import Ridge, Lasso # Ridge & Lasso regression are types of linear model that use regularisation\n",
    "from sklearn.metrics import mean_squared_error # Allows us to use the MSE function without calling in sklearn each time\n",
    " # We will be importing a csv file I have provided for one section.\n",
    "import matplotlib.pyplot as plt # We will be using Matplotlib for our graphs\n",
    "from sklearn.model_selection import train_test_split # A library that can automatically perform data splitting for us\n",
    "from sklearn.metrics import mean_squared_error # Allows us to use the MSE function without calling in sklearn each time\n"
   ]
  },
  {
   "cell_type": "code",
   "execution_count": 18,
   "metadata": {
    "colab": {
     "base_uri": "https://localhost:8080/",
     "height": 108
    },
    "id": "FLP8-c4NzLOE",
    "outputId": "5c4a5db6-e453-483c-dd59-5e4a55e69fb5"
   },
   "outputs": [
    {
     "data": {
      "text/html": [
       "<div>\n",
       "<style scoped>\n",
       "    .dataframe tbody tr th:only-of-type {\n",
       "        vertical-align: middle;\n",
       "    }\n",
       "\n",
       "    .dataframe tbody tr th {\n",
       "        vertical-align: top;\n",
       "    }\n",
       "\n",
       "    .dataframe thead th {\n",
       "        text-align: right;\n",
       "    }\n",
       "</style>\n",
       "<table border=\"1\" class=\"dataframe\">\n",
       "  <thead>\n",
       "    <tr style=\"text-align: right;\">\n",
       "      <th></th>\n",
       "      <th>mileage</th>\n",
       "      <th>make</th>\n",
       "      <th>model</th>\n",
       "      <th>fuel</th>\n",
       "      <th>gear</th>\n",
       "      <th>offerType</th>\n",
       "      <th>price</th>\n",
       "      <th>hp</th>\n",
       "      <th>year</th>\n",
       "    </tr>\n",
       "  </thead>\n",
       "  <tbody>\n",
       "    <tr>\n",
       "      <th>0</th>\n",
       "      <td>235000</td>\n",
       "      <td>BMW</td>\n",
       "      <td>316</td>\n",
       "      <td>Diesel</td>\n",
       "      <td>Manual</td>\n",
       "      <td>Used</td>\n",
       "      <td>6800</td>\n",
       "      <td>116.0</td>\n",
       "      <td>2011</td>\n",
       "    </tr>\n",
       "    <tr>\n",
       "      <th>1</th>\n",
       "      <td>92800</td>\n",
       "      <td>Volkswagen</td>\n",
       "      <td>Golf</td>\n",
       "      <td>Gasoline</td>\n",
       "      <td>Manual</td>\n",
       "      <td>Used</td>\n",
       "      <td>6877</td>\n",
       "      <td>122.0</td>\n",
       "      <td>2011</td>\n",
       "    </tr>\n",
       "    <tr>\n",
       "      <th>2</th>\n",
       "      <td>149300</td>\n",
       "      <td>SEAT</td>\n",
       "      <td>Exeo</td>\n",
       "      <td>Gasoline</td>\n",
       "      <td>Manual</td>\n",
       "      <td>Used</td>\n",
       "      <td>6900</td>\n",
       "      <td>160.0</td>\n",
       "      <td>2011</td>\n",
       "    </tr>\n",
       "    <tr>\n",
       "      <th>3</th>\n",
       "      <td>96200</td>\n",
       "      <td>Renault</td>\n",
       "      <td>Megane</td>\n",
       "      <td>Gasoline</td>\n",
       "      <td>Manual</td>\n",
       "      <td>Used</td>\n",
       "      <td>6950</td>\n",
       "      <td>110.0</td>\n",
       "      <td>2011</td>\n",
       "    </tr>\n",
       "    <tr>\n",
       "      <th>4</th>\n",
       "      <td>156000</td>\n",
       "      <td>Peugeot</td>\n",
       "      <td>308</td>\n",
       "      <td>Gasoline</td>\n",
       "      <td>Manual</td>\n",
       "      <td>Used</td>\n",
       "      <td>6950</td>\n",
       "      <td>156.0</td>\n",
       "      <td>2011</td>\n",
       "    </tr>\n",
       "    <tr>\n",
       "      <th>...</th>\n",
       "      <td>...</td>\n",
       "      <td>...</td>\n",
       "      <td>...</td>\n",
       "      <td>...</td>\n",
       "      <td>...</td>\n",
       "      <td>...</td>\n",
       "      <td>...</td>\n",
       "      <td>...</td>\n",
       "      <td>...</td>\n",
       "    </tr>\n",
       "    <tr>\n",
       "      <th>46400</th>\n",
       "      <td>99</td>\n",
       "      <td>Fiat</td>\n",
       "      <td>500</td>\n",
       "      <td>Electric/Gasoline</td>\n",
       "      <td>Manual</td>\n",
       "      <td>Pre-registered</td>\n",
       "      <td>12990</td>\n",
       "      <td>71.0</td>\n",
       "      <td>2021</td>\n",
       "    </tr>\n",
       "    <tr>\n",
       "      <th>46401</th>\n",
       "      <td>99</td>\n",
       "      <td>Fiat</td>\n",
       "      <td>500</td>\n",
       "      <td>Electric/Gasoline</td>\n",
       "      <td>Manual</td>\n",
       "      <td>Pre-registered</td>\n",
       "      <td>12990</td>\n",
       "      <td>71.0</td>\n",
       "      <td>2021</td>\n",
       "    </tr>\n",
       "    <tr>\n",
       "      <th>46402</th>\n",
       "      <td>99</td>\n",
       "      <td>Fiat</td>\n",
       "      <td>500</td>\n",
       "      <td>Electric/Gasoline</td>\n",
       "      <td>Manual</td>\n",
       "      <td>Pre-registered</td>\n",
       "      <td>12990</td>\n",
       "      <td>71.0</td>\n",
       "      <td>2021</td>\n",
       "    </tr>\n",
       "    <tr>\n",
       "      <th>46403</th>\n",
       "      <td>99</td>\n",
       "      <td>Fiat</td>\n",
       "      <td>500</td>\n",
       "      <td>Electric/Gasoline</td>\n",
       "      <td>Manual</td>\n",
       "      <td>Pre-registered</td>\n",
       "      <td>12990</td>\n",
       "      <td>71.0</td>\n",
       "      <td>2021</td>\n",
       "    </tr>\n",
       "    <tr>\n",
       "      <th>46404</th>\n",
       "      <td>99</td>\n",
       "      <td>Fiat</td>\n",
       "      <td>500</td>\n",
       "      <td>Electric/Gasoline</td>\n",
       "      <td>Manual</td>\n",
       "      <td>Pre-registered</td>\n",
       "      <td>12990</td>\n",
       "      <td>71.0</td>\n",
       "      <td>2021</td>\n",
       "    </tr>\n",
       "  </tbody>\n",
       "</table>\n",
       "<p>46405 rows × 9 columns</p>\n",
       "</div>"
      ],
      "text/plain": [
       "       mileage        make   model               fuel    gear       offerType  \\\n",
       "0       235000         BMW     316             Diesel  Manual            Used   \n",
       "1        92800  Volkswagen    Golf           Gasoline  Manual            Used   \n",
       "2       149300        SEAT    Exeo           Gasoline  Manual            Used   \n",
       "3        96200     Renault  Megane           Gasoline  Manual            Used   \n",
       "4       156000     Peugeot     308           Gasoline  Manual            Used   \n",
       "...        ...         ...     ...                ...     ...             ...   \n",
       "46400       99        Fiat     500  Electric/Gasoline  Manual  Pre-registered   \n",
       "46401       99        Fiat     500  Electric/Gasoline  Manual  Pre-registered   \n",
       "46402       99        Fiat     500  Electric/Gasoline  Manual  Pre-registered   \n",
       "46403       99        Fiat     500  Electric/Gasoline  Manual  Pre-registered   \n",
       "46404       99        Fiat     500  Electric/Gasoline  Manual  Pre-registered   \n",
       "\n",
       "       price     hp  year  \n",
       "0       6800  116.0  2011  \n",
       "1       6877  122.0  2011  \n",
       "2       6900  160.0  2011  \n",
       "3       6950  110.0  2011  \n",
       "4       6950  156.0  2011  \n",
       "...      ...    ...   ...  \n",
       "46400  12990   71.0  2021  \n",
       "46401  12990   71.0  2021  \n",
       "46402  12990   71.0  2021  \n",
       "46403  12990   71.0  2021  \n",
       "46404  12990   71.0  2021  \n",
       "\n",
       "[46405 rows x 9 columns]"
      ]
     },
     "metadata": {},
     "output_type": "display_data"
    },
    {
     "name": "stdout",
     "output_type": "stream",
     "text": [
      "Execution time: 0.06296133995056152 seconds\n"
     ]
    }
   ],
   "source": [
    "import time\n",
    "start = time.time()\n",
    "housingData = pd.read_csv(\"C:\\\\Users\\\\ASUS\\\\OneDrive\\\\Desktop\\\\Data Science\\\\Project\\\\autoscout24_germany_dataset.csv\")\n",
    "# This file has all the data elements constructed already, so we can just put the entire thing into the 'data=' \n",
    "df = pd.DataFrame(data= housingData)\n",
    "\n",
    "# show the data\n",
    "display(df) \n",
    "end = time.time()\n",
    "print('Execution time:', (end-start), 'seconds')"
   ]
  },
  {
   "cell_type": "code",
   "execution_count": 19,
   "metadata": {
    "colab": {
     "base_uri": "https://localhost:8080/",
     "height": 427
    },
    "id": "gUF-16vNzOg3",
    "outputId": "e87f2d03-7b65-4ff7-a499-b923d0f8dff8"
   },
   "outputs": [
    {
     "data": {
      "text/html": [
       "<div>\n",
       "<style scoped>\n",
       "    .dataframe tbody tr th:only-of-type {\n",
       "        vertical-align: middle;\n",
       "    }\n",
       "\n",
       "    .dataframe tbody tr th {\n",
       "        vertical-align: top;\n",
       "    }\n",
       "\n",
       "    .dataframe thead th {\n",
       "        text-align: right;\n",
       "    }\n",
       "</style>\n",
       "<table border=\"1\" class=\"dataframe\">\n",
       "  <thead>\n",
       "    <tr style=\"text-align: right;\">\n",
       "      <th></th>\n",
       "      <th>mileage</th>\n",
       "      <th>make</th>\n",
       "      <th>model</th>\n",
       "      <th>fuel</th>\n",
       "      <th>gear</th>\n",
       "      <th>offerType</th>\n",
       "      <th>price</th>\n",
       "      <th>hp</th>\n",
       "      <th>year</th>\n",
       "    </tr>\n",
       "  </thead>\n",
       "  <tbody>\n",
       "    <tr>\n",
       "      <th>0</th>\n",
       "      <td>235000</td>\n",
       "      <td>BMW</td>\n",
       "      <td>316</td>\n",
       "      <td>Diesel</td>\n",
       "      <td>Manual</td>\n",
       "      <td>Used</td>\n",
       "      <td>6800</td>\n",
       "      <td>116.0</td>\n",
       "      <td>2011</td>\n",
       "    </tr>\n",
       "    <tr>\n",
       "      <th>1</th>\n",
       "      <td>92800</td>\n",
       "      <td>Volkswagen</td>\n",
       "      <td>Golf</td>\n",
       "      <td>Gasoline</td>\n",
       "      <td>Manual</td>\n",
       "      <td>Used</td>\n",
       "      <td>6877</td>\n",
       "      <td>122.0</td>\n",
       "      <td>2011</td>\n",
       "    </tr>\n",
       "    <tr>\n",
       "      <th>2</th>\n",
       "      <td>149300</td>\n",
       "      <td>SEAT</td>\n",
       "      <td>Exeo</td>\n",
       "      <td>Gasoline</td>\n",
       "      <td>Manual</td>\n",
       "      <td>Used</td>\n",
       "      <td>6900</td>\n",
       "      <td>160.0</td>\n",
       "      <td>2011</td>\n",
       "    </tr>\n",
       "    <tr>\n",
       "      <th>3</th>\n",
       "      <td>96200</td>\n",
       "      <td>Renault</td>\n",
       "      <td>Megane</td>\n",
       "      <td>Gasoline</td>\n",
       "      <td>Manual</td>\n",
       "      <td>Used</td>\n",
       "      <td>6950</td>\n",
       "      <td>110.0</td>\n",
       "      <td>2011</td>\n",
       "    </tr>\n",
       "    <tr>\n",
       "      <th>4</th>\n",
       "      <td>156000</td>\n",
       "      <td>Peugeot</td>\n",
       "      <td>308</td>\n",
       "      <td>Gasoline</td>\n",
       "      <td>Manual</td>\n",
       "      <td>Used</td>\n",
       "      <td>6950</td>\n",
       "      <td>156.0</td>\n",
       "      <td>2011</td>\n",
       "    </tr>\n",
       "    <tr>\n",
       "      <th>5</th>\n",
       "      <td>147000</td>\n",
       "      <td>Toyota</td>\n",
       "      <td>Auris</td>\n",
       "      <td>Electric/Gasoline</td>\n",
       "      <td>Automatic</td>\n",
       "      <td>Used</td>\n",
       "      <td>6950</td>\n",
       "      <td>99.0</td>\n",
       "      <td>2011</td>\n",
       "    </tr>\n",
       "    <tr>\n",
       "      <th>6</th>\n",
       "      <td>91894</td>\n",
       "      <td>Renault</td>\n",
       "      <td>Scenic</td>\n",
       "      <td>Diesel</td>\n",
       "      <td>Manual</td>\n",
       "      <td>Used</td>\n",
       "      <td>6970</td>\n",
       "      <td>131.0</td>\n",
       "      <td>2011</td>\n",
       "    </tr>\n",
       "    <tr>\n",
       "      <th>7</th>\n",
       "      <td>127500</td>\n",
       "      <td>Opel</td>\n",
       "      <td>Zafira</td>\n",
       "      <td>Gasoline</td>\n",
       "      <td>Manual</td>\n",
       "      <td>Used</td>\n",
       "      <td>6972</td>\n",
       "      <td>116.0</td>\n",
       "      <td>2011</td>\n",
       "    </tr>\n",
       "    <tr>\n",
       "      <th>8</th>\n",
       "      <td>115000</td>\n",
       "      <td>Mazda</td>\n",
       "      <td>3</td>\n",
       "      <td>Gasoline</td>\n",
       "      <td>Automatic</td>\n",
       "      <td>Used</td>\n",
       "      <td>6980</td>\n",
       "      <td>150.0</td>\n",
       "      <td>2011</td>\n",
       "    </tr>\n",
       "    <tr>\n",
       "      <th>9</th>\n",
       "      <td>104</td>\n",
       "      <td>Ford</td>\n",
       "      <td>Transit</td>\n",
       "      <td>Diesel</td>\n",
       "      <td>Manual</td>\n",
       "      <td>Used</td>\n",
       "      <td>6990</td>\n",
       "      <td>86.0</td>\n",
       "      <td>2011</td>\n",
       "    </tr>\n",
       "  </tbody>\n",
       "</table>\n",
       "</div>"
      ],
      "text/plain": [
       "   mileage        make    model               fuel       gear offerType  \\\n",
       "0   235000         BMW      316             Diesel     Manual      Used   \n",
       "1    92800  Volkswagen     Golf           Gasoline     Manual      Used   \n",
       "2   149300        SEAT     Exeo           Gasoline     Manual      Used   \n",
       "3    96200     Renault   Megane           Gasoline     Manual      Used   \n",
       "4   156000     Peugeot      308           Gasoline     Manual      Used   \n",
       "5   147000      Toyota    Auris  Electric/Gasoline  Automatic      Used   \n",
       "6    91894     Renault   Scenic             Diesel     Manual      Used   \n",
       "7   127500        Opel   Zafira           Gasoline     Manual      Used   \n",
       "8   115000       Mazda        3           Gasoline  Automatic      Used   \n",
       "9      104        Ford  Transit             Diesel     Manual      Used   \n",
       "\n",
       "   price     hp  year  \n",
       "0   6800  116.0  2011  \n",
       "1   6877  122.0  2011  \n",
       "2   6900  160.0  2011  \n",
       "3   6950  110.0  2011  \n",
       "4   6950  156.0  2011  \n",
       "5   6950   99.0  2011  \n",
       "6   6970  131.0  2011  \n",
       "7   6972  116.0  2011  \n",
       "8   6980  150.0  2011  \n",
       "9   6990   86.0  2011  "
      ]
     },
     "execution_count": 19,
     "metadata": {},
     "output_type": "execute_result"
    }
   ],
   "source": [
    "df.head(10)"
   ]
  },
  {
   "cell_type": "code",
   "execution_count": 20,
   "metadata": {
    "colab": {
     "base_uri": "https://localhost:8080/"
    },
    "id": "0TnJ5Z8u0FGT",
    "outputId": "d1fe8ef1-fee5-474f-daff-0991c46acb04"
   },
   "outputs": [
    {
     "name": "stdout",
     "output_type": "stream",
     "text": [
      "       mileage        make   model               fuel    gear       offerType  \\\n",
      "0       235000         BMW     316             Diesel  Manual            Used   \n",
      "1        92800  Volkswagen    Golf           Gasoline  Manual            Used   \n",
      "2       149300        SEAT    Exeo           Gasoline  Manual            Used   \n",
      "3        96200     Renault  Megane           Gasoline  Manual            Used   \n",
      "4       156000     Peugeot     308           Gasoline  Manual            Used   \n",
      "...        ...         ...     ...                ...     ...             ...   \n",
      "46400       99        Fiat     500  Electric/Gasoline  Manual  Pre-registered   \n",
      "46401       99        Fiat     500  Electric/Gasoline  Manual  Pre-registered   \n",
      "46402       99        Fiat     500  Electric/Gasoline  Manual  Pre-registered   \n",
      "46403       99        Fiat     500  Electric/Gasoline  Manual  Pre-registered   \n",
      "46404       99        Fiat     500  Electric/Gasoline  Manual  Pre-registered   \n",
      "\n",
      "       price     hp  year  \n",
      "0       6800  116.0  2011  \n",
      "1       6877  122.0  2011  \n",
      "2       6900  160.0  2011  \n",
      "3       6950  110.0  2011  \n",
      "4       6950  156.0  2011  \n",
      "...      ...    ...   ...  \n",
      "46400  12990   71.0  2021  \n",
      "46401  12990   71.0  2021  \n",
      "46402  12990   71.0  2021  \n",
      "46403  12990   71.0  2021  \n",
      "46404  12990   71.0  2021  \n",
      "\n",
      "[46071 rows x 9 columns]\n"
     ]
    }
   ],
   "source": [
    "df = df.dropna()\n",
    "print(df)\n"
   ]
  },
  {
   "cell_type": "code",
   "execution_count": 21,
   "metadata": {
    "id": "sUWIpPEFzUYc"
   },
   "outputs": [],
   "source": [
    "X = df.drop(['gear', 'make', 'model', 'offerType', 'fuel'], axis = 1)\n",
    "y = df['gear']\n",
    "from sklearn import preprocessing"
   ]
  },
  {
   "cell_type": "code",
   "execution_count": null,
   "metadata": {
    "id": "TuqKOy7BMevG"
   },
   "outputs": [],
   "source": []
  },
  {
   "cell_type": "code",
   "execution_count": 22,
   "metadata": {
    "id": "ErPANJRW01K3"
   },
   "outputs": [],
   "source": [
    "from sklearn.preprocessing import OrdinalEncoder\n",
    "enc = OrdinalEncoder()\n",
    "df[[\"make\",\"model\",\"fuel\",\"gear\", \"offerType\"]] = enc.fit_transform(df[[\"make\",\"model\",\"fuel\",\"gear\", \"offerType\"]])"
   ]
  },
  {
   "cell_type": "code",
   "execution_count": 23,
   "metadata": {
    "id": "qDfA-vOnzfTA"
   },
   "outputs": [],
   "source": [
    "X = df.apply(lambda col: preprocessing.LabelEncoder().fit_transform(col))\n",
    "y = df.apply(lambda col: preprocessing.LabelEncoder().fit_transform(col))\n",
    "X=X.drop(['model','gear'],axis=1)\n",
    "y=df['gear']"
   ]
  },
  {
   "cell_type": "code",
   "execution_count": 24,
   "metadata": {
    "colab": {
     "base_uri": "https://localhost:8080/"
    },
    "id": "NGpYK9SHzu1D",
    "outputId": "642f3a21-10f9-47b8-9590-951a6d2da918"
   },
   "outputs": [
    {
     "name": "stdout",
     "output_type": "stream",
     "text": [
      "Chosen best 15 feature by rfe: Index(['mileage', 'make', 'fuel', 'offerType', 'price', 'hp', 'year'], dtype='object')\n"
     ]
    }
   ],
   "source": [
    "from sklearn.ensemble import RandomForestRegressor\n",
    "from sklearn.feature_selection import RFE\n",
    "clf_rf_3 = RandomForestRegressor()      \n",
    "rfe = RFE(estimator=clf_rf_3, n_features_to_select=15, step=1)\n",
    "rfe = rfe.fit(X, y)\n",
    "print('Chosen best 15 feature by rfe:',X.columns[rfe.support_])"
   ]
  },
  {
   "cell_type": "code",
   "execution_count": 25,
   "metadata": {
    "id": "n003gDehzw8j"
   },
   "outputs": [],
   "source": [
    "features=list(X.columns[rfe.support_])"
   ]
  },
  {
   "cell_type": "code",
   "execution_count": 26,
   "metadata": {
    "id": "aFrNzpve1DB-"
   },
   "outputs": [],
   "source": [
    "x = X[features]\n",
    "y = df.gear\n",
    "x_train,x_test,y_train,y_test = train_test_split(x,y, random_state = 0)"
   ]
  },
  {
   "cell_type": "markdown",
   "metadata": {
    "id": "GDzhqpe4bihp"
   },
   "source": [
    "#Linear Regresson"
   ]
  },
  {
   "cell_type": "code",
   "execution_count": 27,
   "metadata": {
    "colab": {
     "base_uri": "https://localhost:8080/"
    },
    "id": "-gWdXIL51KDv",
    "outputId": "f92e015a-556b-446c-d94f-e33cb1328a99"
   },
   "outputs": [
    {
     "name": "stdout",
     "output_type": "stream",
     "text": [
      "0.4205099943944124\n",
      "Execution time: 0.014997482299804688 seconds\n"
     ]
    }
   ],
   "source": [
    "import time\n",
    "start = time.time()\n",
    "from sklearn import linear_model\n",
    "lreg = linear_model.LinearRegression()\n",
    "lreg.fit(x_train,y_train)\n",
    "y_train_pred = lreg.predict(x_train)\n",
    "y_test_pred = lreg.predict(x_test)\n",
    "A =lreg.score(x_test,y_test)\n",
    "print(A)\n",
    "end = time.time()\n",
    "print('Execution time:', (end-start), 'seconds')"
   ]
  },
  {
   "cell_type": "code",
   "execution_count": 28,
   "metadata": {
    "colab": {
     "base_uri": "https://localhost:8080/"
    },
    "id": "Pph8KdJy1Mdk",
    "outputId": "dd56988f-73c1-480d-f1fe-2884e8cfdba4"
   },
   "outputs": [
    {
     "name": "stdout",
     "output_type": "stream",
     "text": [
      "0.2178619073966387\n",
      "Execution time: 0.16406679153442383 seconds\n"
     ]
    }
   ],
   "source": [
    "import time\n",
    "start = time.time()\n",
    "from sklearn.tree import DecisionTreeRegressor\n",
    "dt_regressor = DecisionTreeRegressor(random_state=0)\n",
    "dt_regressor.fit(x_train,y_train)\n",
    "y_train_pred = dt_regressor.predict(x_train)\n",
    "y_test_pred = dt_regressor.predict(x_test)\n",
    "B=dt_regressor.score(x_test,y_test)\n",
    "print(B)\n",
    "end = time.time()\n",
    "print('Execution time:', (end-start), 'seconds')"
   ]
  },
  {
   "cell_type": "code",
   "execution_count": 29,
   "metadata": {
    "colab": {
     "base_uri": "https://localhost:8080/"
    },
    "id": "yQahpdAc1Ptv",
    "outputId": "b504fa8f-3e85-408d-8dcd-a137a9085bf1"
   },
   "outputs": [
    {
     "name": "stdout",
     "output_type": "stream",
     "text": [
      "0.5502187357198658\n",
      "Execution time: 0.27822160720825195 seconds\n"
     ]
    }
   ],
   "source": [
    "import time\n",
    "start = time.time()\n",
    "Rf = RandomForestRegressor(n_estimators = 15,\n",
    "                              criterion = 'mse',\n",
    "                              random_state = 20,\n",
    "                              n_jobs = -1)\n",
    "Rf.fit(x_train,y_train)\n",
    "Rf_train_pred = Rf.predict(x_train)\n",
    "Rf_test_pred = Rf.predict(x_test)\n",
    "\n",
    "from sklearn.metrics import r2_score\n",
    "r2_score=r2_score(y_test,Rf_test_pred)\n",
    "print(r2_score)\n",
    "end = time.time()\n",
    "print('Execution time:', (end-start), 'seconds')"
   ]
  },
  {
   "cell_type": "markdown",
   "metadata": {
    "id": "tXR-5vyxbqmQ"
   },
   "source": [
    "#Decision Tree Classification"
   ]
  },
  {
   "cell_type": "code",
   "execution_count": 30,
   "metadata": {
    "colab": {
     "base_uri": "https://localhost:8080/",
     "height": 669
    },
    "id": "mrSB2bIR1TQr",
    "outputId": "4464a812-7841-4c54-f3eb-d55c9e9ba4ee"
   },
   "outputs": [
    {
     "name": "stdout",
     "output_type": "stream",
     "text": [
      "Accuracy: 0.8383\n",
      "Confusion matrix:  [[2.53863518e-01 9.37662789e-02 0.00000000e+00]\n",
      " [6.69387046e-02 5.84389651e-01 0.00000000e+00]\n",
      " [4.34103143e-04 6.07744400e-04 0.00000000e+00]]\n",
      "              precision    recall  f1-score   support\n",
      "\n",
      "         0.0       0.79      0.73      0.76      4004\n",
      "         1.0       0.86      0.90      0.88      7502\n",
      "         2.0       0.00      0.00      0.00        12\n",
      "\n",
      "    accuracy                           0.84     11518\n",
      "   macro avg       0.55      0.54      0.55     11518\n",
      "weighted avg       0.84      0.84      0.84     11518\n",
      "\n",
      "Execution time: 0.1700429916381836 seconds\n"
     ]
    },
    {
     "name": "stderr",
     "output_type": "stream",
     "text": [
      "C:\\Users\\ASUS\\anaconda3\\lib\\site-packages\\sklearn\\metrics\\_classification.py:1245: UndefinedMetricWarning: Precision and F-score are ill-defined and being set to 0.0 in labels with no predicted samples. Use `zero_division` parameter to control this behavior.\n",
      "  _warn_prf(average, modifier, msg_start, len(result))\n",
      "C:\\Users\\ASUS\\anaconda3\\lib\\site-packages\\sklearn\\metrics\\_classification.py:1245: UndefinedMetricWarning: Precision and F-score are ill-defined and being set to 0.0 in labels with no predicted samples. Use `zero_division` parameter to control this behavior.\n",
      "  _warn_prf(average, modifier, msg_start, len(result))\n",
      "C:\\Users\\ASUS\\anaconda3\\lib\\site-packages\\sklearn\\metrics\\_classification.py:1245: UndefinedMetricWarning: Precision and F-score are ill-defined and being set to 0.0 in labels with no predicted samples. Use `zero_division` parameter to control this behavior.\n",
      "  _warn_prf(average, modifier, msg_start, len(result))\n"
     ]
    },
    {
     "data": {
      "image/png": "[encoded data removed]",
      "text/plain": [
       "<Figure size 432x288 with 2 Axes>"
      ]
     },
     "metadata": {
      "needs_background": "light"
     },
     "output_type": "display_data"
    }
   ],
   "source": [
    "import time\n",
    "start = time.time()\n",
    "from sklearn.tree import DecisionTreeClassifier\n",
    "obj = DecisionTreeClassifier(min_samples_split=2, min_samples_leaf=9,random_state=40)\n",
    "\n",
    "# Train the model using the training sets\n",
    "obj.fit(x_train, y_train)\n",
    "\n",
    "# Make predictions using the testing set\n",
    "y_new_pred = obj.predict(x_test)\n",
    "\n",
    "# The accuracy score: 1 for perfect prediction\n",
    "print('Accuracy: {:.4f}'.format(sklearn.metrics.accuracy_score(y_test, y_new_pred)))\n",
    "# Confusion matrix\n",
    "confusion_mat = sklearn.metrics.confusion_matrix(y_test, y_new_pred, normalize='all')\n",
    "print('Confusion matrix: ', confusion_mat)\n",
    "# Visualize the confusion matrix\n",
    "sklearn.metrics.ConfusionMatrixDisplay(confusion_mat, display_labels=['Manual', 'Semi-Automatic', 'Automatic']).plot(cmap=plt.cm.Blues)\n",
    "plt.grid(False)\n",
    "# The classification report, which contains accuracy, precision, recall, F1 score\n",
    "print(sklearn.metrics.classification_report(y_test, y_new_pred))\n",
    "end = time.time()\n",
    "print('Execution time:', (end-start), 'seconds')"
   ]
  },
  {
   "cell_type": "markdown",
   "metadata": {
    "id": "FS9hVWClbzsM"
   },
   "source": [
    "#Random Forest Classification"
   ]
  },
  {
   "cell_type": "code",
   "execution_count": 31,
   "metadata": {
    "colab": {
     "base_uri": "https://localhost:8080/"
    },
    "id": "0qbIzWCE1Y-a",
    "outputId": "3c90f0ff-2775-4d0a-b10d-5421df06bef9"
   },
   "outputs": [
    {
     "name": "stdout",
     "output_type": "stream",
     "text": [
      "Test accuracy: 0.83\n",
      "Execution time: 1.1350092887878418 seconds\n"
     ]
    }
   ],
   "source": [
    "import time\n",
    "start = time.time()\n",
    "from sklearn.ensemble import RandomForestClassifier\n",
    "\n",
    "\n",
    "# Create a random forest classifier\n",
    "clf = RandomForestClassifier(n_estimators=100, max_depth=4)\n",
    "\n",
    "# Train the classifier on the training data\n",
    "clf.fit(x_train, y_train)\n",
    "\n",
    "# Test the classifier on the test data\n",
    "accuracy = clf.score(x_test, y_test)\n",
    "print(f'Test accuracy: {accuracy:.2f}')\n",
    "end = time.time()\n",
    "print('Execution time:', (end-start), 'seconds')"
   ]
  },
  {
   "cell_type": "markdown",
   "metadata": {
    "id": "omYtJypSb7fl"
   },
   "source": [
    "#Logistic Regression"
   ]
  },
  {
   "cell_type": "code",
   "execution_count": 32,
   "metadata": {
    "colab": {
     "base_uri": "https://localhost:8080/"
    },
    "id": "4M-LQdfP1buk",
    "outputId": "f457aa6a-3810-495f-b59c-a3a7fd104126"
   },
   "outputs": [
    {
     "name": "stdout",
     "output_type": "stream",
     "text": [
      "Test accuracy: 0.81\n",
      "Execution time: 2.3575406074523926 seconds\n"
     ]
    }
   ],
   "source": [
    "import time\n",
    "start = time.time()\n",
    "from sklearn.linear_model import LogisticRegression\n",
    "# Create a logistic regression classifier\n",
    "clf = LogisticRegression(max_iter=1000)\n",
    "\n",
    "# Train the classifier on the training data\n",
    "clf.fit(x_train, y_train)\n",
    "\n",
    "# Test the classifier on the test data\n",
    "accuracy = clf.score(x_test, y_test)\n",
    "print(f'Test accuracy: {accuracy:.2f}')\n",
    "end = time.time()\n",
    "print('Execution time:', (end-start), 'seconds')"
   ]
  }
 ],
 "metadata": {
  "colab": {
   "provenance": []
  },
  "kernelspec": {
   "display_name": "Python 3",
   "language": "python",
   "name": "python3"
  },
  "language_info": {
   "codemirror_mode": {
    "name": "ipython",
    "version": 3
   },
   "file_extension": ".py",
   "mimetype": "text/x-python",
   "name": "python",
   "nbconvert_exporter": "python",
   "pygments_lexer": "ipython3",
   "version": "3.8.8"
  }
 },
 "nbformat": 4,
 "nbformat_minor": 1
}
